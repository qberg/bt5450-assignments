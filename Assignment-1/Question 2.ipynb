{
 "cells": [
  {
   "cell_type": "markdown",
   "id": "stock-showcase",
   "metadata": {},
   "source": [
    "# 2.Total possible permutations for the three different patterns:"
   ]
  },
  {
   "cell_type": "code",
   "execution_count": 1,
   "id": "alternate-plymouth",
   "metadata": {},
   "outputs": [],
   "source": [
    "import numpy as np\n",
    "import matplotlib.pyplot as plt\n",
    "import networkx as nx\n",
    "import numpy.linalg as la"
   ]
  },
  {
   "cell_type": "markdown",
   "id": "empirical-weather",
   "metadata": {},
   "source": [
    "### Task 1: Representation of Graph as Adjacency Matrix.\n",
    "\n",
    "By using an adjacency matrix we can represent our graph as a np-array of size nxn. Where n is the number of vertices. The various entries of the matrix will be 1 if there is an edge connecting two vertices and 0 else. "
   ]
  },
  {
   "cell_type": "code",
   "execution_count": 2,
   "id": "shared-institute",
   "metadata": {},
   "outputs": [],
   "source": [
    "#Defining a class to represent the graph as an adjacency matrix.\n",
    "class Graph:\n",
    "    def __init__(self):\n",
    "        #self.n = num_of_vertices\n",
    "        self.vertices = []  #An attribute for the list of vertices.\n",
    "        self.n = 0  #An attribute for the number of vertices in the graph.\n",
    "        self.adj_mat = None  #An attribute for the adjacency matrix.\n",
    "\n",
    "    def add_vertice(self, v):\n",
    "        #A function that adds vertices to the list self.vertices.\n",
    "        if v not in self.vertices:\n",
    "            self.vertices.append(v)\n",
    "            print('The vertice %d has been added to the graph.' % v)\n",
    "        else:\n",
    "            print('The vertice %d already exists.' % v)\n",
    "\n",
    "    def def_adj_mat(self):\n",
    "        #Run this once all the vertices are added.\n",
    "        self.n = len(self.vertices)\n",
    "        self.adj_mat = np.zeros((self.n, self.n))  #An nxn matrix of all zeros.\n",
    "\n",
    "    def update_adj_mat(self, index1, index2):\n",
    "        self.adj_mat[index1][index2] = 1\n",
    "        self.adj_mat[index2][index1] = 1\n",
    "\n",
    "    def add_edge(self, v1, v2):\n",
    "        #A function that adds edges to the graph whose vertices are stored in self.vertices.\n",
    "        if all(v in self.vertices for v in [v1, v2]):\n",
    "            i1 = self.vertices.index(v1)\n",
    "            i2 = self.vertices.index(v2)\n",
    "            self.update_adj_mat(i1, i2)\n",
    "            #print(self.adj_mat)\n",
    "            #print('An edge between %d and %d has been added.'%(v1,v2))\n",
    "        else:\n",
    "            print(\n",
    "                'The specified edge cannot be added as there is no such vertices.'\n",
    "            )\n",
    "\n",
    "    def neighbors(self, v):\n",
    "        #A function that returns the neighbors of the vertex v as a list.\n",
    "        row = v - 1\n",
    "        adj = [col + 1 for col in np.where(self.adj_mat[row])]\n",
    "        adj_list = adj[0].tolist()\n",
    "        return adj_list\n",
    "\n",
    "    def count_paths(self, k):\n",
    "        #A function to count the number of paths of length k.\n",
    "        M = la.matrix_power(self.adj_mat, k)  #M = A**k\n",
    "        print(M)\n",
    "        paths = np.sum(M)\n",
    "        return paths\n",
    "\n",
    "    def visualize_graph(self,\n",
    "                        graph_layout='shell',\n",
    "                        node_size=1600,\n",
    "                        node_color='blue',\n",
    "                        node_alpha=0.3,\n",
    "                        node_text_size=12,\n",
    "                        edge_color='blue',\n",
    "                        edge_alpha=0.3,\n",
    "                        edge_tickness=1,\n",
    "                        edge_text_pos=0.3,\n",
    "                        text_font='sans-serif'):\n",
    "        rows, cols = np.where(self.adj_mat == 1)\n",
    "        edges = zip(rows.tolist(), cols.tolist())\n",
    "        G = nx.Graph()\n",
    "        G.add_edges_from(edges)\n",
    "        G_labels = dict((v - 1, v) for v in self.vertices)\n",
    "        nx.draw(G, labels=G_labels, with_labels=True)\n",
    "        plt.show()"
   ]
  },
  {
   "cell_type": "markdown",
   "id": "confident-bulletin",
   "metadata": {},
   "source": [
    "### Test case of 3x3 grid: Answer should be 389112 as mentioned in the question."
   ]
  },
  {
   "cell_type": "markdown",
   "id": "normal-suicide",
   "metadata": {},
   "source": [
    "![](https://toolbox.iskysoft.com/images/topic/android-pattern-lock-ideas.jpg)"
   ]
  },
  {
   "cell_type": "code",
   "execution_count": 3,
   "id": "hindu-finder",
   "metadata": {},
   "outputs": [
    {
     "name": "stdout",
     "output_type": "stream",
     "text": [
      "The vertice 1 has been added to the graph.\n",
      "The vertice 2 has been added to the graph.\n",
      "The vertice 3 has been added to the graph.\n",
      "The vertice 4 has been added to the graph.\n",
      "The vertice 5 has been added to the graph.\n",
      "The vertice 6 has been added to the graph.\n",
      "The vertice 7 has been added to the graph.\n",
      "The vertice 8 has been added to the graph.\n",
      "The vertice 9 has been added to the graph.\n"
     ]
    }
   ],
   "source": [
    "G2 = Graph()\n",
    "for i in range(1,10):\n",
    "    G2.add_vertice(i)\n",
    "G2.def_adj_mat()"
   ]
  },
  {
   "cell_type": "code",
   "execution_count": 4,
   "id": "piano-commercial",
   "metadata": {},
   "outputs": [],
   "source": [
    "G2.add_edge(1,2)\n",
    "G2.add_edge(1,4)\n",
    "G2.add_edge(1,5)\n",
    "G2.add_edge(1,6)\n",
    "G2.add_edge(1,8)\n",
    "G2.add_edge(2,3)\n",
    "G2.add_edge(2,4)\n",
    "G2.add_edge(2,5)\n",
    "G2.add_edge(2,6)\n",
    "G2.add_edge(2,7)\n",
    "G2.add_edge(2,9)\n",
    "G2.add_edge(3,4)\n",
    "G2.add_edge(3,5)\n",
    "G2.add_edge(3,6)\n",
    "G2.add_edge(3,8)\n",
    "G2.add_edge(4,5)\n",
    "G2.add_edge(4,7)\n",
    "G2.add_edge(4,8)\n",
    "G2.add_edge(4,9)\n",
    "G2.add_edge(5,6)\n",
    "G2.add_edge(5,7)\n",
    "G2.add_edge(5,8)\n",
    "G2.add_edge(5,9)\n",
    "G2.add_edge(6,7)\n",
    "G2.add_edge(6,8)\n",
    "G2.add_edge(6,9)\n",
    "G2.add_edge(7,8)\n",
    "G2.add_edge(8,9)"
   ]
  },
  {
   "cell_type": "code",
   "execution_count": 5,
   "id": "acute-program",
   "metadata": {},
   "outputs": [
    {
     "data": {
      "text/plain": [
       "array([[0., 1., 0., 1., 1., 1., 0., 1., 0.],\n",
       "       [1., 0., 1., 1., 1., 1., 1., 0., 1.],\n",
       "       [0., 1., 0., 1., 1., 1., 0., 1., 0.],\n",
       "       [1., 1., 1., 0., 1., 0., 1., 1., 1.],\n",
       "       [1., 1., 1., 1., 0., 1., 1., 1., 1.],\n",
       "       [1., 1., 1., 0., 1., 0., 1., 1., 1.],\n",
       "       [0., 1., 0., 1., 1., 1., 0., 1., 0.],\n",
       "       [1., 0., 1., 1., 1., 1., 1., 0., 1.],\n",
       "       [0., 1., 0., 1., 1., 1., 0., 1., 0.]])"
      ]
     },
     "execution_count": 5,
     "metadata": {},
     "output_type": "execute_result"
    }
   ],
   "source": [
    "#Getting the adjacency matrix.\n",
    "G2_adj_mat = G2.adj_mat\n",
    "G2_adj_mat"
   ]
  },
  {
   "cell_type": "code",
   "execution_count": 6,
   "id": "going-thompson",
   "metadata": {},
   "outputs": [
    {
     "data": {
      "image/png": "[encoded data removed]",
      "text/plain": [
       "<Figure size 432x288 with 1 Axes>"
      ]
     },
     "metadata": {},
     "output_type": "display_data"
    }
   ],
   "source": [
    "G2.visualize_graph()"
   ]
  },
  {
   "cell_type": "markdown",
   "id": "colored-desktop",
   "metadata": {},
   "source": [
    "### Task 2: Counting the number of paths of varying lengths.\n",
    "\n",
    "The problem of counting the number of the total possible permutations for the given pattern is equivalent to finding the number of walks of length k (4<=k<=8) in the above undirected, unweighted graph.\n",
    "\n",
    "Raising an adjacency matrix A of simple graph G (as the one above) to the k-th power gives the number of k-length walks between two vertices vi, vj of G in the resulting matrix. "
   ]
  },
  {
   "cell_type": "code",
   "execution_count": 7,
   "id": "equipped-vacation",
   "metadata": {},
   "outputs": [],
   "source": [
    "#A class to compute paths between vertices. Will include various algorithms as might seem fit.\n",
    "class finding_paths:\n",
    "    \n",
    "    def __init__(self,Graph):\n",
    "        self.Graph = Graph\n",
    "    \n",
    "    def find_pegs_node(self,s):   #s is the starting point.\n",
    "        #A function that returns a dictionary of peg moves from the \n",
    "        level_dict = {s:0}\n",
    "        parent_dict={s:0}\n",
    "        num_moves = 1\n",
    "        frontier =[s]         #All the nodes we can reach in num_moves-1.\n",
    "        while frontier:\n",
    "            next_nodes = []    #All nodes that can be reaced in num_moves.\n",
    "            for u in frontier:\n",
    "                neighbors = self.Graph.neighbors(u)   #All the neighbors of the node u.\n",
    "                for v in neighbors:\n",
    "                    if v not in level_dict.keys():\n",
    "                        level_dict[v] = num_moves\n",
    "                        parent_dict[v] = u\n",
    "                        #print(parent_dict)\n",
    "                        next_nodes.append(v)\n",
    "            frontier = next_nodes\n",
    "            num_moves +=1\n",
    "        print(parent_dict)\n",
    "        peg_keys = [k for k,v in level_dict.items() if v >= 2]\n",
    "        peg_dict_node = {k: parent_dict[k] for k in peg_keys}\n",
    "        return peg_dict_node\n",
    "    \n",
    "    def get_pegs(self):\n",
    "        vertices = self.Graph.vertices\n",
    "        pegs ={}\n",
    "        for s in vertices:\n",
    "            #print('I am beginning to walk from %d.' %s)\n",
    "            pegs[s]=self.find_pegs_node(s)\n",
    "        return pegs"
   ]
  },
  {
   "cell_type": "code",
   "execution_count": 20,
   "id": "double-estate",
   "metadata": {},
   "outputs": [
    {
     "name": "stdout",
     "output_type": "stream",
     "text": [
      "{1: 0, 2: 1, 4: 1, 5: 1, 6: 1, 8: 1, 3: 2, 7: 2, 9: 2}\n",
      "{2: 0, 1: 2, 3: 2, 4: 2, 5: 2, 6: 2, 7: 2, 9: 2, 8: 1}\n",
      "{3: 0, 2: 3, 4: 3, 5: 3, 6: 3, 8: 3, 1: 2, 7: 2, 9: 2}\n",
      "{4: 0, 1: 4, 2: 4, 3: 4, 5: 4, 7: 4, 8: 4, 9: 4, 6: 1}\n",
      "{5: 0, 1: 5, 2: 5, 3: 5, 4: 5, 6: 5, 7: 5, 8: 5, 9: 5}\n",
      "{6: 0, 1: 6, 2: 6, 3: 6, 5: 6, 7: 6, 8: 6, 9: 6, 4: 1}\n",
      "{7: 0, 2: 7, 4: 7, 5: 7, 6: 7, 8: 7, 1: 2, 3: 2, 9: 2}\n",
      "{8: 0, 1: 8, 3: 8, 4: 8, 5: 8, 6: 8, 7: 8, 9: 8, 2: 1}\n",
      "{9: 0, 2: 9, 4: 9, 5: 9, 6: 9, 8: 9, 1: 2, 3: 2, 7: 2}\n"
     ]
    }
   ],
   "source": [
    "count_path_G2 = finding_paths(G2)\n",
    "pegs = count_path_G2.get_pegs()"
   ]
  },
  {
   "cell_type": "code",
   "execution_count": 9,
   "id": "intellectual-cologne",
   "metadata": {},
   "outputs": [
    {
     "ename": "TypeError",
     "evalue": "'set' object is not subscriptable",
     "output_type": "error",
     "traceback": [
      "\u001b[1;31m---------------------------------------------------------------------------\u001b[0m",
      "\u001b[1;31mTypeError\u001b[0m                                 Traceback (most recent call last)",
      "\u001b[1;32m<ipython-input-9-f21d4e5c61b3>\u001b[0m in \u001b[0;36m<module>\u001b[1;34m\u001b[0m\n\u001b[0;32m     11\u001b[0m     \u001b[1;32mreturn\u001b[0m \u001b[0msum\u001b[0m\u001b[1;33m(\u001b[0m\u001b[0mpatterns\u001b[0m\u001b[1;33m(\u001b[0m\u001b[0mpath\u001b[0m\u001b[1;33m+\u001b[0m\u001b[1;33m[\u001b[0m\u001b[0mn\u001b[0m\u001b[1;33m]\u001b[0m\u001b[1;33m,\u001b[0m \u001b[0msteps\u001b[0m\u001b[1;33m-\u001b[0m\u001b[1;36m1\u001b[0m\u001b[1;33m,\u001b[0m \u001b[0mverbose\u001b[0m\u001b[1;33m)\u001b[0m \u001b[1;32mfor\u001b[0m \u001b[0mn\u001b[0m \u001b[1;32min\u001b[0m \u001b[0mnext_steps\u001b[0m\u001b[1;33m(\u001b[0m\u001b[0mpath\u001b[0m\u001b[1;33m)\u001b[0m\u001b[1;33m)\u001b[0m\u001b[1;33m\u001b[0m\u001b[1;33m\u001b[0m\u001b[0m\n\u001b[0;32m     12\u001b[0m \u001b[1;33m\u001b[0m\u001b[0m\n\u001b[1;32m---> 13\u001b[1;33m \u001b[1;33m[\u001b[0m\u001b[1;33m(\u001b[0m\u001b[0msteps\u001b[0m\u001b[1;33m,\u001b[0m \u001b[0mpatterns\u001b[0m\u001b[1;33m(\u001b[0m\u001b[1;33m[\u001b[0m\u001b[1;33m]\u001b[0m\u001b[1;33m,\u001b[0m \u001b[0msteps\u001b[0m\u001b[1;33m)\u001b[0m\u001b[1;33m)\u001b[0m \u001b[1;32mfor\u001b[0m \u001b[0msteps\u001b[0m \u001b[1;32min\u001b[0m \u001b[0mrange\u001b[0m\u001b[1;33m(\u001b[0m\u001b[1;36m1\u001b[0m\u001b[1;33m,\u001b[0m\u001b[1;36m8\u001b[0m\u001b[1;33m)\u001b[0m\u001b[1;33m]\u001b[0m\u001b[1;33m\u001b[0m\u001b[1;33m\u001b[0m\u001b[0m\n\u001b[0m",
      "\u001b[1;32m<ipython-input-9-f21d4e5c61b3>\u001b[0m in \u001b[0;36m<listcomp>\u001b[1;34m(.0)\u001b[0m\n\u001b[0;32m     11\u001b[0m     \u001b[1;32mreturn\u001b[0m \u001b[0msum\u001b[0m\u001b[1;33m(\u001b[0m\u001b[0mpatterns\u001b[0m\u001b[1;33m(\u001b[0m\u001b[0mpath\u001b[0m\u001b[1;33m+\u001b[0m\u001b[1;33m[\u001b[0m\u001b[0mn\u001b[0m\u001b[1;33m]\u001b[0m\u001b[1;33m,\u001b[0m \u001b[0msteps\u001b[0m\u001b[1;33m-\u001b[0m\u001b[1;36m1\u001b[0m\u001b[1;33m,\u001b[0m \u001b[0mverbose\u001b[0m\u001b[1;33m)\u001b[0m \u001b[1;32mfor\u001b[0m \u001b[0mn\u001b[0m \u001b[1;32min\u001b[0m \u001b[0mnext_steps\u001b[0m\u001b[1;33m(\u001b[0m\u001b[0mpath\u001b[0m\u001b[1;33m)\u001b[0m\u001b[1;33m)\u001b[0m\u001b[1;33m\u001b[0m\u001b[1;33m\u001b[0m\u001b[0m\n\u001b[0;32m     12\u001b[0m \u001b[1;33m\u001b[0m\u001b[0m\n\u001b[1;32m---> 13\u001b[1;33m \u001b[1;33m[\u001b[0m\u001b[1;33m(\u001b[0m\u001b[0msteps\u001b[0m\u001b[1;33m,\u001b[0m \u001b[0mpatterns\u001b[0m\u001b[1;33m(\u001b[0m\u001b[1;33m[\u001b[0m\u001b[1;33m]\u001b[0m\u001b[1;33m,\u001b[0m \u001b[0msteps\u001b[0m\u001b[1;33m)\u001b[0m\u001b[1;33m)\u001b[0m \u001b[1;32mfor\u001b[0m \u001b[0msteps\u001b[0m \u001b[1;32min\u001b[0m \u001b[0mrange\u001b[0m\u001b[1;33m(\u001b[0m\u001b[1;36m1\u001b[0m\u001b[1;33m,\u001b[0m\u001b[1;36m8\u001b[0m\u001b[1;33m)\u001b[0m\u001b[1;33m]\u001b[0m\u001b[1;33m\u001b[0m\u001b[1;33m\u001b[0m\u001b[0m\n\u001b[0m",
      "\u001b[1;32m<ipython-input-9-f21d4e5c61b3>\u001b[0m in \u001b[0;36mpatterns\u001b[1;34m(path, steps, verbose)\u001b[0m\n\u001b[0;32m      9\u001b[0m         \u001b[1;32mif\u001b[0m \u001b[0mverbose\u001b[0m\u001b[1;33m:\u001b[0m \u001b[0mprint\u001b[0m\u001b[1;33m(\u001b[0m\u001b[0mpath\u001b[0m\u001b[1;33m)\u001b[0m\u001b[1;33m\u001b[0m\u001b[1;33m\u001b[0m\u001b[0m\n\u001b[0;32m     10\u001b[0m         \u001b[1;32mreturn\u001b[0m \u001b[1;36m1\u001b[0m\u001b[1;33m\u001b[0m\u001b[1;33m\u001b[0m\u001b[0m\n\u001b[1;32m---> 11\u001b[1;33m     \u001b[1;32mreturn\u001b[0m \u001b[0msum\u001b[0m\u001b[1;33m(\u001b[0m\u001b[0mpatterns\u001b[0m\u001b[1;33m(\u001b[0m\u001b[0mpath\u001b[0m\u001b[1;33m+\u001b[0m\u001b[1;33m[\u001b[0m\u001b[0mn\u001b[0m\u001b[1;33m]\u001b[0m\u001b[1;33m,\u001b[0m \u001b[0msteps\u001b[0m\u001b[1;33m-\u001b[0m\u001b[1;36m1\u001b[0m\u001b[1;33m,\u001b[0m \u001b[0mverbose\u001b[0m\u001b[1;33m)\u001b[0m \u001b[1;32mfor\u001b[0m \u001b[0mn\u001b[0m \u001b[1;32min\u001b[0m \u001b[0mnext_steps\u001b[0m\u001b[1;33m(\u001b[0m\u001b[0mpath\u001b[0m\u001b[1;33m)\u001b[0m\u001b[1;33m)\u001b[0m\u001b[1;33m\u001b[0m\u001b[1;33m\u001b[0m\u001b[0m\n\u001b[0m\u001b[0;32m     12\u001b[0m \u001b[1;33m\u001b[0m\u001b[0m\n\u001b[0;32m     13\u001b[0m \u001b[1;33m[\u001b[0m\u001b[1;33m(\u001b[0m\u001b[0msteps\u001b[0m\u001b[1;33m,\u001b[0m \u001b[0mpatterns\u001b[0m\u001b[1;33m(\u001b[0m\u001b[1;33m[\u001b[0m\u001b[1;33m]\u001b[0m\u001b[1;33m,\u001b[0m \u001b[0msteps\u001b[0m\u001b[1;33m)\u001b[0m\u001b[1;33m)\u001b[0m \u001b[1;32mfor\u001b[0m \u001b[0msteps\u001b[0m \u001b[1;32min\u001b[0m \u001b[0mrange\u001b[0m\u001b[1;33m(\u001b[0m\u001b[1;36m1\u001b[0m\u001b[1;33m,\u001b[0m\u001b[1;36m8\u001b[0m\u001b[1;33m)\u001b[0m\u001b[1;33m]\u001b[0m\u001b[1;33m\u001b[0m\u001b[1;33m\u001b[0m\u001b[0m\n",
      "\u001b[1;32m<ipython-input-9-f21d4e5c61b3>\u001b[0m in \u001b[0;36m<genexpr>\u001b[1;34m(.0)\u001b[0m\n\u001b[0;32m      9\u001b[0m         \u001b[1;32mif\u001b[0m \u001b[0mverbose\u001b[0m\u001b[1;33m:\u001b[0m \u001b[0mprint\u001b[0m\u001b[1;33m(\u001b[0m\u001b[0mpath\u001b[0m\u001b[1;33m)\u001b[0m\u001b[1;33m\u001b[0m\u001b[1;33m\u001b[0m\u001b[0m\n\u001b[0;32m     10\u001b[0m         \u001b[1;32mreturn\u001b[0m \u001b[1;36m1\u001b[0m\u001b[1;33m\u001b[0m\u001b[1;33m\u001b[0m\u001b[0m\n\u001b[1;32m---> 11\u001b[1;33m     \u001b[1;32mreturn\u001b[0m \u001b[0msum\u001b[0m\u001b[1;33m(\u001b[0m\u001b[0mpatterns\u001b[0m\u001b[1;33m(\u001b[0m\u001b[0mpath\u001b[0m\u001b[1;33m+\u001b[0m\u001b[1;33m[\u001b[0m\u001b[0mn\u001b[0m\u001b[1;33m]\u001b[0m\u001b[1;33m,\u001b[0m \u001b[0msteps\u001b[0m\u001b[1;33m-\u001b[0m\u001b[1;36m1\u001b[0m\u001b[1;33m,\u001b[0m \u001b[0mverbose\u001b[0m\u001b[1;33m)\u001b[0m \u001b[1;32mfor\u001b[0m \u001b[0mn\u001b[0m \u001b[1;32min\u001b[0m \u001b[0mnext_steps\u001b[0m\u001b[1;33m(\u001b[0m\u001b[0mpath\u001b[0m\u001b[1;33m)\u001b[0m\u001b[1;33m)\u001b[0m\u001b[1;33m\u001b[0m\u001b[1;33m\u001b[0m\u001b[0m\n\u001b[0m\u001b[0;32m     12\u001b[0m \u001b[1;33m\u001b[0m\u001b[0m\n\u001b[0;32m     13\u001b[0m \u001b[1;33m[\u001b[0m\u001b[1;33m(\u001b[0m\u001b[0msteps\u001b[0m\u001b[1;33m,\u001b[0m \u001b[0mpatterns\u001b[0m\u001b[1;33m(\u001b[0m\u001b[1;33m[\u001b[0m\u001b[1;33m]\u001b[0m\u001b[1;33m,\u001b[0m \u001b[0msteps\u001b[0m\u001b[1;33m)\u001b[0m\u001b[1;33m)\u001b[0m \u001b[1;32mfor\u001b[0m \u001b[0msteps\u001b[0m \u001b[1;32min\u001b[0m \u001b[0mrange\u001b[0m\u001b[1;33m(\u001b[0m\u001b[1;36m1\u001b[0m\u001b[1;33m,\u001b[0m\u001b[1;36m8\u001b[0m\u001b[1;33m)\u001b[0m\u001b[1;33m]\u001b[0m\u001b[1;33m\u001b[0m\u001b[1;33m\u001b[0m\u001b[0m\n",
      "\u001b[1;32m<ipython-input-9-f21d4e5c61b3>\u001b[0m in \u001b[0;36mpatterns\u001b[1;34m(path, steps, verbose)\u001b[0m\n\u001b[0;32m      9\u001b[0m         \u001b[1;32mif\u001b[0m \u001b[0mverbose\u001b[0m\u001b[1;33m:\u001b[0m \u001b[0mprint\u001b[0m\u001b[1;33m(\u001b[0m\u001b[0mpath\u001b[0m\u001b[1;33m)\u001b[0m\u001b[1;33m\u001b[0m\u001b[1;33m\u001b[0m\u001b[0m\n\u001b[0;32m     10\u001b[0m         \u001b[1;32mreturn\u001b[0m \u001b[1;36m1\u001b[0m\u001b[1;33m\u001b[0m\u001b[1;33m\u001b[0m\u001b[0m\n\u001b[1;32m---> 11\u001b[1;33m     \u001b[1;32mreturn\u001b[0m \u001b[0msum\u001b[0m\u001b[1;33m(\u001b[0m\u001b[0mpatterns\u001b[0m\u001b[1;33m(\u001b[0m\u001b[0mpath\u001b[0m\u001b[1;33m+\u001b[0m\u001b[1;33m[\u001b[0m\u001b[0mn\u001b[0m\u001b[1;33m]\u001b[0m\u001b[1;33m,\u001b[0m \u001b[0msteps\u001b[0m\u001b[1;33m-\u001b[0m\u001b[1;36m1\u001b[0m\u001b[1;33m,\u001b[0m \u001b[0mverbose\u001b[0m\u001b[1;33m)\u001b[0m \u001b[1;32mfor\u001b[0m \u001b[0mn\u001b[0m \u001b[1;32min\u001b[0m \u001b[0mnext_steps\u001b[0m\u001b[1;33m(\u001b[0m\u001b[0mpath\u001b[0m\u001b[1;33m)\u001b[0m\u001b[1;33m)\u001b[0m\u001b[1;33m\u001b[0m\u001b[1;33m\u001b[0m\u001b[0m\n\u001b[0m\u001b[0;32m     12\u001b[0m \u001b[1;33m\u001b[0m\u001b[0m\n\u001b[0;32m     13\u001b[0m \u001b[1;33m[\u001b[0m\u001b[1;33m(\u001b[0m\u001b[0msteps\u001b[0m\u001b[1;33m,\u001b[0m \u001b[0mpatterns\u001b[0m\u001b[1;33m(\u001b[0m\u001b[1;33m[\u001b[0m\u001b[1;33m]\u001b[0m\u001b[1;33m,\u001b[0m \u001b[0msteps\u001b[0m\u001b[1;33m)\u001b[0m\u001b[1;33m)\u001b[0m \u001b[1;32mfor\u001b[0m \u001b[0msteps\u001b[0m \u001b[1;32min\u001b[0m \u001b[0mrange\u001b[0m\u001b[1;33m(\u001b[0m\u001b[1;36m1\u001b[0m\u001b[1;33m,\u001b[0m\u001b[1;36m8\u001b[0m\u001b[1;33m)\u001b[0m\u001b[1;33m]\u001b[0m\u001b[1;33m\u001b[0m\u001b[1;33m\u001b[0m\u001b[0m\n",
      "\u001b[1;32m<ipython-input-9-f21d4e5c61b3>\u001b[0m in \u001b[0;36m<genexpr>\u001b[1;34m(.0)\u001b[0m\n\u001b[0;32m      9\u001b[0m         \u001b[1;32mif\u001b[0m \u001b[0mverbose\u001b[0m\u001b[1;33m:\u001b[0m \u001b[0mprint\u001b[0m\u001b[1;33m(\u001b[0m\u001b[0mpath\u001b[0m\u001b[1;33m)\u001b[0m\u001b[1;33m\u001b[0m\u001b[1;33m\u001b[0m\u001b[0m\n\u001b[0;32m     10\u001b[0m         \u001b[1;32mreturn\u001b[0m \u001b[1;36m1\u001b[0m\u001b[1;33m\u001b[0m\u001b[1;33m\u001b[0m\u001b[0m\n\u001b[1;32m---> 11\u001b[1;33m     \u001b[1;32mreturn\u001b[0m \u001b[0msum\u001b[0m\u001b[1;33m(\u001b[0m\u001b[0mpatterns\u001b[0m\u001b[1;33m(\u001b[0m\u001b[0mpath\u001b[0m\u001b[1;33m+\u001b[0m\u001b[1;33m[\u001b[0m\u001b[0mn\u001b[0m\u001b[1;33m]\u001b[0m\u001b[1;33m,\u001b[0m \u001b[0msteps\u001b[0m\u001b[1;33m-\u001b[0m\u001b[1;36m1\u001b[0m\u001b[1;33m,\u001b[0m \u001b[0mverbose\u001b[0m\u001b[1;33m)\u001b[0m \u001b[1;32mfor\u001b[0m \u001b[0mn\u001b[0m \u001b[1;32min\u001b[0m \u001b[0mnext_steps\u001b[0m\u001b[1;33m(\u001b[0m\u001b[0mpath\u001b[0m\u001b[1;33m)\u001b[0m\u001b[1;33m)\u001b[0m\u001b[1;33m\u001b[0m\u001b[1;33m\u001b[0m\u001b[0m\n\u001b[0m\u001b[0;32m     12\u001b[0m \u001b[1;33m\u001b[0m\u001b[0m\n\u001b[0;32m     13\u001b[0m \u001b[1;33m[\u001b[0m\u001b[1;33m(\u001b[0m\u001b[0msteps\u001b[0m\u001b[1;33m,\u001b[0m \u001b[0mpatterns\u001b[0m\u001b[1;33m(\u001b[0m\u001b[1;33m[\u001b[0m\u001b[1;33m]\u001b[0m\u001b[1;33m,\u001b[0m \u001b[0msteps\u001b[0m\u001b[1;33m)\u001b[0m\u001b[1;33m)\u001b[0m \u001b[1;32mfor\u001b[0m \u001b[0msteps\u001b[0m \u001b[1;32min\u001b[0m \u001b[0mrange\u001b[0m\u001b[1;33m(\u001b[0m\u001b[1;36m1\u001b[0m\u001b[1;33m,\u001b[0m\u001b[1;36m8\u001b[0m\u001b[1;33m)\u001b[0m\u001b[1;33m]\u001b[0m\u001b[1;33m\u001b[0m\u001b[1;33m\u001b[0m\u001b[0m\n",
      "\u001b[1;32m<ipython-input-9-f21d4e5c61b3>\u001b[0m in \u001b[0;36m<genexpr>\u001b[1;34m(.0)\u001b[0m\n\u001b[0;32m      3\u001b[0m \u001b[1;32mdef\u001b[0m \u001b[0mnext_steps\u001b[0m\u001b[1;33m(\u001b[0m\u001b[0mpath\u001b[0m\u001b[1;33m)\u001b[0m\u001b[1;33m:\u001b[0m\u001b[1;33m\u001b[0m\u001b[1;33m\u001b[0m\u001b[0m\n\u001b[0;32m      4\u001b[0m     return (n for n in range(1,10) if (not path or n not in path and (n not in pegs[path[-1]] \n\u001b[1;32m----> 5\u001b[1;33m                                         or pegs[path[-1]][n] in path)))\n\u001b[0m\u001b[0;32m      6\u001b[0m \u001b[1;33m\u001b[0m\u001b[0m\n\u001b[0;32m      7\u001b[0m \u001b[1;32mdef\u001b[0m \u001b[0mpatterns\u001b[0m\u001b[1;33m(\u001b[0m\u001b[0mpath\u001b[0m\u001b[1;33m,\u001b[0m \u001b[0msteps\u001b[0m\u001b[1;33m,\u001b[0m \u001b[0mverbose\u001b[0m\u001b[1;33m=\u001b[0m\u001b[1;32mFalse\u001b[0m\u001b[1;33m)\u001b[0m\u001b[1;33m:\u001b[0m\u001b[1;33m\u001b[0m\u001b[1;33m\u001b[0m\u001b[0m\n",
      "\u001b[1;31mTypeError\u001b[0m: 'set' object is not subscriptable"
     ]
    }
   ],
   "source": [
    "count_path_G2 = finding_paths(G2)\n",
    "pegs = {1: {3:2},2:{4:3},3:{1:2,5:4,7:6} ,4:{},5:{3,4},6:{},7:{3:6}}\n",
    "def next_steps(path):\n",
    "    return (n for n in range(1,10) if (not path or n not in path and (n not in pegs[path[-1]] \n",
    "                                        or pegs[path[-1]][n] in path)))\n",
    "\n",
    "def patterns(path, steps, verbose=False):\n",
    "    if steps == 0:\n",
    "        if verbose: print(path)\n",
    "        return 1\n",
    "    return sum(patterns(path+[n], steps-1, verbose) for n in next_steps(path))\n",
    "\n",
    "[(steps, patterns([], steps)) for steps in range(1,8)]"
   ]
  },
  {
   "cell_type": "code",
   "execution_count": 17,
   "id": "illegal-darwin",
   "metadata": {},
   "outputs": [
    {
     "data": {
      "text/plain": [
       "394968"
      ]
     },
     "execution_count": 17,
     "metadata": {},
     "output_type": "execute_result"
    }
   ],
   "source": [
    "sum(patterns([], steps) for steps in range(4,10))"
   ]
  },
  {
   "cell_type": "markdown",
   "id": "backed-sympathy",
   "metadata": {},
   "source": [
    "# Pattern (a):"
   ]
  },
  {
   "cell_type": "code",
   "execution_count": 10,
   "id": "literary-copper",
   "metadata": {},
   "outputs": [
    {
     "name": "stdout",
     "output_type": "stream",
     "text": [
      "The vertice 1 has been added to the graph.\n",
      "The vertice 2 has been added to the graph.\n",
      "The vertice 3 has been added to the graph.\n",
      "The vertice 4 has been added to the graph.\n",
      "The vertice 5 has been added to the graph.\n",
      "The vertice 6 has been added to the graph.\n",
      "The vertice 7 has been added to the graph.\n",
      "The vertice 8 has been added to the graph.\n",
      "The vertice 9 has been added to the graph.\n"
     ]
    }
   ],
   "source": [
    "#Creating an instance of class Graph to represnt G1\n",
    "pat_a = Graph()\n",
    "#Adding the vertices to the graph.\n",
    "for i in range(1,10):\n",
    "    pat_a.add_vertice(i)\n",
    "#Initializing the adjacency matrix.\n",
    "pat_a.def_adj_mat()"
   ]
  },
  {
   "cell_type": "code",
   "execution_count": 11,
   "id": "official-brush",
   "metadata": {},
   "outputs": [],
   "source": [
    "#Adding the edges to the graph.\n",
    "pat_a.add_edge(1,2)\n",
    "pat_a.add_edge(2,3)\n",
    "pat_a.add_edge(3,4)\n",
    "pat_a.add_edge(4,5)\n",
    "pat_a.add_edge(3,6)\n",
    "pat_a.add_edge(6,7)\n",
    "pat_a.add_edge(1,8)\n",
    "pat_a.add_edge(2,8)\n",
    "pat_a.add_edge(3,8)\n",
    "pat_a.add_edge(4,8)\n",
    "pat_a.add_edge(5,8)\n",
    "pat_a.add_edge(1,9)\n",
    "pat_a.add_edge(2,9)\n",
    "pat_a.add_edge(3,9)\n",
    "pat_a.add_edge(6,9)\n",
    "pat_a.add_edge(7,9)\n",
    "pat_a.add_edge(8,9)\n",
    "pat_a.add_edge(8,6)\n",
    "pat_a.add_edge(8,7)\n",
    "pat_a.add_edge(9,4)\n",
    "pat_a.add_edge(9,5)"
   ]
  },
  {
   "cell_type": "code",
   "execution_count": 12,
   "id": "known-supply",
   "metadata": {},
   "outputs": [
    {
     "data": {
      "text/plain": [
       "array([[0., 1., 0., 0., 0., 0., 0., 1., 1.],\n",
       "       [1., 0., 1., 0., 0., 0., 0., 1., 1.],\n",
       "       [0., 1., 0., 1., 0., 1., 0., 1., 1.],\n",
       "       [0., 0., 1., 0., 1., 0., 0., 1., 1.],\n",
       "       [0., 0., 0., 1., 0., 0., 0., 1., 1.],\n",
       "       [0., 0., 1., 0., 0., 0., 1., 1., 1.],\n",
       "       [0., 0., 0., 0., 0., 1., 0., 1., 1.],\n",
       "       [1., 1., 1., 1., 1., 1., 1., 0., 1.],\n",
       "       [1., 1., 1., 1., 1., 1., 1., 1., 0.]])"
      ]
     },
     "execution_count": 12,
     "metadata": {},
     "output_type": "execute_result"
    }
   ],
   "source": [
    "#Getting the adjacency matrix.\n",
    "adj_mat_a = pat_a.adj_mat\n",
    "adj_mat_a"
   ]
  },
  {
   "cell_type": "code",
   "execution_count": 13,
   "id": "generic-worth",
   "metadata": {},
   "outputs": [
    {
     "data": {
      "image/png": "[encoded data removed]",
      "text/plain": [
       "<Figure size 432x288 with 1 Axes>"
      ]
     },
     "metadata": {},
     "output_type": "display_data"
    }
   ],
   "source": [
    "pat_a.visualize_graph()"
   ]
  },
  {
   "cell_type": "code",
   "execution_count": 14,
   "id": "dramatic-dealer",
   "metadata": {},
   "outputs": [
    {
     "data": {
      "text/plain": [
       "[(1, 9), (2, 42), (3, 216), (4, 954), (5, 3804), (6, 12852), (7, 34524)]"
      ]
     },
     "execution_count": 14,
     "metadata": {},
     "output_type": "execute_result"
    }
   ],
   "source": [
    "count_path = finding_paths(pat_a)\n",
    "pegs = count_path.get_pegs()\n",
    "def next_steps(path):\n",
    "    return (n for n in range(1,10) if (not path or n not in path and (n not in pegs[path[-1]] \n",
    "                                        or pegs[path[-1]][n] in path)))\n",
    "\n",
    "def patterns(path, steps, verbose=False):\n",
    "    if steps == 0:\n",
    "        if verbose: print(path)\n",
    "        return 1\n",
    "    return sum(patterns(path+[n], steps-1, verbose) for n in next_steps(path))\n",
    "\n",
    "[(steps, patterns([], steps)) for steps in range(1,8)]"
   ]
  },
  {
   "cell_type": "code",
   "execution_count": 15,
   "id": "unlike-session",
   "metadata": {},
   "outputs": [
    {
     "data": {
      "text/plain": [
       "183198"
      ]
     },
     "execution_count": 15,
     "metadata": {},
     "output_type": "execute_result"
    }
   ],
   "source": [
    "sum(patterns([], steps) for steps in range(4,10))"
   ]
  },
  {
   "cell_type": "code",
   "execution_count": 1,
   "id": "advised-senior",
   "metadata": {},
   "outputs": [
    {
     "data": {
      "text/plain": [
       "[(1, 9),\n",
       " (2, 54),\n",
       " (3, 294),\n",
       " (4, 1434),\n",
       " (5, 6062),\n",
       " (6, 21486),\n",
       " (7, 59671),\n",
       " (8, 114881),\n",
       " (9, 114881)]"
      ]
     },
     "execution_count": 1,
     "metadata": {},
     "output_type": "execute_result"
    }
   ],
   "source": [
    "pegs ={1: {3:2,4:2,5:2},\n",
    "    2: {4:3,5:3},\n",
    "    3: {5:4,7:6,9:8},\n",
    "    4: {2:3,1:3,1:2},\n",
    "    5: {3:4,2:4,1:4},\n",
    "    6: {8:3,9:3},\n",
    "    7: {3:6},\n",
    "    8: {6:3},\n",
    "    9: {3:8}}\n",
    "\n",
    "def next_steps(path):\n",
    "    return (n for n in range(1,10) if (not path or n not in path and \n",
    "                                       (n not in pegs[path[-1]] \n",
    "                                        or pegs[path[-1]][n] in path)))\n",
    "\n",
    "def patterns(path, steps, verbose=False):\n",
    "    if steps == 0:\n",
    "        if verbose: print(path)\n",
    "        return 1\n",
    "    return sum(patterns(path+[n], steps-1, verbose) for n in next_steps(path))\n",
    "\n",
    "[(steps, patterns([], steps)) for steps in range(1,10)]"
   ]
  },
  {
   "cell_type": "code",
   "execution_count": 2,
   "id": "established-suicide",
   "metadata": {},
   "outputs": [
    {
     "data": {
      "text/plain": [
       "318415"
      ]
     },
     "execution_count": 2,
     "metadata": {},
     "output_type": "execute_result"
    }
   ],
   "source": [
    "sum(patterns([], steps) for steps in range(4,10))"
   ]
  },
  {
   "cell_type": "code",
   "execution_count": null,
   "id": "improving-stranger",
   "metadata": {},
   "outputs": [],
   "source": [
    "p = {\n",
    "    1: {3:2},\n",
    "    2: {4:3},\n",
    "    3: {1:2, 7:6, 5:4},\n",
    "    4: {},\n",
    "    5: {3:4},\n",
    "    6: {},\n",
    "    7: {3:6},\n",
    "    8: {},\n",
    "    9: {}\n",
    "}"
   ]
  }
 ],
 "metadata": {
  "kernelspec": {
   "display_name": "Python 3",
   "language": "python",
   "name": "python3"
  },
  "language_info": {
   "codemirror_mode": {
    "name": "ipython",
    "version": 3
   },
   "file_extension": ".py",
   "mimetype": "text/x-python",
   "name": "python",
   "nbconvert_exporter": "python",
   "pygments_lexer": "ipython3",
   "version": "3.8.8"
  },
  "latex_envs": {
   "LaTeX_envs_menu_present": true,
   "autoclose": false,
   "autocomplete": true,
   "bibliofile": "biblio.bib",
   "cite_by": "apalike",
   "current_citInitial": 1,
   "eqLabelWithNumbers": true,
   "eqNumInitial": 1,
   "hotkeys": {
    "equation": "Ctrl-E",
    "itemize": "Ctrl-I"
   },
   "labels_anchors": false,
   "latex_user_defs": false,
   "report_style_numbering": false,
   "user_envs_cfg": false
  },
  "toc": {
   "base_numbering": 1,
   "nav_menu": {},
   "number_sections": true,
   "sideBar": true,
   "skip_h1_title": false,
   "title_cell": "Table of Contents",
   "title_sidebar": "Contents",
   "toc_cell": false,
   "toc_position": {},
   "toc_section_display": true,
   "toc_window_display": false
  }
 },
 "nbformat": 4,
 "nbformat_minor": 5
}
