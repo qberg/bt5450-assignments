{
 "cells": [
  {
   "cell_type": "markdown",
   "id": "unavailable-specific",
   "metadata": {
    "toc": true
   },
   "source": [
    "<h1>Table of Contents<span class=\"tocSkip\"></span></h1>\n",
    "<div class=\"toc\"><ul class=\"toc-item\"><li><span><a href=\"#Mathematical-Derivation-of-the-Survival-Probabilities:\" data-toc-modified-id=\"Mathematical-Derivation-of-the-Survival-Probabilities:-1\"><span class=\"toc-item-num\">1&nbsp;&nbsp;</span>Mathematical Derivation of the Survival Probabilities:</a></span><ul class=\"toc-item\"><li><span><a href=\"#Rules-of-the-Game:\" data-toc-modified-id=\"Rules-of-the-Game:-1.1\"><span class=\"toc-item-num\">1.1&nbsp;&nbsp;</span>Rules of the Game:</a></span></li><li><span><a href=\"#Playing-the-Game:\" data-toc-modified-id=\"Playing-the-Game:-1.2\"><span class=\"toc-item-num\">1.2&nbsp;&nbsp;</span>Playing the Game:</a></span><ul class=\"toc-item\"><li><span><a href=\"#Event-(A):-Good-is-killed\" data-toc-modified-id=\"Event-(A):-Good-is-killed-1.2.1\"><span class=\"toc-item-num\">1.2.1&nbsp;&nbsp;</span>Event (A): Good is killed</a></span><ul class=\"toc-item\"><li><span><a href=\"#Subsequent-Duel-($D^{(1)}$):\" data-toc-modified-id=\"Subsequent-Duel-($D^{(1)}$):-1.2.1.1\"><span class=\"toc-item-num\">1.2.1.1&nbsp;&nbsp;</span>Subsequent Duel ($D^{(1)}$):</a></span></li></ul></li><li><span><a href=\"#Event(B):-Bad-is-killed\" data-toc-modified-id=\"Event(B):-Bad-is-killed-1.2.2\"><span class=\"toc-item-num\">1.2.2&nbsp;&nbsp;</span>Event(B): Bad is killed</a></span><ul class=\"toc-item\"><li><span><a href=\"#Subsequent-Duel($D^{(2)}$):\" data-toc-modified-id=\"Subsequent-Duel($D^{(2)}$):-1.2.2.1\"><span class=\"toc-item-num\">1.2.2.1&nbsp;&nbsp;</span>Subsequent Duel($D^{(2)}$):</a></span></li></ul></li><li><span><a href=\"#Event(C):-Both-Good-and-Bad-are-killed\" data-toc-modified-id=\"Event(C):-Both-Good-and-Bad-are-killed-1.2.3\"><span class=\"toc-item-num\">1.2.3&nbsp;&nbsp;</span>Event(C): Both Good and Bad are killed</a></span></li></ul></li><li><span><a href=\"#Survival-Probablities\" data-toc-modified-id=\"Survival-Probablities-1.3\"><span class=\"toc-item-num\">1.3&nbsp;&nbsp;</span>Survival Probablities</a></span></li><li><span><a href=\"#Encoding-the-mathematical-expression-as-a-function:\" data-toc-modified-id=\"Encoding-the-mathematical-expression-as-a-function:-1.4\"><span class=\"toc-item-num\">1.4&nbsp;&nbsp;</span>Encoding the mathematical expression as a function:</a></span></li></ul></li><li><span><a href=\"#Algorithmic-Implementation-for-Survival-Probabilities:\" data-toc-modified-id=\"Algorithmic-Implementation-for-Survival-Probabilities:-2\"><span class=\"toc-item-num\">2&nbsp;&nbsp;</span>Algorithmic Implementation for Survival Probabilities:</a></span><ul class=\"toc-item\"><li><span><a href=\"#Test-case-Values:\" data-toc-modified-id=\"Test-case-Values:-2.1\"><span class=\"toc-item-num\">2.1&nbsp;&nbsp;</span>Test case Values:</a></span></li><li><span><a href=\"#Math-into-code:\" data-toc-modified-id=\"Math-into-code:-2.2\"><span class=\"toc-item-num\">2.2&nbsp;&nbsp;</span>Math into code:</a></span></li><li><span><a href=\"#Calcuating-the-Survival-Probalities-using-Algorithm\" data-toc-modified-id=\"Calcuating-the-Survival-Probalities-using-Algorithm-2.3\"><span class=\"toc-item-num\">2.3&nbsp;&nbsp;</span>Calcuating the Survival Probalities using Algorithm</a></span></li></ul></li></ul></div>"
   ]
  },
  {
   "cell_type": "markdown",
   "id": "noble-curtis",
   "metadata": {},
   "source": [
    "# Mathematical Derivation of the Survival Probabilities:\n",
    "\n",
    "## Rules of the Game:\n",
    "\n",
    "* All the three participants **The Good, The Bad and The Ugly** fire at the same time in each round.\n",
    "* Probability of Good, Bad and Ugly hitting their targets are x,y and z respectively.\n",
    "* As long as three of them are alive, no one shoots at Ugly and therefore Ugly will be alive until either one of Good or bad dies.\n",
    "\n",
    "##  Playing the Game:\n",
    "\n",
    "* Given the above rules, the truel becomes a duel after some rounds of firing as there is no way Ugly could be killed.\n",
    "* There are three ways in which it could become a duel, \n",
    "    * Good is killed (A).\n",
    "    * Bad is killed (B).\n",
    "    * Both Good and Bad are killed (C)."
   ]
  },
  {
   "cell_type": "markdown",
   "id": "intended-illinois",
   "metadata": {},
   "source": [
    "### Event (A): Good is killed\n",
    "\n",
    "* Good is killed $\\implies$ Bad and Ugly survive.\n",
    "* This occurs when either one of Bad or Ugly's bullet hits Good before Good could kill Bad.\n",
    "---\n",
    "* Probability of Good missing the target,\n",
    "$$P(G_m) = 1 - x$$.\n",
    "---\n",
    "* Probability of both Bad and Ugly missing the target, \n",
    "$$ P(B_m\\land U_m) = (1-y)(1-z) $$\n",
    "---\n",
    "* Therefore the probability of either Bad or Ugly hitting the target is,\n",
    "$$P(B_{m}^{c} \\lor U_{m}^{c}) = 1 - (1-y)(1-z) $$\n",
    "---\n",
    "* No-one dies in a round if all three miss their targets. Probability of no-one dying in a round,\n",
    "$$P(N_d) = (1-x)(1-y)(1-z) $$\n",
    "---\n",
    "* Probability of the event A (i.e. Good getting killed) to occur in a round is,\n",
    "$$ P(A) = (1-x)[1-(1-y)(1-z)]$$\n",
    "---\n",
    "* We can think of the event A as a Bernoulli trial since at each round either A happens or it does not. Let $X_A$ be a random variable that denotes the number of trials needed for A to occur. \n",
    "* Then the probablity of A occuring at the n-th round can be found by multiplying the probability for A not occuring for $n-1$ trials with $P(A)$,\n",
    "$$P(X_A = n) = [(1-x)(1-y)(1-z)]^{n-1}\\times \\{(1-x)[1-(1-y)(1-z)]\\}$$\n",
    "---\n",
    "* We need to find the probabilty of this event to ever occur. It could therefore occur in the first round, second round or any other round down the line. This probability is given by, \n",
    "$$ P(X_A \\geq 1) = \\sum_{n=1}^{\\infty} P(X_A = n)  $$\n",
    "---\n",
    "* The probability forms an infinite GP series with common ratio obviouly less than 1. Therefore,\n",
    "$$P(X_A \\geq 1)  = \\frac{(1-x)\\times[1-(1-y)(1-z)]}{1-(1-x)(1-y)(1-z)}$$"
   ]
  },
  {
   "cell_type": "markdown",
   "id": "social-cable",
   "metadata": {},
   "source": [
    "#### Subsequent Duel ($D^{(1)}$):\n",
    "\n",
    "* If the event A occurs, then there will be a duel between Bad and Ugly.\n",
    "* The probability of Bad and Ugly survining a round of the duel is $(1-y)(1-z)$\n",
    "* For Bad to survive after $m -duels$, both Bad and Ugly should miss theor targets for $m-1$ rounds and Bad should hit the target in the $m-th$ round while Ugly misses.\n",
    "$$P(D_{B}^{(1)} = m) = [(1-y)(1-z)]^{m-1}\\times y(1-z)$$\n",
    "$$P(D_{B}^{(1)} \\geq 1) = \\frac{y(1-z)}{1-(1-y)(1-z)} $$\n",
    "* Similarly we can find the probabilty for Ugly surving after the rounds of duels,\n",
    "$$P(D_{U}^{(1)} = m) = [(1-y)(1-z)]^{m-1}\\times z(1-y)$$\n",
    "$$P(D_{U}^{(1)} \\geq 1) = \\frac{z(1-y)}{1-(1-y)(1-z)}$$\n",
    "--- \n",
    "* Note that here the sum of the above two events is **not equal to one**, because there can also be the case where both of them hit their targets and consequently end up dead.\n"
   ]
  },
  {
   "cell_type": "markdown",
   "id": "stopped-fourth",
   "metadata": {},
   "source": [
    "### Event(B): Bad is killed\n",
    "\n",
    "* Bad is killed $\\implies$ both Good and Ugly survive.\n",
    "* We could argue exactly as before to arrive at the following probabilities. \n",
    "$$P(B) = x(1-y)(1-z) $$\n",
    "$$P(X_B = n ) = [(1-x)(1-y)(1-z)]^{n-1} \\times [x(1-y)(1-z)]$$\n",
    "$$ P(X_B \\geq 1) = \\frac{x(1-y)(1-z)}{1-(1-x)(1-y)(1-z)}$$"
   ]
  },
  {
   "cell_type": "markdown",
   "id": "hundred-crown",
   "metadata": {},
   "source": [
    "#### Subsequent Duel($D^{(2)}$):\n",
    "\n",
    "* If the event B occurs, then there will be a duel between Good and Ugly.\n",
    "* By following exactly the similar arguments from above,\n",
    "$$P(D^{(2)}_{G} = m) = [(1-x)(1-z)]^{m-1}\\times x(1-z)$$\n",
    "$$P(D^{(2)}_{G} \\geq 1) = \\frac{x(1-z)}{1-(1-x)(1-z)} $$\n",
    "$$P(D^{(2)}_{U} = m) = [(1-x)(1-z)]^{m-1}\\times z(1-x)$$\n",
    "$$P(D^{(2)}_{U} \\geq 1) = \\frac{z(1-x)}{1-(1-x)(1-z)} $$"
   ]
  },
  {
   "cell_type": "markdown",
   "id": "rocky-turtle",
   "metadata": {},
   "source": [
    "### Event(C): Both Good and Bad are killed\n",
    "\n",
    "* If this event occurs, **Ugly alone survives.**\n",
    "* To find the probability of this event we could either follow the steps for the previous arguments or else we could make use of the fact that either one of A,B or C definetly has to occur. Therefore,\n",
    "$$ P(X_C \\geq 1) = 1 - P(X_A \\geq 1)-  P(X_B \\geq 1) $$\n",
    "$$P(X_C \\geq 1) = \\frac{x \\times[1-(1-y)(1-z)]}{1-(1-x)(1-y)(1-z)}$$"
   ]
  },
  {
   "cell_type": "markdown",
   "id": "eight-privilege",
   "metadata": {},
   "source": [
    "## Survival Probablities\n",
    "\n",
    "* For **Good to survive**, event B should occur followed by Good winning the duel against Ugly. Therefore Probability of survival of Good is,\n",
    "\n",
    "$$P(G_s) = P(X_B \\geq 1) \\times P(D^{(2)}_{G} \\geq 1) $$\n",
    "$$P(G_s)= \\frac{x(1-y)(1-z)}{1-(1-x)(1-y)(1-z)} \\times \\frac{x(1-z)}{1-(1-x)(1-z)}$$\n",
    "\n",
    "--- \n",
    "* For **Bad to survive**, event A should occur followed by Bad winning the duel against Ugly. Therefore Probability of survival of Bad is,\n",
    "\n",
    "$$ P(B_s) = P(X_A \\geq 1) \\times P(D^{(1)}_{B} \\geq 1) $$\n",
    "$$ P(B_s)  = \\frac{(1-x)\\times[1-(1-y)(1-z)]}{1-(1-x)(1-y)(1-z)} \\times \\frac{y(1-z)}{1-(1-y)(1-z)}$$\n",
    "\n",
    "---\n",
    "* For **Ugly to survive** either A occurs followed by Ugly winning the duel against Bad or B occurs followed by Ugly winning the duel against Good or C occurs. Therefore, probability of survival of C is,\n",
    "\n",
    "$$P(U_s) = P(X_B \\geq 1) \\times P(D^{(2)}_{U} \\geq 1) + P(X_A \\geq 1) \\times P(D^{(1)}_{U} \\geq 1) + P(X_{C} \\geq 1)$$\n",
    "$$P(U_s)= \\frac{x(1-y)(1-z)}{1-(1-x)(1-y)(1-z)} \\frac{z(1-x)}{1-(1-x)(1-z)} + \\frac{(1-x)\\times[1-(1-y)(1-z)]}{1-(1-x)(1-y)(1-z)} \\frac{z(1-y)}{1-(1-y)(1-z)} + \\frac{x \\times[1-(1-y)(1-z)]}{1-(1-x)(1-y)(1-z)}$$\n"
   ]
  },
  {
   "cell_type": "markdown",
   "id": "marine-defensive",
   "metadata": {},
   "source": [
    "## Encoding the mathematical expression as a function:"
   ]
  },
  {
   "cell_type": "code",
   "execution_count": 1,
   "id": "billion-typing",
   "metadata": {},
   "outputs": [
    {
     "name": "stdout",
     "output_type": "stream",
     "text": [
      "For test values of x= 0.95, y= 0.75 and z= 0.50 the formula gives:\n",
      "\n"
     ]
    },
    {
     "data": {
      "text/plain": [
       "(0.058216416706982736, 0.018867924528301903, 0.8458313175294306)"
      ]
     },
     "execution_count": 1,
     "metadata": {},
     "output_type": "execute_result"
    }
   ],
   "source": [
    "def sur_prob_eqn(x,y,z):\n",
    "    if all([0<=x<=1,0<=y<=1,0<=z<=1]):\n",
    "        x_c = 1- x\n",
    "        y_c = 1- y\n",
    "        z_c = 1 - z\n",
    "        prod_pairs_c = [x_c*y_c , y_c*z_c , z_c*x_c]\n",
    "        prod_c = prod_pairs_c[0] * z_c\n",
    "        prob_events = [(x*prod_pairs_c[1])/(1-prod_c), ((1-x)*(1- prod_pairs_c[1]))/(1-prod_c),(x*(1- prod_pairs_c[1]))/(1-prod_c)]\n",
    "        p_g = prob_events[0] * ((x*z_c)/(1 - prod_pairs_c[2]))\n",
    "        p_b = prob_events[1] * ((y*z_c)/(1 - prod_pairs_c[1]))\n",
    "        p_u = (prob_events[0] * ((z*x_c)/(1 - prod_pairs_c[2]))) + (prob_events[1] *((z*y_c)/(1 - prod_pairs_c[1]))) + prob_events[2]\n",
    "        return p_g,p_b,p_u\n",
    "    else:\n",
    "        print('The given inputs are not probabilities.')\n",
    "\n",
    "print('For test values of x= 0.95, y= 0.75 and z= 0.50 the formula gives:\\n')\n",
    "sur_prob_eqn(.95,.75,.50)"
   ]
  },
  {
   "cell_type": "markdown",
   "id": "gross-dream",
   "metadata": {},
   "source": [
    "# Algorithmic Implementation for Survival Probabilities:\n",
    "\n",
    "By taking selected values of x,y and z an algorithm is implemented that calculates the survival probabilities of the three participants. Doing so one can verify the formulas derived in the previous section.\n",
    "\n",
    "## Test case Values:\n",
    "\n",
    "Living in a very optimistic world let's assume the following probabilies for,\n",
    "* Good, x = 95%\n",
    "* Bad,  y = 75%\n",
    "* Ugly, z = 50%"
   ]
  },
  {
   "cell_type": "markdown",
   "id": "consolidated-obligation",
   "metadata": {},
   "source": [
    "## Math into code:"
   ]
  },
  {
   "cell_type": "code",
   "execution_count": 2,
   "id": "competent-scratch",
   "metadata": {},
   "outputs": [],
   "source": [
    "#Importing the libraries needed.\n",
    "from random import randint"
   ]
  },
  {
   "cell_type": "code",
   "execution_count": 3,
   "id": "loving-sunrise",
   "metadata": {},
   "outputs": [],
   "source": [
    "class Mexican_Standoff:\n",
    "    \n",
    "    def __init__(self,members,prob_hit_list):\n",
    "        self.members = members\n",
    "        self.alive = self.members.copy()  #Intially all three members are alive.\n",
    "        self.prob_dict = dict(zip(members,prob_hit_list))\n",
    "        self.dead = set()             #No one is dead in the beginning.\n",
    "        self.num_survived = dict((p,0) for p in members)#A dictionary that stores number of times a player survived\n",
    "    \n",
    "    def update_dict(self,List):\n",
    "        #A function that adds 1 to values of keys from List.\n",
    "        for key in List:\n",
    "            self.num_survived[key] += 1\n",
    "        return self.num_survived\n",
    "    \n",
    "    def get_target(self,players):  #Index 0 is shooter.\n",
    "        if len(players) ==3:       #A truel.\n",
    "            if players[0] == 'Good':    #Good shoots Bad.\n",
    "                return players.index('Bad')\n",
    "            else:                  #Both ugly and bad shoot good.\n",
    "                return players.index('Good')\n",
    "        if len(players) == 2:      #A duel.\n",
    "            return 1               #All of them shoot whoever is left.\n",
    "        \n",
    "    def begin_shooting(self):\n",
    "        to_shoot_list = []\n",
    "        n_dead = len(self.dead)\n",
    "        for shooter in self.alive: \n",
    "            to_shoot_list =[shooter] + [people for people in self.alive if people != shooter] \n",
    "            target = to_shoot_list[self.get_target(to_shoot_list)]\n",
    "            #Next we genrate a random number that is not larger than 99. \n",
    "            hit_rand = randint(0,99)  #If prob[shooter] =100  then he will definetly hit the target.\n",
    "            if self.prob_dict[shooter] > hit_rand:  \n",
    "                self.dead.add(target)\n",
    "        self.alive = [p for p in self.members if p not in self.dead]\n",
    "        return self.alive\n",
    "            \n",
    "    def Truel(self): #A function that simulates a Truel.#A truel ends when len(dead) = 2 or 3. \n",
    "        n_dead = len(self.dead)\n",
    "        while len(self.dead) < 2:\n",
    "            self.alive = self.begin_shooting()\n",
    "        #print('The alive member are: ' , self.alive)\n",
    "        return self.update_dict(self.alive)\n",
    "    \n",
    "            \n",
    "    def run_truels(self,N): \n",
    "        #A function that runs N rounds of the standoff.\n",
    "        sur_prob = {}   #A dictionary to store survival probabilities.\n",
    "        for truel in range(0,N):\n",
    "            self.dead =  set()\n",
    "            self.alive = self.members.copy()    #Each round begins with the same set of members.                  \n",
    "            self.num_survived = self.Truel()    #Updates the num_survived dictionary.\n",
    "        sur_prob =  {k: v / N for k, v in self.num_survived.items()}\n",
    "        return sur_prob\n",
    "            \n",
    "        "
   ]
  },
  {
   "cell_type": "markdown",
   "id": "satisfied-compromise",
   "metadata": {},
   "source": [
    "## Calcuating the Survival Probalities using Algorithm\n",
    "As can be seen both the probablities value agree."
   ]
  },
  {
   "cell_type": "code",
   "execution_count": 4,
   "id": "olive-scanner",
   "metadata": {},
   "outputs": [
    {
     "data": {
      "text/plain": [
       "{'Good': 0.057992, 'Bad': 0.01861, 'Ugly': 0.846058}"
      ]
     },
     "execution_count": 4,
     "metadata": {},
     "output_type": "execute_result"
    }
   ],
   "source": [
    "peeps = ['Good','Bad', 'Ugly']\n",
    "probs = [95,75,50]\n",
    "Game = Mexican_Standoff(peeps,probs)\n",
    "Game.run_truels(1000000)"
   ]
  }
 ],
 "metadata": {
  "kernelspec": {
   "display_name": "Python 3",
   "language": "python",
   "name": "python3"
  },
  "language_info": {
   "codemirror_mode": {
    "name": "ipython",
    "version": 3
   },
   "file_extension": ".py",
   "mimetype": "text/x-python",
   "name": "python",
   "nbconvert_exporter": "python",
   "pygments_lexer": "ipython3",
   "version": "3.8.8"
  },
  "latex_envs": {
   "LaTeX_envs_menu_present": true,
   "autoclose": false,
   "autocomplete": true,
   "bibliofile": "biblio.bib",
   "cite_by": "apalike",
   "current_citInitial": 1,
   "eqLabelWithNumbers": true,
   "eqNumInitial": 1,
   "hotkeys": {
    "equation": "Ctrl-E",
    "itemize": "Ctrl-I"
   },
   "labels_anchors": false,
   "latex_user_defs": false,
   "report_style_numbering": false,
   "user_envs_cfg": false
  },
  "toc": {
   "base_numbering": 1,
   "nav_menu": {},
   "number_sections": true,
   "sideBar": true,
   "skip_h1_title": false,
   "title_cell": "Table of Contents",
   "title_sidebar": "Contents",
   "toc_cell": true,
   "toc_position": {
    "height": "calc(100% - 180px)",
    "left": "10px",
    "top": "150px",
    "width": "181.8px"
   },
   "toc_section_display": true,
   "toc_window_display": false
  }
 },
 "nbformat": 4,
 "nbformat_minor": 5
}
