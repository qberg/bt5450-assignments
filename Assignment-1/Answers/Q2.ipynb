{
 "cells": [
  {
   "cell_type": "markdown",
   "id": "valued-woman",
   "metadata": {
    "toc": true
   },
   "source": [
    "<h1>Table of Contents<span class=\"tocSkip\"></span></h1>\n",
    "<div class=\"toc\"><ul class=\"toc-item\"><li><span><a href=\"#Android-Device-Lock-Pattern\" data-toc-modified-id=\"Android-Device-Lock-Pattern-1\"><span class=\"toc-item-num\">1&nbsp;&nbsp;</span>Android Device Lock Pattern</a></span><ul class=\"toc-item\"><li><span><a href=\"#Algorithm:\" data-toc-modified-id=\"Algorithm:-1.1\"><span class=\"toc-item-num\">1.1&nbsp;&nbsp;</span>Algorithm:</a></span><ul class=\"toc-item\"><li><span><a href=\"#Test-case-of-3$\\times$-3-mobile-phone-grid:\" data-toc-modified-id=\"Test-case-of-3$\\times$-3-mobile-phone-grid:-1.1.1\"><span class=\"toc-item-num\">1.1.1&nbsp;&nbsp;</span>Test case of 3$\\times$ 3 mobile phone grid:</a></span></li><li><span><a href=\"#Pattern-a:\" data-toc-modified-id=\"Pattern-a:-1.1.2\"><span class=\"toc-item-num\">1.1.2&nbsp;&nbsp;</span>Pattern a:</a></span><ul class=\"toc-item\"><li><span><a href=\"#A-node-can-be-used-only-once:\" data-toc-modified-id=\"A-node-can-be-used-only-once:-1.1.2.1\"><span class=\"toc-item-num\">1.1.2.1&nbsp;&nbsp;</span>A node can be used only once:</a></span></li><li><span><a href=\"#A-node-can-be-used-twice:\" data-toc-modified-id=\"A-node-can-be-used-twice:-1.1.2.2\"><span class=\"toc-item-num\">1.1.2.2&nbsp;&nbsp;</span>A node can be used twice:</a></span></li></ul></li><li><span><a href=\"#Pattern-b:\" data-toc-modified-id=\"Pattern-b:-1.1.3\"><span class=\"toc-item-num\">1.1.3&nbsp;&nbsp;</span>Pattern b:</a></span><ul class=\"toc-item\"><li><span><a href=\"#A-node-can-be-used-only-once:\" data-toc-modified-id=\"A-node-can-be-used-only-once:-1.1.3.1\"><span class=\"toc-item-num\">1.1.3.1&nbsp;&nbsp;</span>A node can be used only once:</a></span></li><li><span><a href=\"#A-node-can-be-used-twice:\" data-toc-modified-id=\"A-node-can-be-used-twice:-1.1.3.2\"><span class=\"toc-item-num\">1.1.3.2&nbsp;&nbsp;</span>A node can be used twice:</a></span></li></ul></li><li><span><a href=\"#Pattern-c:\" data-toc-modified-id=\"Pattern-c:-1.1.4\"><span class=\"toc-item-num\">1.1.4&nbsp;&nbsp;</span>Pattern c:</a></span><ul class=\"toc-item\"><li><span><a href=\"#A-node-an-be-used-only-once:\" data-toc-modified-id=\"A-node-an-be-used-only-once:-1.1.4.1\"><span class=\"toc-item-num\">1.1.4.1&nbsp;&nbsp;</span>A node an be used only once:</a></span></li><li><span><a href=\"#A-node-can-be-used-twice:\" data-toc-modified-id=\"A-node-can-be-used-twice:-1.1.4.2\"><span class=\"toc-item-num\">1.1.4.2&nbsp;&nbsp;</span>A node can be used twice:</a></span></li></ul></li></ul></li></ul></li></ul></div>"
   ]
  },
  {
   "cell_type": "markdown",
   "id": "domestic-rachel",
   "metadata": {},
   "source": [
    "# Android Device Lock Pattern\n",
    "\n",
    "A brute-force based algotithm is written below to count the number of patterns of length 4-9 that obey the rules of the game."
   ]
  },
  {
   "cell_type": "markdown",
   "id": "dressed-rental",
   "metadata": {},
   "source": [
    "## Algorithm:"
   ]
  },
  {
   "cell_type": "code",
   "execution_count": 1,
   "id": "gorgeous-power",
   "metadata": {
    "ExecuteTime": {
     "end_time": "2021-09-03T03:49:06.878000Z",
     "start_time": "2021-09-03T03:49:06.291981Z"
    }
   },
   "outputs": [
    {
     "name": "stderr",
     "output_type": "stream",
     "text": [
      "C:\\Users\\saiun\\Anaconda3\\lib\\site-packages\\pandas\\compat\\_optional.py:138: UserWarning: Pandas requires version '2.7.0' or newer of 'numexpr' (version '2.6.9' currently installed).\n",
      "  warnings.warn(msg, UserWarning)\n"
     ]
    }
   ],
   "source": [
    "import pandas as pd\n",
    "from tabulate import tabulate"
   ]
  },
  {
   "cell_type": "code",
   "execution_count": 2,
   "id": "eleven-infection",
   "metadata": {
    "ExecuteTime": {
     "end_time": "2021-09-03T03:49:06.893621Z",
     "start_time": "2021-09-03T03:49:06.878000Z"
    }
   },
   "outputs": [],
   "source": [
    "#Utilities to be used.\n",
    "count_val_in_dict = lambda Dict: sum(Dict[key] for key in Dict.keys())\n",
    "#Styling the dataframe.\n",
    "style_df = lambda df:df.head(20).style.set_table_styles(\n",
    "[{'selector': 'th',\n",
    "  'props': [('background', '#FFFEE3'), \n",
    "            ('color', 'black'),\n",
    "            ('font-family', 'verdana')]},\n",
    " \n",
    " {'selector': 'td',\n",
    "  'props': [('font-family', 'verdana')]},\n",
    "\n",
    " {'selector': 'tr:nth-of-type(odd)',\n",
    "  'props': [('background', '#ADD8E6')]}, \n",
    " \n",
    " {'selector': 'tr:nth-of-type(even)',\n",
    "  'props': [('background', 'white')]},\n",
    " \n",
    " {'selector': 'tr:hover',\n",
    "  'props': [('background-color', '#FFFEE3')]}\n",
    "]\n",
    ")"
   ]
  },
  {
   "cell_type": "code",
   "execution_count": 3,
   "id": "charitable-president",
   "metadata": {
    "ExecuteTime": {
     "end_time": "2021-09-03T03:49:07.009454Z",
     "start_time": "2021-09-03T03:49:06.893621Z"
    }
   },
   "outputs": [],
   "source": [
    "def next_nodes(path, Dict, visit_nodes):\n",
    "    #A function that returns the iterator with valid nodes given a path.\n",
    "    return (new_node for new_node in range(1, 10) if (\n",
    "         not path or\n",
    "        (path.count(new_node) < visit_nodes and path[-1] != new_node) and\n",
    "        (new_node not in Dict[path[-1]] or Dict[path[-1]][new_node] in path))\n",
    "           )\n",
    "\n",
    "\n",
    "def patterns_for_step_k(path, steps, Dict, visit_nodes):\n",
    "    #A function that calculates the number of patterns of size k.\n",
    "    if steps == 0:\n",
    "        #print(path)\n",
    "        return 1\n",
    "    return sum(\n",
    "        patterns_for_step_k(path + [n], steps - 1, Dict, visit_nodes)\n",
    "        for n in next_nodes(path, Dict, visit_nodes))"
   ]
  },
  {
   "cell_type": "markdown",
   "id": "satellite-ecology",
   "metadata": {},
   "source": [
    "### Test case of 3$\\times$ 3 mobile phone grid:\n",
    "\n",
    "As is mentioned in the assignment sheet the answer for the grid should be $3, 89, 112$. "
   ]
  },
  {
   "cell_type": "code",
   "execution_count": 4,
   "id": "future-projection",
   "metadata": {
    "ExecuteTime": {
     "end_time": "2021-09-03T03:49:07.140990Z",
     "start_time": "2021-09-03T03:49:07.009454Z"
    }
   },
   "outputs": [],
   "source": [
    "#A dictionary that stores the info regarding the points that lie on a straight line.\n",
    "pattern_grid_in_line = {\n",
    "    1: {3:2, 7:4, 9:5},\n",
    "    2: {8:5},\n",
    "    3: {1:2, 7:5, 9:6},\n",
    "    4: {6:5},\n",
    "    5: {},\n",
    "    6: {4:5},\n",
    "    7: {1:4, 3:5, 9:8},\n",
    "    8: {2:5},\n",
    "    9: {1:5, 3:6, 7:8}\n",
    "}"
   ]
  },
  {
   "cell_type": "code",
   "execution_count": 5,
   "id": "eastern-oakland",
   "metadata": {
    "ExecuteTime": {
     "end_time": "2021-09-03T03:49:08.753934Z",
     "start_time": "2021-09-03T03:49:07.140990Z"
    }
   },
   "outputs": [],
   "source": [
    "#Counting the number of paths of minimum length 4 and maximum length 9.\n",
    "paths_in_grid_dict = {}\n",
    "path_grid = []\n",
    "for k in range(4, 10):\n",
    "    paths_in_grid_dict['Path Length-'+str(k)] = patterns_for_step_k(path_grid, k,\n",
    "                                                     pattern_grid_in_line, 1)\n",
    "paths_in_grid_dict['Total'] = count_val_in_dict(paths_in_grid_dict)"
   ]
  },
  {
   "cell_type": "code",
   "execution_count": 7,
   "id": "cubic-summary",
   "metadata": {
    "ExecuteTime": {
     "end_time": "2021-09-03T03:49:09.839947Z",
     "start_time": "2021-09-03T03:49:08.755960Z"
    }
   },
   "outputs": [
    {
     "name": "stdout",
     "output_type": "stream",
     "text": [
      "The table containing number of paths for varying path length:\n",
      "\n"
     ]
    },
    {
     "data": {
      "text/html": [
       "<style type=\"text/css\">\n",
       "#T_507b7_ th {\n",
       "  background: #FFFEE3;\n",
       "  color: black;\n",
       "  font-family: verdana;\n",
       "}\n",
       "#T_507b7_ td {\n",
       "  font-family: verdana;\n",
       "}\n",
       "#T_507b7_ tr:nth-of-type(odd) {\n",
       "  background: #ADD8E6;\n",
       "}\n",
       "#T_507b7_ tr:nth-of-type(even) {\n",
       "  background: white;\n",
       "}\n",
       "#T_507b7_ tr:hover {\n",
       "  background-color: #FFFEE3;\n",
       "}\n",
       "</style>\n",
       "<table id=\"T_507b7_\">\n",
       "  <thead>\n",
       "    <tr>\n",
       "      <th class=\"blank level0\" >&nbsp;</th>\n",
       "      <th class=\"col_heading level0 col0\" >Number of Paths</th>\n",
       "    </tr>\n",
       "  </thead>\n",
       "  <tbody>\n",
       "    <tr>\n",
       "      <th id=\"T_507b7_level0_row0\" class=\"row_heading level0 row0\" >Path Length-4</th>\n",
       "      <td id=\"T_507b7_row0_col0\" class=\"data row0 col0\" >1624</td>\n",
       "    </tr>\n",
       "    <tr>\n",
       "      <th id=\"T_507b7_level0_row1\" class=\"row_heading level0 row1\" >Path Length-5</th>\n",
       "      <td id=\"T_507b7_row1_col0\" class=\"data row1 col0\" >7152</td>\n",
       "    </tr>\n",
       "    <tr>\n",
       "      <th id=\"T_507b7_level0_row2\" class=\"row_heading level0 row2\" >Path Length-6</th>\n",
       "      <td id=\"T_507b7_row2_col0\" class=\"data row2 col0\" >26016</td>\n",
       "    </tr>\n",
       "    <tr>\n",
       "      <th id=\"T_507b7_level0_row3\" class=\"row_heading level0 row3\" >Path Length-7</th>\n",
       "      <td id=\"T_507b7_row3_col0\" class=\"data row3 col0\" >72912</td>\n",
       "    </tr>\n",
       "    <tr>\n",
       "      <th id=\"T_507b7_level0_row4\" class=\"row_heading level0 row4\" >Path Length-8</th>\n",
       "      <td id=\"T_507b7_row4_col0\" class=\"data row4 col0\" >140704</td>\n",
       "    </tr>\n",
       "    <tr>\n",
       "      <th id=\"T_507b7_level0_row5\" class=\"row_heading level0 row5\" >Path Length-9</th>\n",
       "      <td id=\"T_507b7_row5_col0\" class=\"data row5 col0\" >140704</td>\n",
       "    </tr>\n",
       "    <tr>\n",
       "      <th id=\"T_507b7_level0_row6\" class=\"row_heading level0 row6\" >Total</th>\n",
       "      <td id=\"T_507b7_row6_col0\" class=\"data row6 col0\" >389112</td>\n",
       "    </tr>\n",
       "  </tbody>\n",
       "</table>\n"
      ],
      "text/plain": [
       "<pandas.io.formats.style.Styler at 0x1936aa34ef0>"
      ]
     },
     "execution_count": 7,
     "metadata": {},
     "output_type": "execute_result"
    }
   ],
   "source": [
    "DF_grid = pd.DataFrame(paths_in_grid_dict, index=[0])\n",
    "DF_grid = DF_grid.T.rename(columns={0: \"Number of Paths\"})\n",
    "print('The table containing number of paths for varying path length:\\n')\n",
    "style_df(DF_grid)"
   ]
  },
  {
   "cell_type": "markdown",
   "id": "married-cancer",
   "metadata": {},
   "source": [
    "As can be seen the answer estimated by the algorithm matches the given one."
   ]
  },
  {
   "cell_type": "markdown",
   "id": "rough-pavilion",
   "metadata": {
    "ExecuteTime": {
     "end_time": "2021-08-30T12:17:03.371407Z",
     "start_time": "2021-08-30T12:17:03.349237Z"
    }
   },
   "source": [
    "### Pattern a:"
   ]
  },
  {
   "cell_type": "code",
   "execution_count": 8,
   "id": "upper-grade",
   "metadata": {
    "ExecuteTime": {
     "end_time": "2021-09-03T03:49:09.855569Z",
     "start_time": "2021-09-03T03:49:09.839947Z"
    }
   },
   "outputs": [],
   "source": [
    "pattern_a_in_line = {\n",
    "    1: {3:2},\n",
    "    2: {4:3},\n",
    "    3: {1:2, 7:6, 5:4},\n",
    "    4: {},\n",
    "    5: {3:4},\n",
    "    6: {},\n",
    "    7: {3:6},\n",
    "    8: {},\n",
    "    9: {}\n",
    "}"
   ]
  },
  {
   "cell_type": "markdown",
   "id": "experimental-emission",
   "metadata": {},
   "source": [
    "#### A node can be used only once:"
   ]
  },
  {
   "cell_type": "code",
   "execution_count": 9,
   "id": "southeast-smoke",
   "metadata": {
    "ExecuteTime": {
     "end_time": "2021-09-03T03:49:12.822865Z",
     "start_time": "2021-09-03T03:49:09.855569Z"
    }
   },
   "outputs": [],
   "source": [
    "#Counting the number of paths of minimum length 4 and maximum length 9.\n",
    "paths_in_a_dict1 = {}\n",
    "path = []\n",
    "for k in range(4, 10):\n",
    "    paths_in_a_dict1['Path Length-'+str(k)] = patterns_for_step_k(path, k,\n",
    "                                                     pattern_a_in_line, 1)\n",
    "paths_in_a_dict1['Total'] = count_val_in_dict(paths_in_a_dict1)"
   ]
  },
  {
   "cell_type": "code",
   "execution_count": 10,
   "id": "micro-impression",
   "metadata": {
    "ExecuteTime": {
     "end_time": "2021-09-03T03:49:12.848508Z",
     "start_time": "2021-09-03T03:49:12.822865Z"
    }
   },
   "outputs": [
    {
     "name": "stdout",
     "output_type": "stream",
     "text": [
      "The table containing number of paths for varying path length:\n",
      "\n"
     ]
    },
    {
     "data": {
      "text/html": [
       "<style type=\"text/css\">\n",
       "#T_57dd0_ th {\n",
       "  background: #FFFEE3;\n",
       "  color: black;\n",
       "  font-family: verdana;\n",
       "}\n",
       "#T_57dd0_ td {\n",
       "  font-family: verdana;\n",
       "}\n",
       "#T_57dd0_ tr:nth-of-type(odd) {\n",
       "  background: #ADD8E6;\n",
       "}\n",
       "#T_57dd0_ tr:nth-of-type(even) {\n",
       "  background: white;\n",
       "}\n",
       "#T_57dd0_ tr:hover {\n",
       "  background-color: #FFFEE3;\n",
       "}\n",
       "</style>\n",
       "<table id=\"T_57dd0_\">\n",
       "  <thead>\n",
       "    <tr>\n",
       "      <th class=\"blank level0\" >&nbsp;</th>\n",
       "      <th class=\"col_heading level0 col0\" >Number of Paths</th>\n",
       "    </tr>\n",
       "  </thead>\n",
       "  <tbody>\n",
       "    <tr>\n",
       "      <th id=\"T_57dd0_level0_row0\" class=\"row_heading level0 row0\" >Path Length-4</th>\n",
       "      <td id=\"T_57dd0_row0_col0\" class=\"data row0 col0\" >2330</td>\n",
       "    </tr>\n",
       "    <tr>\n",
       "      <th id=\"T_57dd0_level0_row1\" class=\"row_heading level0 row1\" >Path Length-5</th>\n",
       "      <td id=\"T_57dd0_row1_col0\" class=\"data row1 col0\" >10898</td>\n",
       "    </tr>\n",
       "    <tr>\n",
       "      <th id=\"T_57dd0_level0_row2\" class=\"row_heading level0 row2\" >Path Length-6</th>\n",
       "      <td id=\"T_57dd0_row2_col0\" class=\"data row2 col0\" >41288</td>\n",
       "    </tr>\n",
       "    <tr>\n",
       "      <th id=\"T_57dd0_level0_row3\" class=\"row_heading level0 row3\" >Path Length-7</th>\n",
       "      <td id=\"T_57dd0_row3_col0\" class=\"data row3 col0\" >119160</td>\n",
       "    </tr>\n",
       "    <tr>\n",
       "      <th id=\"T_57dd0_level0_row4\" class=\"row_heading level0 row4\" >Path Length-8</th>\n",
       "      <td id=\"T_57dd0_row4_col0\" class=\"data row4 col0\" >233520</td>\n",
       "    </tr>\n",
       "    <tr>\n",
       "      <th id=\"T_57dd0_level0_row5\" class=\"row_heading level0 row5\" >Path Length-9</th>\n",
       "      <td id=\"T_57dd0_row5_col0\" class=\"data row5 col0\" >233520</td>\n",
       "    </tr>\n",
       "    <tr>\n",
       "      <th id=\"T_57dd0_level0_row6\" class=\"row_heading level0 row6\" >Total</th>\n",
       "      <td id=\"T_57dd0_row6_col0\" class=\"data row6 col0\" >640716</td>\n",
       "    </tr>\n",
       "  </tbody>\n",
       "</table>\n"
      ],
      "text/plain": [
       "<pandas.io.formats.style.Styler at 0x1936ba22a58>"
      ]
     },
     "execution_count": 10,
     "metadata": {},
     "output_type": "execute_result"
    }
   ],
   "source": [
    "DF_a1 = pd.DataFrame(paths_in_a_dict1, index=[0])\n",
    "DF_a1 = DF_a1.T.rename(columns={0: \"Number of Paths\"})\n",
    "print('The table containing number of paths for varying path length:\\n')\n",
    "style_df(DF_a1)"
   ]
  },
  {
   "cell_type": "markdown",
   "id": "unexpected-stack",
   "metadata": {},
   "source": [
    "#### A node can be used twice:"
   ]
  },
  {
   "cell_type": "code",
   "execution_count": 11,
   "id": "directed-cartoon",
   "metadata": {
    "ExecuteTime": {
     "start_time": "2021-09-03T03:49:06.684Z"
    }
   },
   "outputs": [
    {
     "name": "stdout",
     "output_type": "stream",
     "text": [
      "Wall time: 1min 29s\n"
     ]
    }
   ],
   "source": [
    "%%time\n",
    "#Counting the number of paths of minimum length 4 and maximum length 9.\n",
    "paths_in_a_dict2 = {}\n",
    "path = []\n",
    "for k in range(4, 10):\n",
    "    paths_in_a_dict2['Path Length-'+str(k)] = patterns_for_step_k(path, k,\n",
    "                                                     pattern_a_in_line, 2)\n",
    "paths_in_a_dict2['Total'] = count_val_in_dict(paths_in_a_dict2)\n"
   ]
  },
  {
   "cell_type": "code",
   "execution_count": 12,
   "id": "foreign-alloy",
   "metadata": {
    "ExecuteTime": {
     "start_time": "2021-09-03T03:49:06.688Z"
    }
   },
   "outputs": [
    {
     "name": "stdout",
     "output_type": "stream",
     "text": [
      "The table containing number of paths for varying path length:\n",
      "\n"
     ]
    },
    {
     "data": {
      "text/html": [
       "<style type=\"text/css\">\n",
       "#T_c8c01_ th {\n",
       "  background: #FFFEE3;\n",
       "  color: black;\n",
       "  font-family: verdana;\n",
       "}\n",
       "#T_c8c01_ td {\n",
       "  font-family: verdana;\n",
       "}\n",
       "#T_c8c01_ tr:nth-of-type(odd) {\n",
       "  background: #ADD8E6;\n",
       "}\n",
       "#T_c8c01_ tr:nth-of-type(even) {\n",
       "  background: white;\n",
       "}\n",
       "#T_c8c01_ tr:hover {\n",
       "  background-color: #FFFEE3;\n",
       "}\n",
       "</style>\n",
       "<table id=\"T_c8c01_\">\n",
       "  <thead>\n",
       "    <tr>\n",
       "      <th class=\"blank level0\" >&nbsp;</th>\n",
       "      <th class=\"col_heading level0 col0\" >Number of Paths</th>\n",
       "    </tr>\n",
       "  </thead>\n",
       "  <tbody>\n",
       "    <tr>\n",
       "      <th id=\"T_c8c01_level0_row0\" class=\"row_heading level0 row0\" >Path Length-4</th>\n",
       "      <td id=\"T_c8c01_row0_col0\" class=\"data row0 col0\" >3608</td>\n",
       "    </tr>\n",
       "    <tr>\n",
       "      <th id=\"T_c8c01_level0_row1\" class=\"row_heading level0 row1\" >Path Length-5</th>\n",
       "      <td id=\"T_c8c01_row1_col0\" class=\"data row1 col0\" >26730</td>\n",
       "    </tr>\n",
       "    <tr>\n",
       "      <th id=\"T_c8c01_level0_row2\" class=\"row_heading level0 row2\" >Path Length-6</th>\n",
       "      <td id=\"T_c8c01_row2_col0\" class=\"data row2 col0\" >193607</td>\n",
       "    </tr>\n",
       "    <tr>\n",
       "      <th id=\"T_c8c01_level0_row3\" class=\"row_heading level0 row3\" >Path Length-7</th>\n",
       "      <td id=\"T_c8c01_row3_col0\" class=\"data row3 col0\" >1357393</td>\n",
       "    </tr>\n",
       "    <tr>\n",
       "      <th id=\"T_c8c01_level0_row4\" class=\"row_heading level0 row4\" >Path Length-8</th>\n",
       "      <td id=\"T_c8c01_row4_col0\" class=\"data row4 col0\" >9127059</td>\n",
       "    </tr>\n",
       "    <tr>\n",
       "      <th id=\"T_c8c01_level0_row5\" class=\"row_heading level0 row5\" >Path Length-9</th>\n",
       "      <td id=\"T_c8c01_row5_col0\" class=\"data row5 col0\" >58288219</td>\n",
       "    </tr>\n",
       "    <tr>\n",
       "      <th id=\"T_c8c01_level0_row6\" class=\"row_heading level0 row6\" >Total</th>\n",
       "      <td id=\"T_c8c01_row6_col0\" class=\"data row6 col0\" >68996616</td>\n",
       "    </tr>\n",
       "  </tbody>\n",
       "</table>\n"
      ],
      "text/plain": [
       "<pandas.io.formats.style.Styler at 0x1936ba6a1d0>"
      ]
     },
     "execution_count": 12,
     "metadata": {},
     "output_type": "execute_result"
    }
   ],
   "source": [
    "DF_a2 = pd.DataFrame(paths_in_a_dict2, index=[0])\n",
    "DF_a2 = DF_a2.T.rename(columns={0: \"Number of Paths\"})\n",
    "print('The table containing number of paths for varying path length:\\n')\n",
    "style_df(DF_a2)"
   ]
  },
  {
   "cell_type": "markdown",
   "id": "automated-sculpture",
   "metadata": {},
   "source": [
    "### Pattern b:"
   ]
  },
  {
   "cell_type": "code",
   "execution_count": 13,
   "id": "absolute-arcade",
   "metadata": {
    "ExecuteTime": {
     "start_time": "2021-09-03T03:49:06.765Z"
    }
   },
   "outputs": [],
   "source": [
    "pattern_b_in_line ={1: {},\n",
    "    2: {},\n",
    "    3: {},\n",
    "    4: {},\n",
    "    5: {},\n",
    "    6: {},\n",
    "    7: {},\n",
    "    8: {},\n",
    "    9: {}}"
   ]
  },
  {
   "cell_type": "markdown",
   "id": "breeding-pharmaceutical",
   "metadata": {},
   "source": [
    "#### A node can be used only once:"
   ]
  },
  {
   "cell_type": "code",
   "execution_count": 14,
   "id": "modern-sunset",
   "metadata": {
    "ExecuteTime": {
     "start_time": "2021-09-03T03:49:06.831Z"
    }
   },
   "outputs": [
    {
     "name": "stdout",
     "output_type": "stream",
     "text": [
      "Wall time: 3.77 s\n"
     ]
    }
   ],
   "source": [
    "%%time\n",
    "#Counting the number of paths of minimum length 4 and maximum length 9.\n",
    "paths_in_b_dict1 = {}\n",
    "path = []\n",
    "for k in range(4, 10):\n",
    "    paths_in_b_dict1['Path Length-'+str(k)] = patterns_for_step_k(path, k,\n",
    "                                                     pattern_b_in_line, 1)\n",
    "paths_in_b_dict1['Total'] = count_val_in_dict(paths_in_b_dict1)"
   ]
  },
  {
   "cell_type": "code",
   "execution_count": 15,
   "id": "narrow-reduction",
   "metadata": {
    "ExecuteTime": {
     "start_time": "2021-09-03T03:49:06.835Z"
    }
   },
   "outputs": [
    {
     "name": "stdout",
     "output_type": "stream",
     "text": [
      "The table containing number of paths for varying path length:\n",
      "\n"
     ]
    },
    {
     "data": {
      "text/html": [
       "<style type=\"text/css\">\n",
       "#T_70413_ th {\n",
       "  background: #FFFEE3;\n",
       "  color: black;\n",
       "  font-family: verdana;\n",
       "}\n",
       "#T_70413_ td {\n",
       "  font-family: verdana;\n",
       "}\n",
       "#T_70413_ tr:nth-of-type(odd) {\n",
       "  background: #ADD8E6;\n",
       "}\n",
       "#T_70413_ tr:nth-of-type(even) {\n",
       "  background: white;\n",
       "}\n",
       "#T_70413_ tr:hover {\n",
       "  background-color: #FFFEE3;\n",
       "}\n",
       "</style>\n",
       "<table id=\"T_70413_\">\n",
       "  <thead>\n",
       "    <tr>\n",
       "      <th class=\"blank level0\" >&nbsp;</th>\n",
       "      <th class=\"col_heading level0 col0\" >Number of Paths</th>\n",
       "    </tr>\n",
       "  </thead>\n",
       "  <tbody>\n",
       "    <tr>\n",
       "      <th id=\"T_70413_level0_row0\" class=\"row_heading level0 row0\" >Path Length-4</th>\n",
       "      <td id=\"T_70413_row0_col0\" class=\"data row0 col0\" >3024</td>\n",
       "    </tr>\n",
       "    <tr>\n",
       "      <th id=\"T_70413_level0_row1\" class=\"row_heading level0 row1\" >Path Length-5</th>\n",
       "      <td id=\"T_70413_row1_col0\" class=\"data row1 col0\" >15120</td>\n",
       "    </tr>\n",
       "    <tr>\n",
       "      <th id=\"T_70413_level0_row2\" class=\"row_heading level0 row2\" >Path Length-6</th>\n",
       "      <td id=\"T_70413_row2_col0\" class=\"data row2 col0\" >60480</td>\n",
       "    </tr>\n",
       "    <tr>\n",
       "      <th id=\"T_70413_level0_row3\" class=\"row_heading level0 row3\" >Path Length-7</th>\n",
       "      <td id=\"T_70413_row3_col0\" class=\"data row3 col0\" >181440</td>\n",
       "    </tr>\n",
       "    <tr>\n",
       "      <th id=\"T_70413_level0_row4\" class=\"row_heading level0 row4\" >Path Length-8</th>\n",
       "      <td id=\"T_70413_row4_col0\" class=\"data row4 col0\" >362880</td>\n",
       "    </tr>\n",
       "    <tr>\n",
       "      <th id=\"T_70413_level0_row5\" class=\"row_heading level0 row5\" >Path Length-9</th>\n",
       "      <td id=\"T_70413_row5_col0\" class=\"data row5 col0\" >362880</td>\n",
       "    </tr>\n",
       "    <tr>\n",
       "      <th id=\"T_70413_level0_row6\" class=\"row_heading level0 row6\" >Total</th>\n",
       "      <td id=\"T_70413_row6_col0\" class=\"data row6 col0\" >985824</td>\n",
       "    </tr>\n",
       "  </tbody>\n",
       "</table>\n"
      ],
      "text/plain": [
       "<pandas.io.formats.style.Styler at 0x1936ba6a9b0>"
      ]
     },
     "execution_count": 15,
     "metadata": {},
     "output_type": "execute_result"
    }
   ],
   "source": [
    "DF_b1 = pd.DataFrame(paths_in_b_dict1, index=[0])\n",
    "DF_b1 = DF_b1.T.rename(columns={0: \"Number of Paths\"})\n",
    "print('The table containing number of paths for varying path length:\\n')\n",
    "style_df(DF_b1)"
   ]
  },
  {
   "cell_type": "markdown",
   "id": "environmental-olympus",
   "metadata": {},
   "source": [
    "#### A node can be used twice:"
   ]
  },
  {
   "cell_type": "code",
   "execution_count": 16,
   "id": "radical-valuable",
   "metadata": {
    "ExecuteTime": {
     "start_time": "2021-09-03T03:49:06.903Z"
    }
   },
   "outputs": [
    {
     "name": "stdout",
     "output_type": "stream",
     "text": [
      "Wall time: 2min 8s\n"
     ]
    }
   ],
   "source": [
    "%%time\n",
    "#Counting the number of paths of minimum length 4 and maximum length 9.\n",
    "paths_in_b_dict2 = {}\n",
    "path = []\n",
    "for k in range(4, 10):\n",
    "    paths_in_b_dict2['Path Length-'+str(k)] = patterns_for_step_k(path, k,\n",
    "                                                     pattern_b_in_line, 2)\n",
    "paths_in_b_dict2['Total'] = count_val_in_dict(paths_in_b_dict2)"
   ]
  },
  {
   "cell_type": "code",
   "execution_count": 17,
   "id": "different-berlin",
   "metadata": {
    "ExecuteTime": {
     "start_time": "2021-09-03T03:49:06.906Z"
    }
   },
   "outputs": [
    {
     "name": "stdout",
     "output_type": "stream",
     "text": [
      "The table containing number of paths for varying path length:\n",
      "\n"
     ]
    },
    {
     "data": {
      "text/html": [
       "<style type=\"text/css\">\n",
       "#T_18f54_ th {\n",
       "  background: #FFFEE3;\n",
       "  color: black;\n",
       "  font-family: verdana;\n",
       "}\n",
       "#T_18f54_ td {\n",
       "  font-family: verdana;\n",
       "}\n",
       "#T_18f54_ tr:nth-of-type(odd) {\n",
       "  background: #ADD8E6;\n",
       "}\n",
       "#T_18f54_ tr:nth-of-type(even) {\n",
       "  background: white;\n",
       "}\n",
       "#T_18f54_ tr:hover {\n",
       "  background-color: #FFFEE3;\n",
       "}\n",
       "</style>\n",
       "<table id=\"T_18f54_\">\n",
       "  <thead>\n",
       "    <tr>\n",
       "      <th class=\"blank level0\" >&nbsp;</th>\n",
       "      <th class=\"col_heading level0 col0\" >Number of Paths</th>\n",
       "    </tr>\n",
       "  </thead>\n",
       "  <tbody>\n",
       "    <tr>\n",
       "      <th id=\"T_18f54_level0_row0\" class=\"row_heading level0 row0\" >Path Length-4</th>\n",
       "      <td id=\"T_18f54_row0_col0\" class=\"data row0 col0\" >4608</td>\n",
       "    </tr>\n",
       "    <tr>\n",
       "      <th id=\"T_18f54_level0_row1\" class=\"row_heading level0 row1\" >Path Length-5</th>\n",
       "      <td id=\"T_18f54_row1_col0\" class=\"data row1 col0\" >36288</td>\n",
       "    </tr>\n",
       "    <tr>\n",
       "      <th id=\"T_18f54_level0_row2\" class=\"row_heading level0 row2\" >Path Length-6</th>\n",
       "      <td id=\"T_18f54_row2_col0\" class=\"data row2 col0\" >277704</td>\n",
       "    </tr>\n",
       "    <tr>\n",
       "      <th id=\"T_18f54_level0_row3\" class=\"row_heading level0 row3\" >Path Length-7</th>\n",
       "      <td id=\"T_18f54_row3_col0\" class=\"data row3 col0\" >2044224</td>\n",
       "    </tr>\n",
       "    <tr>\n",
       "      <th id=\"T_18f54_level0_row4\" class=\"row_heading level0 row4\" >Path Length-8</th>\n",
       "      <td id=\"T_18f54_row4_col0\" class=\"data row4 col0\" >14336784</td>\n",
       "    </tr>\n",
       "    <tr>\n",
       "      <th id=\"T_18f54_level0_row5\" class=\"row_heading level0 row5\" >Path Length-9</th>\n",
       "      <td id=\"T_18f54_row5_col0\" class=\"data row5 col0\" >94847760</td>\n",
       "    </tr>\n",
       "    <tr>\n",
       "      <th id=\"T_18f54_level0_row6\" class=\"row_heading level0 row6\" >Total</th>\n",
       "      <td id=\"T_18f54_row6_col0\" class=\"data row6 col0\" >111547368</td>\n",
       "    </tr>\n",
       "  </tbody>\n",
       "</table>\n"
      ],
      "text/plain": [
       "<pandas.io.formats.style.Styler at 0x1936ba737f0>"
      ]
     },
     "execution_count": 17,
     "metadata": {},
     "output_type": "execute_result"
    }
   ],
   "source": [
    "DF_b2 = pd.DataFrame(paths_in_b_dict2, index=[0])\n",
    "DF_b2 = DF_b2.T.rename(columns={0: \"Number of Paths\"})\n",
    "print('The table containing number of paths for varying path length:\\n')\n",
    "style_df(DF_b2)"
   ]
  },
  {
   "cell_type": "markdown",
   "id": "applied-hepatitis",
   "metadata": {},
   "source": [
    "### Pattern c:"
   ]
  },
  {
   "cell_type": "code",
   "execution_count": 18,
   "id": "operational-stanford",
   "metadata": {
    "ExecuteTime": {
     "start_time": "2021-09-03T03:49:06.967Z"
    }
   },
   "outputs": [],
   "source": [
    "pattern_c_in_line ={1: {3:2,4:2,5:2},\n",
    "    2: {4:3,5:3},\n",
    "    3: {5:4,7:6,9:8},\n",
    "    4: {2:3,1:3,1:2},\n",
    "    5: {3:4,2:4,1:4},\n",
    "    6: {8:3,9:3},\n",
    "    7: {3:6},\n",
    "    8: {6:3},\n",
    "    9: {3:8}}"
   ]
  },
  {
   "cell_type": "markdown",
   "id": "monetary-prevention",
   "metadata": {},
   "source": [
    "#### A node an be used only once:\n"
   ]
  },
  {
   "cell_type": "code",
   "execution_count": 19,
   "id": "wound-madness",
   "metadata": {
    "ExecuteTime": {
     "start_time": "2021-09-03T03:49:07.031Z"
    }
   },
   "outputs": [
    {
     "name": "stdout",
     "output_type": "stream",
     "text": [
      "Wall time: 1.34 s\n"
     ]
    }
   ],
   "source": [
    "%%time\n",
    "#Counting the number of paths of minimum length 4 and maximum length 9.\n",
    "paths_in_c_dict1 = {}\n",
    "path = []\n",
    "for k in range(4, 10):\n",
    "    paths_in_c_dict1['Path Length-'+str(k)] = patterns_for_step_k(path, k,\n",
    "                                                     pattern_c_in_line, 1)\n",
    "paths_in_c_dict1['Total'] = count_val_in_dict(paths_in_c_dict1)"
   ]
  },
  {
   "cell_type": "code",
   "execution_count": 20,
   "id": "prospective-crown",
   "metadata": {
    "ExecuteTime": {
     "start_time": "2021-09-03T03:49:07.034Z"
    }
   },
   "outputs": [
    {
     "name": "stdout",
     "output_type": "stream",
     "text": [
      "The table containing number of paths for varying path length:\n",
      "\n"
     ]
    },
    {
     "data": {
      "text/html": [
       "<style type=\"text/css\">\n",
       "#T_198be_ th {\n",
       "  background: #FFFEE3;\n",
       "  color: black;\n",
       "  font-family: verdana;\n",
       "}\n",
       "#T_198be_ td {\n",
       "  font-family: verdana;\n",
       "}\n",
       "#T_198be_ tr:nth-of-type(odd) {\n",
       "  background: #ADD8E6;\n",
       "}\n",
       "#T_198be_ tr:nth-of-type(even) {\n",
       "  background: white;\n",
       "}\n",
       "#T_198be_ tr:hover {\n",
       "  background-color: #FFFEE3;\n",
       "}\n",
       "</style>\n",
       "<table id=\"T_198be_\">\n",
       "  <thead>\n",
       "    <tr>\n",
       "      <th class=\"blank level0\" >&nbsp;</th>\n",
       "      <th class=\"col_heading level0 col0\" >Number of Paths</th>\n",
       "    </tr>\n",
       "  </thead>\n",
       "  <tbody>\n",
       "    <tr>\n",
       "      <th id=\"T_198be_level0_row0\" class=\"row_heading level0 row0\" >Path Length-4</th>\n",
       "      <td id=\"T_198be_row0_col0\" class=\"data row0 col0\" >1434</td>\n",
       "    </tr>\n",
       "    <tr>\n",
       "      <th id=\"T_198be_level0_row1\" class=\"row_heading level0 row1\" >Path Length-5</th>\n",
       "      <td id=\"T_198be_row1_col0\" class=\"data row1 col0\" >6062</td>\n",
       "    </tr>\n",
       "    <tr>\n",
       "      <th id=\"T_198be_level0_row2\" class=\"row_heading level0 row2\" >Path Length-6</th>\n",
       "      <td id=\"T_198be_row2_col0\" class=\"data row2 col0\" >21486</td>\n",
       "    </tr>\n",
       "    <tr>\n",
       "      <th id=\"T_198be_level0_row3\" class=\"row_heading level0 row3\" >Path Length-7</th>\n",
       "      <td id=\"T_198be_row3_col0\" class=\"data row3 col0\" >59671</td>\n",
       "    </tr>\n",
       "    <tr>\n",
       "      <th id=\"T_198be_level0_row4\" class=\"row_heading level0 row4\" >Path Length-8</th>\n",
       "      <td id=\"T_198be_row4_col0\" class=\"data row4 col0\" >114881</td>\n",
       "    </tr>\n",
       "    <tr>\n",
       "      <th id=\"T_198be_level0_row5\" class=\"row_heading level0 row5\" >Path Length-9</th>\n",
       "      <td id=\"T_198be_row5_col0\" class=\"data row5 col0\" >114881</td>\n",
       "    </tr>\n",
       "    <tr>\n",
       "      <th id=\"T_198be_level0_row6\" class=\"row_heading level0 row6\" >Total</th>\n",
       "      <td id=\"T_198be_row6_col0\" class=\"data row6 col0\" >318415</td>\n",
       "    </tr>\n",
       "  </tbody>\n",
       "</table>\n"
      ],
      "text/plain": [
       "<pandas.io.formats.style.Styler at 0x1936ba22f60>"
      ]
     },
     "execution_count": 20,
     "metadata": {},
     "output_type": "execute_result"
    }
   ],
   "source": [
    "DF_c1 = pd.DataFrame(paths_in_c_dict1, index=[0])\n",
    "DF_c1 = DF_c1.T.rename(columns={0: \"Number of Paths\"})\n",
    "print('The table containing number of paths for varying path length:\\n')\n",
    "style_df(DF_c1)"
   ]
  },
  {
   "cell_type": "markdown",
   "id": "piano-guess",
   "metadata": {},
   "source": [
    "#### A node can be used twice:"
   ]
  },
  {
   "cell_type": "code",
   "execution_count": 21,
   "id": "lovely-spiritual",
   "metadata": {
    "ExecuteTime": {
     "start_time": "2021-09-03T03:49:07.098Z"
    }
   },
   "outputs": [
    {
     "name": "stdout",
     "output_type": "stream",
     "text": [
      "Wall time: 40 s\n"
     ]
    }
   ],
   "source": [
    "%%time\n",
    "#Counting the number of paths of minimum length 4 and maximum length 9.\n",
    "paths_in_c_dict2 = {}\n",
    "path = []\n",
    "for k in range(4, 10):\n",
    "    paths_in_c_dict2['Path Length-'+str(k)] = patterns_for_step_k(path, k,\n",
    "                                                     pattern_c_in_line, 2)\n",
    "paths_in_c_dict2['Total'] = count_val_in_dict(paths_in_c_dict2)"
   ]
  },
  {
   "cell_type": "code",
   "execution_count": 22,
   "id": "essential-virtue",
   "metadata": {
    "ExecuteTime": {
     "start_time": "2021-09-03T03:49:07.100Z"
    }
   },
   "outputs": [
    {
     "name": "stdout",
     "output_type": "stream",
     "text": [
      "The table containing number of paths for varying path length:\n",
      "\n"
     ]
    },
    {
     "data": {
      "text/html": [
       "<style type=\"text/css\">\n",
       "#T_45ae1_ th {\n",
       "  background: #FFFEE3;\n",
       "  color: black;\n",
       "  font-family: verdana;\n",
       "}\n",
       "#T_45ae1_ td {\n",
       "  font-family: verdana;\n",
       "}\n",
       "#T_45ae1_ tr:nth-of-type(odd) {\n",
       "  background: #ADD8E6;\n",
       "}\n",
       "#T_45ae1_ tr:nth-of-type(even) {\n",
       "  background: white;\n",
       "}\n",
       "#T_45ae1_ tr:hover {\n",
       "  background-color: #FFFEE3;\n",
       "}\n",
       "</style>\n",
       "<table id=\"T_45ae1_\">\n",
       "  <thead>\n",
       "    <tr>\n",
       "      <th class=\"blank level0\" >&nbsp;</th>\n",
       "      <th class=\"col_heading level0 col0\" >Number of Paths</th>\n",
       "    </tr>\n",
       "  </thead>\n",
       "  <tbody>\n",
       "    <tr>\n",
       "      <th id=\"T_45ae1_level0_row0\" class=\"row_heading level0 row0\" >Path Length-4</th>\n",
       "      <td id=\"T_45ae1_row0_col0\" class=\"data row0 col0\" >2270</td>\n",
       "    </tr>\n",
       "    <tr>\n",
       "      <th id=\"T_45ae1_level0_row1\" class=\"row_heading level0 row1\" >Path Length-5</th>\n",
       "      <td id=\"T_45ae1_row1_col0\" class=\"data row1 col0\" >14951</td>\n",
       "    </tr>\n",
       "    <tr>\n",
       "      <th id=\"T_45ae1_level0_row2\" class=\"row_heading level0 row2\" >Path Length-6</th>\n",
       "      <td id=\"T_45ae1_row2_col0\" class=\"data row2 col0\" >98054</td>\n",
       "    </tr>\n",
       "    <tr>\n",
       "      <th id=\"T_45ae1_level0_row3\" class=\"row_heading level0 row3\" >Path Length-7</th>\n",
       "      <td id=\"T_45ae1_row3_col0\" class=\"data row3 col0\" >633629</td>\n",
       "    </tr>\n",
       "    <tr>\n",
       "      <th id=\"T_45ae1_level0_row4\" class=\"row_heading level0 row4\" >Path Length-8</th>\n",
       "      <td id=\"T_45ae1_row4_col0\" class=\"data row4 col0\" >3999872</td>\n",
       "    </tr>\n",
       "    <tr>\n",
       "      <th id=\"T_45ae1_level0_row5\" class=\"row_heading level0 row5\" >Path Length-9</th>\n",
       "      <td id=\"T_45ae1_row5_col0\" class=\"data row5 col0\" >24398833</td>\n",
       "    </tr>\n",
       "    <tr>\n",
       "      <th id=\"T_45ae1_level0_row6\" class=\"row_heading level0 row6\" >Total</th>\n",
       "      <td id=\"T_45ae1_row6_col0\" class=\"data row6 col0\" >29147609</td>\n",
       "    </tr>\n",
       "  </tbody>\n",
       "</table>\n"
      ],
      "text/plain": [
       "<pandas.io.formats.style.Styler at 0x1936ba7dac8>"
      ]
     },
     "execution_count": 22,
     "metadata": {},
     "output_type": "execute_result"
    }
   ],
   "source": [
    "DF_c2 = pd.DataFrame(paths_in_c_dict2, index=[0])\n",
    "DF_c2 = DF_c2.T.rename(columns={0: \"Number of Paths\"})\n",
    "print('The table containing number of paths for varying path length:\\n')\n",
    "style_df(DF_c2)"
   ]
  }
 ],
 "metadata": {
  "kernelspec": {
   "display_name": "Python 3",
   "language": "python",
   "name": "python3"
  },
  "language_info": {
   "codemirror_mode": {
    "name": "ipython",
    "version": 3
   },
   "file_extension": ".py",
   "mimetype": "text/x-python",
   "name": "python",
   "nbconvert_exporter": "python",
   "pygments_lexer": "ipython3",
   "version": "3.8.8"
  },
  "latex_envs": {
   "LaTeX_envs_menu_present": true,
   "autoclose": false,
   "autocomplete": true,
   "bibliofile": "biblio.bib",
   "cite_by": "apalike",
   "current_citInitial": 1,
   "eqLabelWithNumbers": true,
   "eqNumInitial": 1,
   "hotkeys": {
    "equation": "Ctrl-E",
    "itemize": "Ctrl-I"
   },
   "labels_anchors": false,
   "latex_user_defs": false,
   "report_style_numbering": false,
   "user_envs_cfg": false
  },
  "toc": {
   "base_numbering": 1,
   "nav_menu": {},
   "number_sections": true,
   "sideBar": true,
   "skip_h1_title": false,
   "title_cell": "Table of Contents",
   "title_sidebar": "Contents",
   "toc_cell": true,
   "toc_position": {},
   "toc_section_display": true,
   "toc_window_display": false
  }
 },
 "nbformat": 4,
 "nbformat_minor": 5
}
