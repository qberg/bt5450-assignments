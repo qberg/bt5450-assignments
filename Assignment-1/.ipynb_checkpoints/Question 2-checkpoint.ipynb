{
 "cells": [
  {
   "cell_type": "markdown",
   "id": "loving-punishment",
   "metadata": {},
   "source": [
    "# 2.Total possible permutations for the three different patterns:"
   ]
  },
  {
   "cell_type": "code",
   "execution_count": 1,
   "id": "voluntary-hanging",
   "metadata": {},
   "outputs": [],
   "source": [
    "import numpy as np\n",
    "import matplotlib.pyplot as plt\n",
    "import networkx as nx"
   ]
  },
  {
   "cell_type": "markdown",
   "id": "varying-desire",
   "metadata": {},
   "source": [
    "### Task 1: Representation of Graph as Adjacency Matrix:\n",
    "\n",
    "By using an adjacency matrix we can represent our graph as a np-array of size nxn. Where n is the number of vertices. The various entries of the matrix will be 1 if there is an edge connecting two vertices and 0 else. "
   ]
  },
  {
   "cell_type": "code",
   "execution_count": 2,
   "id": "industrial-alliance",
   "metadata": {},
   "outputs": [],
   "source": [
    "#Defining a class to represent the graph as an adjacency matrix.\n",
    "class Graph:\n",
    "    \n",
    "    def __init__(self):\n",
    "        #self.n = num_of_vertices  \n",
    "        self.vertices = []           #An attribute for the list of vertices.\n",
    "        self.n = 0                   #An attribute for the number of vertices in the graph.\n",
    "        self.adj_mat = None #An attribute for the adjacency matrix.\n",
    "           \n",
    "    def add_vertice(self,v):\n",
    "        #A function that adds vertices to the list self.vertices.\n",
    "        if v not in self.vertices:\n",
    "            self.vertices.append(v)\n",
    "            print('The vertice %d has been added to the graph.' %v)\n",
    "        else:\n",
    "            print('The vertice %d already exists.' %v)\n",
    "\n",
    "    def def_adj_mat(self):\n",
    "        #Run this once all the vertices are added.\n",
    "        self.n = len(self.vertices)\n",
    "        self.adj_mat = np.zeros((self.n,self.n))  #An nxn matrix of all zeros.\n",
    "        \n",
    "    def update_adj_mat(self,index1,index2):\n",
    "        self.adj_mat[index1][index2] = 1\n",
    "    \n",
    "    def add_edge(self,v1,v2):\n",
    "        #A function that adds edges to the graph whose vertices are stored in self.vertices.\n",
    "        if all(v in self.vertices for v in [v1,v2]):\n",
    "            i1 = self.vertices.index(v1)\n",
    "            i2 = self.vertices.index(v2)\n",
    "            self.update_adj_mat(i1,i2)\n",
    "            #print(self.adj_mat)\n",
    "            print('An edge between %d and %d has been added.'%(v1,v2))\n",
    "        else:\n",
    "            print('The specified edge cannot be added as there is no such vertices.')\n",
    "    \n",
    "    def visualize_graph(self, graph_layout='shell',node_size=1600, node_color='blue', node_alpha=0.3,\n",
    "               node_text_size=12,edge_color='blue', edge_alpha=0.3, edge_tickness=1,edge_text_pos=0.3,\n",
    "               text_font='sans-serif'):\n",
    "        rows, cols = np.where(self.adj_mat == 1)\n",
    "        edges = zip(rows.tolist(), cols.tolist())\n",
    "        G = nx.Graph()\n",
    "        G.add_edges_from(edges)\n",
    "        G_labels = dict((v-1,v) for v in self.vertices)\n",
    "        nx.draw(G,labels = G_labels, with_labels = True )\n",
    "        plt.show()\n",
    "            \n",
    "    "
   ]
  },
  {
   "cell_type": "code",
   "execution_count": 3,
   "id": "clean-income",
   "metadata": {},
   "outputs": [
    {
     "name": "stdout",
     "output_type": "stream",
     "text": [
      "The vertice 1 has been added to the graph.\n",
      "The vertice 2 has been added to the graph.\n",
      "The vertice 3 has been added to the graph.\n",
      "The vertice 4 has been added to the graph.\n",
      "The vertice 5 has been added to the graph.\n",
      "The vertice 6 has been added to the graph.\n",
      "The vertice 7 has been added to the graph.\n",
      "The vertice 8 has been added to the graph.\n",
      "The vertice 9 has been added to the graph.\n"
     ]
    }
   ],
   "source": [
    "#Creating an instance of class Graph to represnt G1\n",
    "G1 = Graph()\n",
    "#Adding the vertices to the graph.\n",
    "for i in range(1,10):\n",
    "    G1.add_vertice(i)\n",
    "#Initializing the adjacency matrix.\n",
    "G1.def_adj_mat()"
   ]
  },
  {
   "cell_type": "code",
   "execution_count": 4,
   "id": "sapphire-kingdom",
   "metadata": {},
   "outputs": [
    {
     "name": "stdout",
     "output_type": "stream",
     "text": [
      "An edge between 1 and 2 has been added.\n",
      "An edge between 2 and 3 has been added.\n",
      "An edge between 3 and 4 has been added.\n",
      "An edge between 4 and 5 has been added.\n",
      "An edge between 3 and 6 has been added.\n",
      "An edge between 6 and 7 has been added.\n",
      "An edge between 1 and 8 has been added.\n",
      "An edge between 2 and 8 has been added.\n",
      "An edge between 3 and 8 has been added.\n",
      "An edge between 4 and 8 has been added.\n",
      "An edge between 5 and 8 has been added.\n",
      "An edge between 1 and 9 has been added.\n",
      "An edge between 2 and 9 has been added.\n",
      "An edge between 3 and 9 has been added.\n",
      "An edge between 6 and 9 has been added.\n",
      "An edge between 7 and 9 has been added.\n"
     ]
    }
   ],
   "source": [
    "#Adding the edges to the graph.\n",
    "G1.add_edge(1,2)\n",
    "G1.add_edge(2,3)\n",
    "G1.add_edge(3,4)\n",
    "G1.add_edge(4,5)\n",
    "G1.add_edge(3,6)\n",
    "G1.add_edge(6,7)\n",
    "G1.add_edge(1,8)\n",
    "G1.add_edge(2,8)\n",
    "G1.add_edge(3,8)\n",
    "G1.add_edge(4,8)\n",
    "G1.add_edge(5,8)\n",
    "G1.add_edge(1,9)\n",
    "G1.add_edge(2,9)\n",
    "G1.add_edge(3,9)\n",
    "G1.add_edge(6,9)\n",
    "G1.add_edge(7,9)"
   ]
  },
  {
   "cell_type": "code",
   "execution_count": 5,
   "id": "characteristic-natural",
   "metadata": {},
   "outputs": [
    {
     "data": {
      "text/plain": [
       "array([[0., 1., 0., 0., 0., 0., 0., 1., 1.],\n",
       "       [0., 0., 1., 0., 0., 0., 0., 1., 1.],\n",
       "       [0., 0., 0., 1., 0., 1., 0., 1., 1.],\n",
       "       [0., 0., 0., 0., 1., 0., 0., 1., 0.],\n",
       "       [0., 0., 0., 0., 0., 0., 0., 1., 0.],\n",
       "       [0., 0., 0., 0., 0., 0., 1., 0., 1.],\n",
       "       [0., 0., 0., 0., 0., 0., 0., 0., 1.],\n",
       "       [0., 0., 0., 0., 0., 0., 0., 0., 0.],\n",
       "       [0., 0., 0., 0., 0., 0., 0., 0., 0.]])"
      ]
     },
     "execution_count": 5,
     "metadata": {},
     "output_type": "execute_result"
    }
   ],
   "source": [
    "#Getting the adjacency matrix.\n",
    "G1_adj_mat = G1.adj_mat\n",
    "G1_adj_mat"
   ]
  },
  {
   "cell_type": "code",
   "execution_count": 6,
   "id": "acting-merit",
   "metadata": {},
   "outputs": [
    {
     "data": {
      "image/png": "[encoded data removed]",
      "text/plain": [
       "<Figure size 432x288 with 1 Axes>"
      ]
     },
     "metadata": {},
     "output_type": "display_data"
    }
   ],
   "source": [
    "G1.visualize_graph()"
   ]
  },
  {
   "cell_type": "code",
   "execution_count": null,
   "id": "toxic-closer",
   "metadata": {},
   "outputs": [],
   "source": []
  }
 ],
 "metadata": {
  "kernelspec": {
   "display_name": "Python 3",
   "language": "python",
   "name": "python3"
  },
  "language_info": {
   "codemirror_mode": {
    "name": "ipython",
    "version": 3
   },
   "file_extension": ".py",
   "mimetype": "text/x-python",
   "name": "python",
   "nbconvert_exporter": "python",
   "pygments_lexer": "ipython3",
   "version": "3.8.8"
  }
 },
 "nbformat": 4,
 "nbformat_minor": 5
}
