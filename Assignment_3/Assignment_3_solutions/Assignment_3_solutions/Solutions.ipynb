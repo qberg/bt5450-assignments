{
 "cells": [
  {
   "cell_type": "markdown",
   "id": "63087c92",
   "metadata": {},
   "source": [
    "## Q1"
   ]
  },
  {
   "cell_type": "code",
   "execution_count": 27,
   "id": "1d9f18a3",
   "metadata": {},
   "outputs": [],
   "source": [
    "import numpy as np\n",
    "import pandas as pd\n",
    "from scipy.stats import hypergeom"
   ]
  },
  {
   "cell_type": "code",
   "execution_count": 3,
   "id": "e1f5584e",
   "metadata": {},
   "outputs": [
    {
     "data": {
      "text/html": [
       "<div>\n",
       "<style scoped>\n",
       "    .dataframe tbody tr th:only-of-type {\n",
       "        vertical-align: middle;\n",
       "    }\n",
       "\n",
       "    .dataframe tbody tr th {\n",
       "        vertical-align: top;\n",
       "    }\n",
       "\n",
       "    .dataframe thead th {\n",
       "        text-align: right;\n",
       "    }\n",
       "</style>\n",
       "<table border=\"1\" class=\"dataframe\">\n",
       "  <thead>\n",
       "    <tr style=\"text-align: right;\">\n",
       "      <th></th>\n",
       "      <th>Unnamed: 0</th>\n",
       "      <th>0</th>\n",
       "      <th>1</th>\n",
       "      <th>2</th>\n",
       "      <th>3</th>\n",
       "      <th>4</th>\n",
       "      <th>5</th>\n",
       "      <th>6</th>\n",
       "      <th>7</th>\n",
       "      <th>8</th>\n",
       "      <th>...</th>\n",
       "      <th>1878</th>\n",
       "      <th>1879</th>\n",
       "      <th>1880</th>\n",
       "      <th>1881</th>\n",
       "      <th>1882</th>\n",
       "      <th>1883</th>\n",
       "      <th>1884</th>\n",
       "      <th>1885</th>\n",
       "      <th>1886</th>\n",
       "      <th>1887</th>\n",
       "    </tr>\n",
       "  </thead>\n",
       "  <tbody>\n",
       "    <tr>\n",
       "      <th>0</th>\n",
       "      <td>cluster1</td>\n",
       "      <td>RE3186M</td>\n",
       "      <td>r1964</td>\n",
       "      <td>r0552</td>\n",
       "      <td>GLYSARCNc</td>\n",
       "      <td>PI45P5P</td>\n",
       "      <td>ACONT</td>\n",
       "      <td>RE2912M</td>\n",
       "      <td>LCADi_D</td>\n",
       "      <td>S2TASE2ly</td>\n",
       "      <td>...</td>\n",
       "      <td>NDPK7</td>\n",
       "      <td>GSNtm</td>\n",
       "      <td>PUNP7</td>\n",
       "      <td>GLYPROPRO1c</td>\n",
       "      <td>RE1532X</td>\n",
       "      <td>r1803</td>\n",
       "      <td>ACACT10m</td>\n",
       "      <td>LEULEULAPc</td>\n",
       "      <td>RE1956R</td>\n",
       "      <td>r0393</td>\n",
       "    </tr>\n",
       "    <tr>\n",
       "      <th>1</th>\n",
       "      <td>cluster2</td>\n",
       "      <td>RE2921X</td>\n",
       "      <td>AMACR2p</td>\n",
       "      <td>RE3186M</td>\n",
       "      <td>MMSAD3m</td>\n",
       "      <td>COQ7m</td>\n",
       "      <td>HPDCACRNCPT1</td>\n",
       "      <td>RE2915X</td>\n",
       "      <td>C2M26DCOAHLx</td>\n",
       "      <td>r0734</td>\n",
       "      <td>...</td>\n",
       "      <td>NaN</td>\n",
       "      <td>NaN</td>\n",
       "      <td>NaN</td>\n",
       "      <td>NaN</td>\n",
       "      <td>NaN</td>\n",
       "      <td>NaN</td>\n",
       "      <td>NaN</td>\n",
       "      <td>NaN</td>\n",
       "      <td>NaN</td>\n",
       "      <td>NaN</td>\n",
       "    </tr>\n",
       "    <tr>\n",
       "      <th>2</th>\n",
       "      <td>cluster3</td>\n",
       "      <td>TSTSTERONESULT</td>\n",
       "      <td>RE3264R</td>\n",
       "      <td>PHETHPTOX2</td>\n",
       "      <td>RE1796M</td>\n",
       "      <td>HMGLm</td>\n",
       "      <td>LSTNM7hr</td>\n",
       "      <td>RE2383R</td>\n",
       "      <td>HSD3B11</td>\n",
       "      <td>P4508B11r</td>\n",
       "      <td>...</td>\n",
       "      <td>NaN</td>\n",
       "      <td>NaN</td>\n",
       "      <td>NaN</td>\n",
       "      <td>NaN</td>\n",
       "      <td>NaN</td>\n",
       "      <td>NaN</td>\n",
       "      <td>NaN</td>\n",
       "      <td>NaN</td>\n",
       "      <td>NaN</td>\n",
       "      <td>NaN</td>\n",
       "    </tr>\n",
       "    <tr>\n",
       "      <th>3</th>\n",
       "      <td>cluster4</td>\n",
       "      <td>RE3103C</td>\n",
       "      <td>GALt1r</td>\n",
       "      <td>RE3161C</td>\n",
       "      <td>PEFLIPm</td>\n",
       "      <td>NTD2m</td>\n",
       "      <td>GCNTg</td>\n",
       "      <td>r0591</td>\n",
       "      <td>PI345P5P</td>\n",
       "      <td>ALAt4</td>\n",
       "      <td>...</td>\n",
       "      <td>NaN</td>\n",
       "      <td>NaN</td>\n",
       "      <td>NaN</td>\n",
       "      <td>NaN</td>\n",
       "      <td>NaN</td>\n",
       "      <td>NaN</td>\n",
       "      <td>NaN</td>\n",
       "      <td>NaN</td>\n",
       "      <td>NaN</td>\n",
       "      <td>NaN</td>\n",
       "    </tr>\n",
       "    <tr>\n",
       "      <th>4</th>\n",
       "      <td>cluster5</td>\n",
       "      <td>CRNATBtc</td>\n",
       "      <td>ASNATB0tc</td>\n",
       "      <td>RE2383R</td>\n",
       "      <td>r2321</td>\n",
       "      <td>RE3561X</td>\n",
       "      <td>LCADi_D</td>\n",
       "      <td>LYSt4</td>\n",
       "      <td>P4502C94</td>\n",
       "      <td>SARDHm</td>\n",
       "      <td>...</td>\n",
       "      <td>NaN</td>\n",
       "      <td>NaN</td>\n",
       "      <td>NaN</td>\n",
       "      <td>NaN</td>\n",
       "      <td>NaN</td>\n",
       "      <td>NaN</td>\n",
       "      <td>NaN</td>\n",
       "      <td>NaN</td>\n",
       "      <td>NaN</td>\n",
       "      <td>NaN</td>\n",
       "    </tr>\n",
       "  </tbody>\n",
       "</table>\n",
       "<p>5 rows × 1889 columns</p>\n",
       "</div>"
      ],
      "text/plain": [
       "  Unnamed: 0               0          1           2          3        4  \\\n",
       "0   cluster1         RE3186M      r1964       r0552  GLYSARCNc  PI45P5P   \n",
       "1   cluster2         RE2921X    AMACR2p     RE3186M    MMSAD3m    COQ7m   \n",
       "2   cluster3  TSTSTERONESULT    RE3264R  PHETHPTOX2    RE1796M    HMGLm   \n",
       "3   cluster4         RE3103C     GALt1r     RE3161C    PEFLIPm    NTD2m   \n",
       "4   cluster5        CRNATBtc  ASNATB0tc     RE2383R      r2321  RE3561X   \n",
       "\n",
       "              5        6             7          8  ...   1878   1879   1880  \\\n",
       "0         ACONT  RE2912M       LCADi_D  S2TASE2ly  ...  NDPK7  GSNtm  PUNP7   \n",
       "1  HPDCACRNCPT1  RE2915X  C2M26DCOAHLx      r0734  ...    NaN    NaN    NaN   \n",
       "2      LSTNM7hr  RE2383R       HSD3B11  P4508B11r  ...    NaN    NaN    NaN   \n",
       "3         GCNTg    r0591      PI345P5P      ALAt4  ...    NaN    NaN    NaN   \n",
       "4       LCADi_D    LYSt4      P4502C94     SARDHm  ...    NaN    NaN    NaN   \n",
       "\n",
       "          1881     1882   1883      1884        1885     1886   1887  \n",
       "0  GLYPROPRO1c  RE1532X  r1803  ACACT10m  LEULEULAPc  RE1956R  r0393  \n",
       "1          NaN      NaN    NaN       NaN         NaN      NaN    NaN  \n",
       "2          NaN      NaN    NaN       NaN         NaN      NaN    NaN  \n",
       "3          NaN      NaN    NaN       NaN         NaN      NaN    NaN  \n",
       "4          NaN      NaN    NaN       NaN         NaN      NaN    NaN  \n",
       "\n",
       "[5 rows x 1889 columns]"
      ]
     },
     "execution_count": 3,
     "metadata": {},
     "output_type": "execute_result"
    }
   ],
   "source": [
    "# importing the dataset\n",
    "HK_rxns=pd.read_csv('HK_rxns.csv')\n",
    "clust = pd.read_csv('Cluster_rxn_set.csv')\n",
    "clust.head()"
   ]
  },
  {
   "cell_type": "code",
   "execution_count": 10,
   "id": "89baca0d",
   "metadata": {},
   "outputs": [],
   "source": [
    "# counting numbr of HK reactions in each of the cluster\n",
    "clust_count ={}\n",
    "for i in range(26):\n",
    "    clust_count['cluster'+str(i+1)] = np.sum(np.isin(clust.T[i],HK_rxns))"
   ]
  },
  {
   "cell_type": "code",
   "execution_count": 32,
   "id": "69c8cc73",
   "metadata": {},
   "outputs": [
    {
     "name": "stdout",
     "output_type": "stream",
     "text": [
      "cluster number 1 is enriched with HK reactions\n",
      "cluster number 2 is enriched with HK reactions\n",
      "cluster number 11 is enriched with HK reactions\n",
      "cluster number 22 is enriched with HK reactions\n",
      "cluster number 23 is enriched with HK reactions\n",
      "cluster number 24 is enriched with HK reactions\n",
      "cluster number 25 is enriched with HK reactions\n"
     ]
    }
   ],
   "source": [
    "# identifying the clusters enriched with HK reactions using hypergeometric test\n",
    "alpha = 0.05\n",
    "total_rxns = 4551\n",
    "total_HK_rxns = len(HK_rxns['HK_reactions'].values)\n",
    "for i in range(26):\n",
    "    k,M,n,N = clust_count['cluster'+str(i+1)],total_rxns,total_HK_rxns,len(clust.T[i].dropna())-1\n",
    "    if 1-hypergeom.cdf(k,M,n,N)<0.05:\n",
    "        print('cluster number',i+1,'is enriched with HK reactions')"
   ]
  },
  {
   "cell_type": "markdown",
   "id": "015d887f",
   "metadata": {},
   "source": [
    "## Q2 \n",
    "Solution given only to covid 'deaths per million' of high income conuntires (vs) rest of the world"
   ]
  },
  {
   "cell_type": "code",
   "execution_count": 33,
   "id": "c337a115",
   "metadata": {},
   "outputs": [],
   "source": [
    "# importing necessary libraries\n",
    "import pandas as pd\n",
    "import numpy as np\n",
    "import matplotlib.pyplot as plt\n",
    "from scipy import stats"
   ]
  },
  {
   "cell_type": "code",
   "execution_count": 34,
   "id": "61fa013c",
   "metadata": {},
   "outputs": [
    {
     "data": {
      "text/plain": [
       "Income\n",
       "High income     45\n",
       "Low income      15\n",
       "Lower middle    25\n",
       "Upper middle    37\n",
       "dtype: int64"
      ]
     },
     "execution_count": 34,
     "metadata": {},
     "output_type": "execute_result"
    }
   ],
   "source": [
    "# importing data\n",
    "df=pd.read_csv('Hygiene.csv',encoding='latin1')\n",
    "df.groupby('Income').size()"
   ]
  },
  {
   "cell_type": "markdown",
   "id": "a1778d42",
   "metadata": {},
   "source": [
    "Since the sample size is large for the hypothesis test, z-test can be used"
   ]
  },
  {
   "cell_type": "code",
   "execution_count": 35,
   "id": "67f2ec9f",
   "metadata": {},
   "outputs": [],
   "source": [
    "x1=df['Death per million'][df.Income=='High income'] # death per million in high income countries\n",
    "x2=df['Death per million'][df.Income!='High income'] # death per million in rest of the world"
   ]
  },
  {
   "cell_type": "code",
   "execution_count": 37,
   "id": "03ac9cce",
   "metadata": {},
   "outputs": [],
   "source": [
    "# for H0: mu1-mu2 = 0 and H1: mu1-mu2 > 0\n",
    "\n",
    "# to get test stat\n",
    "def TS(S1,S2,H0):\n",
    "    X1bar,X2bar=np.mean(S1),np.mean(S2)\n",
    "    std1,std2=np.std(S1,ddof=1),np.std(S2,ddof=1)\n",
    "    den=np.sqrt((std1**2/len(S1))+(std2**2/len(S2)))\n",
    "    TS=(X1bar-X2bar-H0)/den\n",
    "    return TS\n",
    "test_stat=TS(x1,x2,0)"
   ]
  },
  {
   "cell_type": "code",
   "execution_count": 40,
   "id": "7960b543",
   "metadata": {},
   "outputs": [
    {
     "name": "stdout",
     "output_type": "stream",
     "text": [
      "We reject the null hypothesis\n",
      "The p-value is 8.742617107226902e-05\n"
     ]
    }
   ],
   "source": [
    "def HT(TS,H1,alpha):\n",
    "    if H1 =='two-sided':\n",
    "        cv1,cv2=stats.norm.ppf(alpha/2),stats.norm.ppf(1-alpha/2)\n",
    "        pvalue=2*(1-stats.norm.cdf(np.abs(TS)))\n",
    "        if TS>cv2 or TS<cv1:\n",
    "            print('We reject the null hypothesis')\n",
    "        else:\n",
    "            print('We failed to reject null hypothesis')\n",
    "    elif H1 =='larger':\n",
    "        cv=stats.norm.ppf(1-alpha)\n",
    "        pvalue=1-stats.norm.cdf(TS)\n",
    "        if TS>cv:\n",
    "            print('We reject the null hypothesis')\n",
    "        else:\n",
    "            print('We failed to reject null hypothesis')\n",
    "    elif H1 =='smaller':\n",
    "        cv=stats.norm.ppf(alpha)\n",
    "        pvalue=stats.norm.cdf(TS)\n",
    "        if TS<cv:\n",
    "            print('We reject the null hypothesis')\n",
    "        else:\n",
    "            print('We failed to reject null hypothesis')\n",
    "    return pvalue\n",
    "\n",
    "print('The p-value is',HT(test_stat,'larger',0.05))"
   ]
  },
  {
   "cell_type": "markdown",
   "id": "e9b62e12",
   "metadata": {},
   "source": [
    "Hence there is a significant difference between the average death per million of high income contries vs rest of the world"
   ]
  },
  {
   "cell_type": "markdown",
   "id": "4ef5095a",
   "metadata": {},
   "source": [
    "## Q3"
   ]
  },
  {
   "cell_type": "code",
   "execution_count": 41,
   "id": "fe2756a9",
   "metadata": {},
   "outputs": [],
   "source": [
    "# importing libraries\n",
    "import numpy as np\n",
    "import pandas as pd\n",
    "from scipy.stats import t\n",
    "from statsmodels.stats.power import tt_solve_power"
   ]
  },
  {
   "cell_type": "code",
   "execution_count": 42,
   "id": "b3275958",
   "metadata": {},
   "outputs": [],
   "source": [
    "# loading data\n",
    "data=pd.read_csv('Hygiene.csv',encoding='unicode_escape')\n",
    "lw_inc=data['Percentage Population Rural'][data['Income']=='Low income']"
   ]
  },
  {
   "cell_type": "markdown",
   "id": "b480802f",
   "metadata": {},
   "source": [
    "**Part a**"
   ]
  },
  {
   "cell_type": "code",
   "execution_count": 43,
   "id": "50041e8e",
   "metadata": {},
   "outputs": [
    {
     "name": "stdout",
     "output_type": "stream",
     "text": [
      "For question a...\n",
      "\n",
      "We failed to reject null hypothesis\n",
      "\n",
      " No, there is no sufficient evidence to support a claim that the average percentage of rural population from low income countries exceeds 66 with a significance level of 0.05\n"
     ]
    }
   ],
   "source": [
    "# As the population is normal and sample size is smaller, ttest can be used\n",
    "# to test the hypothesis and returning the pvalue and test stat for a ttest\n",
    "def HT(data,H0,H1,alpha):\n",
    "    Xbar=np.mean(data)\n",
    "    std1=np.std(data,ddof=1)\n",
    "    den=np.sqrt((std1**2/len(data)))\n",
    "    TS=(Xbar-H0)/den # the test statistic\n",
    "    df=len(data)-1 # degrees of freedom\n",
    "    if H1 =='two-sided': # if alternate hypothesis is not equal\n",
    "        cv1,cv2=t.ppf(alpha/2,df),t.ppf(1-alpha/2,df) # critical values\n",
    "        pvalue=2*(1-t.cdf(np.abs(TS),df))\n",
    "        if TS>cv2 or TS<cv1:\n",
    "            print('We reject the null hypothesis')\n",
    "        else:\n",
    "            print('We failed to reject null hypothesis')\n",
    "    elif H1 =='larger': # if alternate hypothesis is greater than\n",
    "        cv=t.ppf(1-alpha,df) # critical values\n",
    "        pvalue=1-t.cdf(TS,df)\n",
    "        if TS>cv:\n",
    "            print('We reject the null hypothesis')\n",
    "        else:\n",
    "            print('We failed to reject null hypothesis')\n",
    "    elif H1 =='smaller': # if alternate hypothesis is lesser than\n",
    "        cv=t.ppf(alpha,df) # critical values\n",
    "        pvalue=t.cdf(TS,df)\n",
    "        if TS<cv:\n",
    "            print('We reject the null hypothesis')\n",
    "        else:\n",
    "            print('We failed to reject null hypothesis')\n",
    "    return TS,pvalue # returning teststatistic and pvalue\n",
    "print('For question a...\\n')\n",
    "\n",
    "test_stat,pval=HT(lw_inc,66,'larger',0.05)\n",
    "\n",
    "print('\\n No, there is no sufficient evidence to support a claim that the average \\\n",
    "percentage of rural population from low income countries exceeds 66 with a significance level of 0.05')"
   ]
  },
  {
   "cell_type": "markdown",
   "id": "9ef30891",
   "metadata": {},
   "source": [
    "**Part b**"
   ]
  },
  {
   "cell_type": "code",
   "execution_count": 44,
   "id": "aa745fb0",
   "metadata": {},
   "outputs": [
    {
     "name": "stdout",
     "output_type": "stream",
     "text": [
      "\n",
      " For question b...\n",
      "\n",
      " The power of the statistical test is 0.1069635983159607\n"
     ]
    }
   ],
   "source": [
    "print('\\n For question b...')\n",
    "n=len(lw_inc) # number of samples\n",
    "std1=np.std(lw_inc,ddof=1)\n",
    "true_mean=67.5\n",
    "H0=66\n",
    "delta=true_mean-H0\n",
    "alpha=0.05\n",
    "power=tt_solve_power(effect_size=delta/std1,nobs=n,alpha=0.05,alternative='larger')\n",
    "print('\\n The power of the statistical test is', power)"
   ]
  },
  {
   "cell_type": "markdown",
   "id": "e802030c",
   "metadata": {},
   "source": [
    "**Part c**"
   ]
  },
  {
   "cell_type": "code",
   "execution_count": 45,
   "id": "360968b2",
   "metadata": {},
   "outputs": [
    {
     "name": "stdout",
     "output_type": "stream",
     "text": [
      "\n",
      " For question c...\n",
      "\n",
      " The lower and upper bounds of the mean of the population are 72.22927196140614 56.98459470526052 respectively\n",
      "\n",
      " As 66 lies within the two sided confidence interval. we fail to reject the null hypothesis\n"
     ]
    }
   ],
   "source": [
    "print('\\n For question c...')\n",
    "mu=np.mean(lw_inc)\n",
    "df=len(lw_inc)-1\n",
    "t_alpha_2=t.ppf(alpha/2,df) \n",
    "std1=np.std(lw_inc,ddof=1)\n",
    "deviation = t_alpha_2*(std1/np.sqrt(len(lw_inc)))\n",
    "LB, UB = mu-deviation, mu+deviation \n",
    "print('\\n The lower and upper bounds of the mean of the population are', LB, UB,'respectively')\n",
    "print('\\n As 66 lies within the two sided confidence interval. we fail to reject the null hypothesis' )"
   ]
  },
  {
   "cell_type": "markdown",
   "id": "6636b21e",
   "metadata": {},
   "source": [
    "**Part d**"
   ]
  },
  {
   "cell_type": "code",
   "execution_count": 47,
   "id": "0a67f5ca",
   "metadata": {},
   "outputs": [
    {
     "name": "stdout",
     "output_type": "stream",
     "text": [
      "\n",
      " For question d...\n",
      "\n",
      " Number of samples required are 44\n"
     ]
    }
   ],
   "source": [
    "print('\\n For question d...')\n",
    "n=len(lw_inc) # number of samples\n",
    "std1=np.std(lw_inc,ddof=1)\n",
    "true_mean=70\n",
    "H0=66\n",
    "delta=true_mean-H0\n",
    "alpha=0.05\n",
    "n_samples=tt_solve_power(effect_size=delta/std1,power=0.6,alpha=0.05,alternative='larger')\n",
    "print('\\n Number of samples required are', int(n_samples))"
   ]
  },
  {
   "cell_type": "markdown",
   "id": "5c18a5c9",
   "metadata": {},
   "source": [
    "## Q4"
   ]
  },
  {
   "cell_type": "markdown",
   "id": "d0d8f086",
   "metadata": {},
   "source": [
    "**For topology 1**"
   ]
  },
  {
   "cell_type": "code",
   "execution_count": 1,
   "id": "e865e45a",
   "metadata": {},
   "outputs": [],
   "source": [
    "import numpy as np\n",
    "import pandas as pd\n",
    "from scipy.stats import norm"
   ]
  },
  {
   "cell_type": "code",
   "execution_count": 10,
   "id": "2dd37775",
   "metadata": {},
   "outputs": [
    {
     "name": "stdout",
     "output_type": "stream",
     "text": [
      "The stoichiometric matrix \n",
      " [[ 1 -1  0  0  0  0  0  0  0  0  0  0  0  0  0]\n",
      " [ 0  0  1 -1  0  0  0  0  0  0  0  0  0  0  0]\n",
      " [ 0  1  0  0 -1 -1 -1  0  0  0  0  0  0  0  0]\n",
      " [ 0  0  0  1  1  0  0 -1 -1  0  0  0  0  0  0]\n",
      " [ 0  0  0  0  0  0  1  1  0 -1 -1  0  0  0  0]\n",
      " [ 0  0  0  0  0  1  0  0  0  0  0 -1  0  0  0]\n",
      " [ 0  0  0  0  0  0  0  0  0  1  0  1  0 -1  0]\n",
      " [ 0  0  0  0  0  0  0  0  0  0  1  0  1  0 -1]\n",
      " [ 0  0  0  0  0  0  0  0  1  0  0  0 -1  0  0]]\n"
     ]
    }
   ],
   "source": [
    "# stoichimetric matrix with columns denoting the reactions and rows denoting the metabolites\n",
    "S=np.array([[1,-1,0,0,0,0,0,0,0,0,0,0,0,0,0],[0,0,1,-1,0,0,0,0,0,0,0,0,0,0,0],[0,1,0,0,-1,-1,-1,0,0,0,0,0,0,0,0],\n",
    "          [0,0,0,1,1,0,0,-1,-1,0,0,0,0,0,0],[0,0,0,0,0,0,1,1,0,-1,-1,0,0,0,0],[0,0,0,0,0,1,0,0,0,0,0,-1,0,0,0],\n",
    "          [0,0,0,0,0,0,0,0,0,1,0,1,0,-1,0],[0,0,0,0,0,0,0,0,0,0,1,0,1,0,-1],[0,0,0,0,0,0,0,0,1,0,0,0,-1,0,0]])\n",
    "print('The stoichiometric matrix \\n',S)"
   ]
  },
  {
   "cell_type": "markdown",
   "id": "98d5d212",
   "metadata": {},
   "source": [
    "a) Multiplying the stochiometric matrix with the flux vector gives the required mass balance equations"
   ]
  },
  {
   "cell_type": "markdown",
   "id": "81999fa7",
   "metadata": {},
   "source": [
    "b) \n",
    "For the 1st equation,<br>\n",
    "$V_{m,1} - V_{m,2} = 0$ <br>\n",
    "The above equation is a linear combination of the normal distibution, hence the final equation also follows normal distribution with mean $V_{a,1} - V_{a,2}$ and variance 2 [Var(X+Y) = Var(X) +Var(Y) if X and Y are independent].\n",
    "\n"
   ]
  },
  {
   "cell_type": "markdown",
   "id": "c0303a21",
   "metadata": {},
   "source": [
    "c) For the 1st equation,<br>\n",
    "H0: $\\mu_{V_{m,1} - V_{m,2}} = 0$ <br>\n",
    "H1: $\\mu_{V_{m,1} - V_{m,2}} \\neq 0$"
   ]
  },
  {
   "cell_type": "markdown",
   "id": "fd0c6d46",
   "metadata": {},
   "source": [
    "d) Since the parent distribution is normal with known variance and sample size 3. z-test can be used"
   ]
  },
  {
   "cell_type": "code",
   "execution_count": 4,
   "id": "c4ac3930",
   "metadata": {},
   "outputs": [
    {
     "data": {
      "text/html": [
       "<div>\n",
       "<style scoped>\n",
       "    .dataframe tbody tr th:only-of-type {\n",
       "        vertical-align: middle;\n",
       "    }\n",
       "\n",
       "    .dataframe tbody tr th {\n",
       "        vertical-align: top;\n",
       "    }\n",
       "\n",
       "    .dataframe thead th {\n",
       "        text-align: right;\n",
       "    }\n",
       "</style>\n",
       "<table border=\"1\" class=\"dataframe\">\n",
       "  <thead>\n",
       "    <tr style=\"text-align: right;\">\n",
       "      <th></th>\n",
       "      <th>Unnamed: 0</th>\n",
       "      <th>sample1</th>\n",
       "      <th>sample2</th>\n",
       "      <th>sample3</th>\n",
       "    </tr>\n",
       "  </thead>\n",
       "  <tbody>\n",
       "    <tr>\n",
       "      <th>0</th>\n",
       "      <td>v1</td>\n",
       "      <td>70.189789</td>\n",
       "      <td>67.758054</td>\n",
       "      <td>69.929964</td>\n",
       "    </tr>\n",
       "    <tr>\n",
       "      <th>1</th>\n",
       "      <td>v2</td>\n",
       "      <td>69.734107</td>\n",
       "      <td>69.515106</td>\n",
       "      <td>68.846035</td>\n",
       "    </tr>\n",
       "    <tr>\n",
       "      <th>2</th>\n",
       "      <td>v3</td>\n",
       "      <td>55.734217</td>\n",
       "      <td>56.391096</td>\n",
       "      <td>56.900152</td>\n",
       "    </tr>\n",
       "    <tr>\n",
       "      <th>3</th>\n",
       "      <td>v4</td>\n",
       "      <td>56.799578</td>\n",
       "      <td>55.589391</td>\n",
       "      <td>55.404114</td>\n",
       "    </tr>\n",
       "    <tr>\n",
       "      <th>4</th>\n",
       "      <td>v5</td>\n",
       "      <td>23.638858</td>\n",
       "      <td>25.114001</td>\n",
       "      <td>24.349646</td>\n",
       "    </tr>\n",
       "  </tbody>\n",
       "</table>\n",
       "</div>"
      ],
      "text/plain": [
       "  Unnamed: 0    sample1    sample2    sample3\n",
       "0         v1  70.189789  67.758054  69.929964\n",
       "1         v2  69.734107  69.515106  68.846035\n",
       "2         v3  55.734217  56.391096  56.900152\n",
       "3         v4  56.799578  55.589391  55.404114\n",
       "4         v5  23.638858  25.114001  24.349646"
      ]
     },
     "execution_count": 4,
     "metadata": {},
     "output_type": "execute_result"
    }
   ],
   "source": [
    "# importing the dataset\n",
    "flux_vec=pd.read_csv('Q4.csv')\n",
    "flux_vec.head()"
   ]
  },
  {
   "cell_type": "code",
   "execution_count": 5,
   "id": "820dd471",
   "metadata": {},
   "outputs": [],
   "source": [
    "# getting values of the mass balance equations using Stoichiometric matrix and sample data\n",
    "met_conc=[]\n",
    "for sam in flux_vec.columns[1:]:\n",
    "    met_conc.append(S.dot(flux_vec[sam]))"
   ]
  },
  {
   "cell_type": "code",
   "execution_count": 11,
   "id": "324b6b8a",
   "metadata": {},
   "outputs": [],
   "source": [
    "met_conc=np.array(met_conc)\n",
    "# here x_bar is the test statistic for a given equation\n",
    "x_bar=np.mean(met_conc,axis=0)\n",
    "# variance array\n",
    "var=np.array([2,2,4,4,4,2,3,3,2])\n",
    "test_stats=x_bar/np.sqrt(var/3) # array of test statistic"
   ]
  },
  {
   "cell_type": "code",
   "execution_count": 12,
   "id": "d7bcc71b",
   "metadata": {},
   "outputs": [],
   "source": [
    "# getting p-values for each of the above mass balance equaiton\n",
    "pvals=[]\n",
    "for z in test_stats:\n",
    "    pvals.append(2*(1-norm.cdf(abs(z))))"
   ]
  },
  {
   "cell_type": "code",
   "execution_count": 13,
   "id": "7405fbce",
   "metadata": {},
   "outputs": [
    {
     "data": {
      "text/plain": [
       "[0.9292647347660461,\n",
       " 0.6148813658706866,\n",
       " 0.6722866160109437,\n",
       " 0.349451253351317,\n",
       " 0.6305153188304351,\n",
       " 0.40290548306332585,\n",
       " 0.6994371487330273,\n",
       " 0.010415994129402417,\n",
       " 0.13666381407065598]"
      ]
     },
     "execution_count": 13,
     "metadata": {},
     "output_type": "execute_result"
    }
   ],
   "source": [
    "pvals"
   ]
  },
  {
   "cell_type": "markdown",
   "id": "38a4f0bd",
   "metadata": {},
   "source": [
    "Since the obtained p-values are greater than 0.05 we fail to reject the null hypothesis. Thereby, we can say that there is no accumulation of metabolites in the system. This topology seems to be correct one."
   ]
  },
  {
   "cell_type": "markdown",
   "id": "04f4b0c4",
   "metadata": {},
   "source": [
    "**For topology 2**"
   ]
  },
  {
   "cell_type": "code",
   "execution_count": 17,
   "id": "6f5761c3",
   "metadata": {},
   "outputs": [
    {
     "name": "stdout",
     "output_type": "stream",
     "text": [
      "The stoichiometric matrix for the topology 2 is \n",
      " [[ 1  0  0  0  0  0 -1  0  0  0  0  0  0  0  0]\n",
      " [ 0  0  1 -1  0  0  0  0  0  0  0  0  0  0  0]\n",
      " [ 0 -1  0  0 -1 -1  1  0  0  0  0  0  0  0  0]\n",
      " [ 0  0  0  1  1  0  0 -1 -1  0  0  0  0  0  0]\n",
      " [ 0  1  0  0  0  0  0  1  0 -1 -1  0  0  0  0]\n",
      " [ 0  0  0  0  0  1  0  0  0  0  0 -1  0  0  0]\n",
      " [ 0  0  0  0  0  0  0  0  0  1  0  1  0 -1  0]\n",
      " [ 0  0  0  0  0  0  0  0  0  0  1  0  1  0 -1]\n",
      " [ 0  0  0  0  0  0  0  0  1  0  0  0 -1  0  0]]\n"
     ]
    }
   ],
   "source": [
    "# stoichimetric matrix with columns denoting the reactions and rows denoting the metabolites\n",
    "S1=np.array([[1,0,0,0,0,0,-1,0,0,0,0,0,0,0,0],[0,0,1,-1,0,0,0,0,0,0,0,0,0,0,0],[0,-1,0,0,-1,-1,1,0,0,0,0,0,0,0,0],\n",
    "          [0,0,0,1,1,0,0,-1,-1,0,0,0,0,0,0],[0,1,0,0,0,0,0,1,0,-1,-1,0,0,0,0],[0,0,0,0,0,1,0,0,0,0,0,-1,0,0,0],\n",
    "          [0,0,0,0,0,0,0,0,0,1,0,1,0,-1,0],[0,0,0,0,0,0,0,0,0,0,1,0,1,0,-1],[0,0,0,0,0,0,0,0,1,0,0,0,-1,0,0]])\n",
    "print('The stoichiometric matrix for the topology 2 is \\n',S1)"
   ]
  },
  {
   "cell_type": "code",
   "execution_count": 18,
   "id": "ea0c329d",
   "metadata": {},
   "outputs": [],
   "source": [
    "# getting values of the mass balance equations using Stoichiometric matrix and sample data\n",
    "met_conc=[]\n",
    "for sam in flux_vec.columns[1:]:\n",
    "    met_conc.append(S1.dot(flux_vec[sam]))"
   ]
  },
  {
   "cell_type": "code",
   "execution_count": 19,
   "id": "27881792",
   "metadata": {},
   "outputs": [],
   "source": [
    "met_conc=np.array(met_conc)\n",
    "# here x_bar is the test statistic for a given equation\n",
    "x_bar=np.mean(met_conc,axis=0)\n",
    "# variance array\n",
    "var=np.array([2,2,4,4,4,2,3,3,2])\n",
    "test_stats=x_bar/np.sqrt(var/3) # array of test statistic"
   ]
  },
  {
   "cell_type": "code",
   "execution_count": 20,
   "id": "8a4ad104",
   "metadata": {},
   "outputs": [],
   "source": [
    "# getting p-values for each of the above mass balance equaiton\n",
    "pvals=[]\n",
    "for z in test_stats:\n",
    "    pvals.append(2*(1-norm.cdf(abs(z))))"
   ]
  },
  {
   "cell_type": "code",
   "execution_count": 21,
   "id": "897f8073",
   "metadata": {},
   "outputs": [
    {
     "data": {
      "text/plain": [
       "[0.0,\n",
       " 0.6148813658706866,\n",
       " 0.0,\n",
       " 0.349451253351317,\n",
       " 0.0,\n",
       " 0.40290548306332585,\n",
       " 0.6994371487330273,\n",
       " 0.010415994129402417,\n",
       " 0.13666381407065598]"
      ]
     },
     "execution_count": 21,
     "metadata": {},
     "output_type": "execute_result"
    }
   ],
   "source": [
    "pvals"
   ]
  },
  {
   "cell_type": "markdown",
   "id": "fa3a0361",
   "metadata": {},
   "source": [
    "Since the p-values for metabolites 'A','C' and 'E' are less than 0.05 we reject the null hypothesis for these 3 equations. Thereby, we can say that there is accumulation/consumption of these metabolites in the system which does not follow our assumption. Hence this topology is the wrong one."
   ]
  },
  {
   "cell_type": "markdown",
   "id": "e29bdf82",
   "metadata": {},
   "source": [
    "## Q5"
   ]
  },
  {
   "cell_type": "code",
   "execution_count": 24,
   "id": "1d4f0204",
   "metadata": {},
   "outputs": [],
   "source": [
    "import numpy as np\n",
    "import pandas as pd\n",
    "import matplotlib.pyplot as plt"
   ]
  },
  {
   "cell_type": "code",
   "execution_count": 23,
   "id": "d1c234d9",
   "metadata": {},
   "outputs": [
    {
     "data": {
      "text/html": [
       "<div>\n",
       "<style scoped>\n",
       "    .dataframe tbody tr th:only-of-type {\n",
       "        vertical-align: middle;\n",
       "    }\n",
       "\n",
       "    .dataframe tbody tr th {\n",
       "        vertical-align: top;\n",
       "    }\n",
       "\n",
       "    .dataframe thead th {\n",
       "        text-align: right;\n",
       "    }\n",
       "</style>\n",
       "<table border=\"1\" class=\"dataframe\">\n",
       "  <thead>\n",
       "    <tr style=\"text-align: right;\">\n",
       "      <th></th>\n",
       "      <th>Z</th>\n",
       "    </tr>\n",
       "  </thead>\n",
       "  <tbody>\n",
       "    <tr>\n",
       "      <th>0</th>\n",
       "      <td>6.647791</td>\n",
       "    </tr>\n",
       "    <tr>\n",
       "      <th>1</th>\n",
       "      <td>0.531009</td>\n",
       "    </tr>\n",
       "    <tr>\n",
       "      <th>2</th>\n",
       "      <td>2.253752</td>\n",
       "    </tr>\n",
       "    <tr>\n",
       "      <th>3</th>\n",
       "      <td>5.723086</td>\n",
       "    </tr>\n",
       "    <tr>\n",
       "      <th>4</th>\n",
       "      <td>4.338248</td>\n",
       "    </tr>\n",
       "  </tbody>\n",
       "</table>\n",
       "</div>"
      ],
      "text/plain": [
       "          Z\n",
       "0  6.647791\n",
       "1  0.531009\n",
       "2  2.253752\n",
       "3  5.723086\n",
       "4  4.338248"
      ]
     },
     "execution_count": 23,
     "metadata": {},
     "output_type": "execute_result"
    }
   ],
   "source": [
    "df = pd.read_csv('Q5.csv')\n",
    "df.head()"
   ]
  },
  {
   "cell_type": "code",
   "execution_count": 38,
   "id": "4c19fb88",
   "metadata": {},
   "outputs": [],
   "source": [
    "# taking 1000 bootstraps and calculating the statistic for them\n",
    "test_stats=[]\n",
    "for i in range(1000):\n",
    "    samp = df['Z'].sample(frac=1,replace=True) # bootstrap sample\n",
    "    test_stats.append(np.sum(samp**(-2)*(np.exp(samp)))/len(samp))\n",
    "test_stats = np.array(test_stats)"
   ]
  },
  {
   "cell_type": "code",
   "execution_count": 48,
   "id": "1f1a3f98",
   "metadata": {},
   "outputs": [
    {
     "data": {
      "text/plain": [
       "<matplotlib.legend.Legend at 0x16ba0a5dc40>"
      ]
     },
     "execution_count": 48,
     "metadata": {},
     "output_type": "execute_result"
    },
    {
     "data": {
      "image/png": "[encoded data removed]",
      "text/plain": [
       "<Figure size 1080x360 with 1 Axes>"
      ]
     },
     "metadata": {
      "needs_background": "light"
     },
     "output_type": "display_data"
    }
   ],
   "source": [
    "# With the obtained test stat distribution, percentile values can be calculated to get the bounds\n",
    "H0 = 17\n",
    "plt.subplots(figsize=(15,5))\n",
    "plt.hist(test_stats,bins=100,label='Test stat distribution')\n",
    "plt.axvline(x=np.percentile(test_stats,2.5),color='b',label='lower bound')\n",
    "plt.axvline(x=np.percentile(test_stats,97.5),color='g',label='upper bound')\n",
    "plt.axvline(x=H0,color='r',label='H0')\n",
    "plt.legend()"
   ]
  },
  {
   "cell_type": "markdown",
   "id": "92c059e3",
   "metadata": {},
   "source": [
    "As the stated null hypothesis (H0 = 17) does not lie in within the bounds, we can reject the null hypothesis."
   ]
  },
  {
   "cell_type": "code",
   "execution_count": null,
   "id": "28d31700",
   "metadata": {},
   "outputs": [],
   "source": []
  }
 ],
 "metadata": {
  "kernelspec": {
   "display_name": "Python 3",
   "language": "python",
   "name": "python3"
  },
  "language_info": {
   "codemirror_mode": {
    "name": "ipython",
    "version": 3
   },
   "file_extension": ".py",
   "mimetype": "text/x-python",
   "name": "python",
   "nbconvert_exporter": "python",
   "pygments_lexer": "ipython3",
   "version": "3.8.8"
  },
  "latex_envs": {
   "LaTeX_envs_menu_present": true,
   "autoclose": false,
   "autocomplete": true,
   "bibliofile": "biblio.bib",
   "cite_by": "apalike",
   "current_citInitial": 1,
   "eqLabelWithNumbers": true,
   "eqNumInitial": 1,
   "hotkeys": {
    "equation": "Ctrl-E",
    "itemize": "Ctrl-I"
   },
   "labels_anchors": false,
   "latex_user_defs": false,
   "report_style_numbering": false,
   "user_envs_cfg": false
  },
  "toc": {
   "base_numbering": 1,
   "nav_menu": {},
   "number_sections": true,
   "sideBar": true,
   "skip_h1_title": false,
   "title_cell": "Table of Contents",
   "title_sidebar": "Contents",
   "toc_cell": false,
   "toc_position": {},
   "toc_section_display": true,
   "toc_window_display": false
  }
 },
 "nbformat": 4,
 "nbformat_minor": 5
}
