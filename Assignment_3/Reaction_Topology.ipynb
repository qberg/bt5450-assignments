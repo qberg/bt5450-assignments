{
 "cells": [
  {
   "cell_type": "markdown",
   "id": "weekly-trading",
   "metadata": {},
   "source": [
    "# Reaction Topology Analysis"
   ]
  },
  {
   "cell_type": "markdown",
   "id": "olympic-reputation",
   "metadata": {},
   "source": [
    "## Formulation "
   ]
  },
  {
   "cell_type": "code",
   "execution_count": 1,
   "id": "furnished-curve",
   "metadata": {
    "ExecuteTime": {
     "end_time": "2021-10-30T05:59:36.116178Z",
     "start_time": "2021-10-30T05:59:34.519010Z"
    }
   },
   "outputs": [
    {
     "ename": "ModuleNotFoundError",
     "evalue": "No module named 'pandas'",
     "output_type": "error",
     "traceback": [
      "\u001b[0;31m---------------------------------------------------------------------------\u001b[0m",
      "\u001b[0;31mModuleNotFoundError\u001b[0m                       Traceback (most recent call last)",
      "Input \u001b[0;32mIn [1]\u001b[0m, in \u001b[0;36m<cell line: 1>\u001b[0;34m()\u001b[0m\n\u001b[0;32m----> 1\u001b[0m \u001b[38;5;28;01mimport\u001b[39;00m \u001b[38;5;21;01mpandas\u001b[39;00m \u001b[38;5;28;01mas\u001b[39;00m \u001b[38;5;21;01mpd\u001b[39;00m\n\u001b[1;32m      2\u001b[0m \u001b[38;5;28;01mfrom\u001b[39;00m \u001b[38;5;21;01mUtils\u001b[39;00m\u001b[38;5;21;01m.\u001b[39;00m\u001b[38;5;21;01mtools\u001b[39;00m \u001b[38;5;28;01mimport\u001b[39;00m \u001b[38;5;241m*\u001b[39m\n\u001b[1;32m      3\u001b[0m \u001b[38;5;28;01mimport\u001b[39;00m \u001b[38;5;21;01mnumpy\u001b[39;00m \u001b[38;5;28;01mas\u001b[39;00m \u001b[38;5;21;01mnp\u001b[39;00m\n",
      "\u001b[0;31mModuleNotFoundError\u001b[0m: No module named 'pandas'"
     ]
    }
   ],
   "source": [
    "import pandas as pd\n",
    "from Utils.tools import *\n",
    "import numpy as np\n",
    "from IPython.display import display_html\n",
    "import sympy\n",
    "from scipy import stats"
   ]
  },
  {
   "cell_type": "code",
   "execution_count": 2,
   "id": "ranking-hotel",
   "metadata": {
    "ExecuteTime": {
     "end_time": "2021-10-30T05:59:36.131010Z",
     "start_time": "2021-10-30T05:59:36.118202Z"
    }
   },
   "outputs": [],
   "source": [
    "#Loading the dataframe.\n",
    "path_to_csv = 'Utils\\Datasets\\Q4.csv'\n",
    "rates_df = pd.read_csv(path_to_csv)"
   ]
  },
  {
   "cell_type": "code",
   "execution_count": 3,
   "id": "julian-manual",
   "metadata": {
    "ExecuteTime": {
     "end_time": "2021-10-30T05:59:36.298549Z",
     "start_time": "2021-10-30T05:59:36.133004Z"
    }
   },
   "outputs": [],
   "source": [
    "#A list of all metabolites present in the system.\n",
    "metabolites = ['A', 'B', 'C', 'D', 'E', 'F', 'G', 'H', 'I']\n",
    "rxns_flux = rates_df['Unnamed: 0'].tolist()\n",
    "\n",
    "#A list of all reactions. 0 represnets system inflow and 1 represents system outflow.\n",
    "topology_1 = [\n",
    "    'v1: 1 -> A', 'v2: A -> C', 'v3: 1 -> B', 'v4: B -> D', 'v5: C -> D',\n",
    "    'v6: C -> F', 'v7: C -> E', 'v8: D -> E', 'v9: D -> I', 'v10: E -> G',\n",
    "    'v11: E -> H', 'v12: F -> G', 'v13: I -> H', 'v14: G -> -1', 'v15: H -> -1'\n",
    "]\n",
    "\n",
    "topology_2 = [\n",
    "    'v1: 1 -> A', 'v7: A -> C', 'v3: 1 -> B', 'v4: B -> D', 'v5: C -> D',\n",
    "    'v6: C -> F', 'v2: C -> E', 'v8: D -> E', 'v9: D -> I', 'v10: E -> G',\n",
    "    'v11: E -> H', 'v12: F -> G', 'v13: I -> H', 'v14: G -> -1', 'v15: H -> -1'\n",
    "]"
   ]
  },
  {
   "cell_type": "code",
   "execution_count": 4,
   "id": "together-times",
   "metadata": {
    "ExecuteTime": {
     "end_time": "2021-10-30T05:59:36.448427Z",
     "start_time": "2021-10-30T05:59:36.300194Z"
    }
   },
   "outputs": [],
   "source": [
    "def stoichiometric_matrix(topology,rxns_flux=rxns_flux):\n",
    "    '''\n",
    "    A function that converts the topology of a reaction network \n",
    "    into a matrix.\n",
    "    '''\n",
    "    st_dict = {}\n",
    "    #Iterating through all reactions.\n",
    "    for directed_edge in topology:\n",
    "        eq = directed_edge.replace(' ', '')\n",
    "        rxn_rate, rxn = eq.split(':')\n",
    "        reactant, product = rxn.split('->')\n",
    "        #Here all stoichiometric coefficients are 1.\n",
    "        coeff_dict = {}\n",
    "        coeff_dict[reactant] = -1\n",
    "        coeff_dict[product] = +1\n",
    "        #Accounting for inflow and outflow of system.\n",
    "        for key in {'1', '-1'}:\n",
    "            coeff_dict.pop(key, None)\n",
    "        st_dict[rxn_rate] = coeff_dict\n",
    "        \n",
    "    st_df = pd.DataFrame(st_dict).fillna(value=0).astype(int)\n",
    "    st_df = st_df.reindex(columns=rxns_flux)\n",
    "    \n",
    "    #Converting the dataframe into an numpy array.\n",
    "    st_array = st_df.to_numpy()\n",
    "    \n",
    "    return st_array, st_df"
   ]
  },
  {
   "cell_type": "markdown",
   "id": "geographic-philip",
   "metadata": {},
   "source": [
    "## Mass Balance Equations"
   ]
  },
  {
   "cell_type": "code",
   "execution_count": 5,
   "id": "black-resistance",
   "metadata": {
    "ExecuteTime": {
     "end_time": "2021-10-30T05:59:36.588415Z",
     "start_time": "2021-10-30T05:59:36.448972Z"
    }
   },
   "outputs": [],
   "source": [
    "def mass_balance_equations(topology: list):\n",
    "    '''\n",
    "    A function that prints the mass balance equations of a \n",
    "    given topology.\n",
    "    '''\n",
    "    st_arr, st_df = stoichiometric_matrix(topology)\n",
    "    #Creating mathematical symbols out of flux variables.\n",
    "    flux_sym = [sympy.symbols(v) for v in st_df.columns]\n",
    "    #Converting them in to a vector.\n",
    "    flux_vect = sympy.Matrix(flux_sym)\n",
    "    st_mat = sympy.Matrix(st_arr)\n",
    "    #Mass balance equations are obtained by a dot product of stoichiometric matrix and flux.\n",
    "    mass_bal_eqn = st_mat * flux_vect\n",
    "    \n",
    "    print('---' * 30)\n",
    "    print('---' * 30)\n",
    "    for metabolite, eqn in zip(st_df.index, range(mass_bal_eqn.shape[0])):\n",
    "        print(\n",
    "            f'Mass balance equation for {metabolite} is, \\n\\n \\t\\t\\t\\t{mass_bal_eqn[eqn]} = 0 \\n '\n",
    "        )\n",
    "    print('---' * 30)\n",
    "    print('---' * 30)"
   ]
  },
  {
   "cell_type": "markdown",
   "id": "activated-jones",
   "metadata": {},
   "source": [
    "### Topology 1 mass balance equations"
   ]
  },
  {
   "cell_type": "code",
   "execution_count": 6,
   "id": "binding-vulnerability",
   "metadata": {
    "ExecuteTime": {
     "end_time": "2021-10-30T05:59:36.768546Z",
     "start_time": "2021-10-30T05:59:36.590255Z"
    }
   },
   "outputs": [
    {
     "name": "stdout",
     "output_type": "stream",
     "text": [
      "------------------------------------------------------------------------------------------\n",
      "------------------------------------------------------------------------------------------\n",
      "Mass balance equation for A is, \n",
      "\n",
      " \t\t\t\tv1 - v2 = 0 \n",
      " \n",
      "Mass balance equation for C is, \n",
      "\n",
      " \t\t\t\tv2 - v5 - v6 - v7 = 0 \n",
      " \n",
      "Mass balance equation for B is, \n",
      "\n",
      " \t\t\t\tv3 - v4 = 0 \n",
      " \n",
      "Mass balance equation for D is, \n",
      "\n",
      " \t\t\t\tv4 + v5 - v8 - v9 = 0 \n",
      " \n",
      "Mass balance equation for F is, \n",
      "\n",
      " \t\t\t\t-v12 + v6 = 0 \n",
      " \n",
      "Mass balance equation for E is, \n",
      "\n",
      " \t\t\t\t-v10 - v11 + v7 + v8 = 0 \n",
      " \n",
      "Mass balance equation for I is, \n",
      "\n",
      " \t\t\t\t-v13 + v9 = 0 \n",
      " \n",
      "Mass balance equation for G is, \n",
      "\n",
      " \t\t\t\tv10 + v12 - v14 = 0 \n",
      " \n",
      "Mass balance equation for H is, \n",
      "\n",
      " \t\t\t\tv11 + v13 - v15 = 0 \n",
      " \n",
      "------------------------------------------------------------------------------------------\n",
      "------------------------------------------------------------------------------------------\n"
     ]
    }
   ],
   "source": [
    "mass_balance_equations(topology_1)"
   ]
  },
  {
   "cell_type": "markdown",
   "id": "posted-norway",
   "metadata": {},
   "source": [
    "### Topology 2 mass balance equations"
   ]
  },
  {
   "cell_type": "code",
   "execution_count": 7,
   "id": "animated-beatles",
   "metadata": {
    "ExecuteTime": {
     "end_time": "2021-10-30T05:59:36.808403Z",
     "start_time": "2021-10-30T05:59:36.769098Z"
    }
   },
   "outputs": [
    {
     "name": "stdout",
     "output_type": "stream",
     "text": [
      "------------------------------------------------------------------------------------------\n",
      "------------------------------------------------------------------------------------------\n",
      "Mass balance equation for A is, \n",
      "\n",
      " \t\t\t\tv1 - v7 = 0 \n",
      " \n",
      "Mass balance equation for C is, \n",
      "\n",
      " \t\t\t\t-v2 - v5 - v6 + v7 = 0 \n",
      " \n",
      "Mass balance equation for B is, \n",
      "\n",
      " \t\t\t\tv3 - v4 = 0 \n",
      " \n",
      "Mass balance equation for D is, \n",
      "\n",
      " \t\t\t\tv4 + v5 - v8 - v9 = 0 \n",
      " \n",
      "Mass balance equation for F is, \n",
      "\n",
      " \t\t\t\t-v12 + v6 = 0 \n",
      " \n",
      "Mass balance equation for E is, \n",
      "\n",
      " \t\t\t\t-v10 - v11 + v2 + v8 = 0 \n",
      " \n",
      "Mass balance equation for I is, \n",
      "\n",
      " \t\t\t\t-v13 + v9 = 0 \n",
      " \n",
      "Mass balance equation for G is, \n",
      "\n",
      " \t\t\t\tv10 + v12 - v14 = 0 \n",
      " \n",
      "Mass balance equation for H is, \n",
      "\n",
      " \t\t\t\tv11 + v13 - v15 = 0 \n",
      " \n",
      "------------------------------------------------------------------------------------------\n",
      "------------------------------------------------------------------------------------------\n"
     ]
    }
   ],
   "source": [
    "mass_balance_equations(topology_2)"
   ]
  },
  {
   "cell_type": "markdown",
   "id": "composed-conducting",
   "metadata": {},
   "source": [
    "## Hypothesis Testing\n",
    "\n",
    "* The null hypothesis for all the matabolites is their corresponding mass balance equation derived above and the alternate hypothesis is that the mass balance eqautions are not equal to zero.\n",
    "* The statistical test to be employed is the t-test. \n",
    "* Such a choice is justifiable because of the normal nature of the metabolites flux balance equations and the available number of samples being less than 30.\n",
    "* The alpha value is given to be 0.05."
   ]
  },
  {
   "cell_type": "code",
   "execution_count": 8,
   "id": "allied-reservoir",
   "metadata": {
    "ExecuteTime": {
     "end_time": "2021-10-30T05:59:36.948230Z",
     "start_time": "2021-10-30T05:59:36.811044Z"
    }
   },
   "outputs": [],
   "source": [
    "def metabolites_mass_bal(samples_df, topology, alpha=0.05):\n",
    "    '''\n",
    "    A function that calcuates the mass balance equations values for all\n",
    "    the samples.\n",
    "    \n",
    "        Args:\n",
    "              samples_df -> (dataframe) Measured reaction flux values. \n",
    "              topology -> (list) The reaction network toplogy.\n",
    "              alpha -> (float) confidence interval. \n",
    "                        As default set to 0.05.\n",
    "    '''\n",
    "\n",
    "    #Estimating the mass balance eqution values.\n",
    "    mass_bal_dict = {}\n",
    "\n",
    "    st_mat, st_df = stoichiometric_matrix(topology)\n",
    "\n",
    "    for sample in ['sample1', 'sample2', 'sample3']:\n",
    "        mass_bal_dict[sample + '_mass_balance'] = np.dot(\n",
    "            st_mat, samples_df[sample].values)\n",
    "\n",
    "    df = pd.DataFrame(mass_bal_dict, index=st_df.index)\n",
    "\n",
    "    #Running the t-test.\n",
    "    test_results = stats.ttest_1samp(df, 0, axis=1)\n",
    "    df['t-test statistic'] = test_results.statistic\n",
    "    df['p-value'] = test_results.pvalue\n",
    "    df['Null Hypothesis'] = (df['p-value'] > alpha).map({\n",
    "        False: 'Rejected',\n",
    "        True: 'Accepted'\n",
    "    })\n",
    "\n",
    "    return style_df(df)"
   ]
  },
  {
   "cell_type": "markdown",
   "id": "colored-myrtle",
   "metadata": {},
   "source": [
    "### Topology 1"
   ]
  },
  {
   "cell_type": "code",
   "execution_count": 9,
   "id": "cultural-orleans",
   "metadata": {
    "ExecuteTime": {
     "end_time": "2021-10-30T05:59:37.788408Z",
     "start_time": "2021-10-30T05:59:36.950390Z"
    }
   },
   "outputs": [
    {
     "data": {
      "text/html": [
       "<style  type=\"text/css\" >\n",
       "    #T_74f5f_ th {\n",
       "          background: #FFFEE3;\n",
       "          color: black;\n",
       "          font-family: verdana;\n",
       "    }    #T_74f5f_ td {\n",
       "          font-family: verdana;\n",
       "    }    #T_74f5f_ tr:nth-of-type(odd) {\n",
       "          background: #ADD8E6;\n",
       "    }    #T_74f5f_ tr:nth-of-type(even) {\n",
       "          background: white;\n",
       "    }    #T_74f5f_ tr:hover {\n",
       "          background-color: #FFFEE3;\n",
       "    }</style><table id=\"T_74f5f_\" ><thead>    <tr>        <th class=\"blank level0\" ></th>        <th class=\"col_heading level0 col0\" >sample1_mass_balance</th>        <th class=\"col_heading level0 col1\" >sample2_mass_balance</th>        <th class=\"col_heading level0 col2\" >sample3_mass_balance</th>        <th class=\"col_heading level0 col3\" >t-test statistic</th>        <th class=\"col_heading level0 col4\" >p-value</th>        <th class=\"col_heading level0 col5\" >Null Hypothesis</th>    </tr></thead><tbody>\n",
       "                <tr>\n",
       "                        <th id=\"T_74f5f_level0_row0\" class=\"row_heading level0 row0\" >A</th>\n",
       "                        <td id=\"T_74f5f_row0_col0\" class=\"data row0 col0\" >0.455683</td>\n",
       "                        <td id=\"T_74f5f_row0_col1\" class=\"data row0 col1\" >-1.757053</td>\n",
       "                        <td id=\"T_74f5f_row0_col2\" class=\"data row0 col2\" >1.083929</td>\n",
       "                        <td id=\"T_74f5f_row0_col3\" class=\"data row0 col3\" >-0.084124</td>\n",
       "                        <td id=\"T_74f5f_row0_col4\" class=\"data row0 col4\" >0.940620</td>\n",
       "                        <td id=\"T_74f5f_row0_col5\" class=\"data row0 col5\" >Accepted</td>\n",
       "            </tr>\n",
       "            <tr>\n",
       "                        <th id=\"T_74f5f_level0_row1\" class=\"row_heading level0 row1\" >C</th>\n",
       "                        <td id=\"T_74f5f_row1_col0\" class=\"data row1 col0\" >1.264543</td>\n",
       "                        <td id=\"T_74f5f_row1_col1\" class=\"data row1 col1\" >0.764740</td>\n",
       "                        <td id=\"T_74f5f_row1_col2\" class=\"data row1 col2\" >-0.563927</td>\n",
       "                        <td id=\"T_74f5f_row1_col3\" class=\"data row1 col3\" >0.895237</td>\n",
       "                        <td id=\"T_74f5f_row1_col4\" class=\"data row1 col4\" >0.465132</td>\n",
       "                        <td id=\"T_74f5f_row1_col5\" class=\"data row1 col5\" >Accepted</td>\n",
       "            </tr>\n",
       "            <tr>\n",
       "                        <th id=\"T_74f5f_level0_row2\" class=\"row_heading level0 row2\" >B</th>\n",
       "                        <td id=\"T_74f5f_row2_col0\" class=\"data row2 col0\" >-1.065361</td>\n",
       "                        <td id=\"T_74f5f_row2_col1\" class=\"data row2 col1\" >0.801704</td>\n",
       "                        <td id=\"T_74f5f_row2_col2\" class=\"data row2 col2\" >1.496038</td>\n",
       "                        <td id=\"T_74f5f_row2_col3\" class=\"data row2 col3\" >0.537120</td>\n",
       "                        <td id=\"T_74f5f_row2_col4\" class=\"data row2 col4\" >0.644945</td>\n",
       "                        <td id=\"T_74f5f_row2_col5\" class=\"data row2 col5\" >Accepted</td>\n",
       "            </tr>\n",
       "            <tr>\n",
       "                        <th id=\"T_74f5f_level0_row3\" class=\"row_heading level0 row3\" >D</th>\n",
       "                        <td id=\"T_74f5f_row3_col0\" class=\"data row3 col0\" >0.931989</td>\n",
       "                        <td id=\"T_74f5f_row3_col1\" class=\"data row3 col1\" >-0.621484</td>\n",
       "                        <td id=\"T_74f5f_row3_col2\" class=\"data row3 col2\" >-3.551706</td>\n",
       "                        <td id=\"T_74f5f_row3_col3\" class=\"data row3 col3\" >-0.821902</td>\n",
       "                        <td id=\"T_74f5f_row3_col4\" class=\"data row3 col4\" >0.497524</td>\n",
       "                        <td id=\"T_74f5f_row3_col5\" class=\"data row3 col5\" >Accepted</td>\n",
       "            </tr>\n",
       "            <tr>\n",
       "                        <th id=\"T_74f5f_level0_row4\" class=\"row_heading level0 row4\" >F</th>\n",
       "                        <td id=\"T_74f5f_row4_col0\" class=\"data row4 col0\" >-0.433978</td>\n",
       "                        <td id=\"T_74f5f_row4_col1\" class=\"data row4 col1\" >0.223297</td>\n",
       "                        <td id=\"T_74f5f_row4_col2\" class=\"data row4 col2\" >-1.838179</td>\n",
       "                        <td id=\"T_74f5f_row4_col3\" class=\"data row4 col3\" >-1.123319</td>\n",
       "                        <td id=\"T_74f5f_row4_col4\" class=\"data row4 col4\" >0.378027</td>\n",
       "                        <td id=\"T_74f5f_row4_col5\" class=\"data row4 col5\" >Accepted</td>\n",
       "            </tr>\n",
       "            <tr>\n",
       "                        <th id=\"T_74f5f_level0_row5\" class=\"row_heading level0 row5\" >E</th>\n",
       "                        <td id=\"T_74f5f_row5_col0\" class=\"data row5 col0\" >-1.738409</td>\n",
       "                        <td id=\"T_74f5f_row5_col1\" class=\"data row5 col1\" >-0.134649</td>\n",
       "                        <td id=\"T_74f5f_row5_col2\" class=\"data row5 col2\" >0.206820</td>\n",
       "                        <td id=\"T_74f5f_row5_col3\" class=\"data row5 col3\" >-0.926220</td>\n",
       "                        <td id=\"T_74f5f_row5_col4\" class=\"data row5 col4\" >0.452112</td>\n",
       "                        <td id=\"T_74f5f_row5_col5\" class=\"data row5 col5\" >Accepted</td>\n",
       "            </tr>\n",
       "            <tr>\n",
       "                        <th id=\"T_74f5f_level0_row6\" class=\"row_heading level0 row6\" >I</th>\n",
       "                        <td id=\"T_74f5f_row6_col0\" class=\"data row6 col0\" >-4.401568</td>\n",
       "                        <td id=\"T_74f5f_row6_col1\" class=\"data row6 col1\" >0.440471</td>\n",
       "                        <td id=\"T_74f5f_row6_col2\" class=\"data row6 col2\" >0.315448</td>\n",
       "                        <td id=\"T_74f5f_row6_col3\" class=\"data row6 col3\" >-0.762568</td>\n",
       "                        <td id=\"T_74f5f_row6_col4\" class=\"data row6 col4\" >0.525385</td>\n",
       "                        <td id=\"T_74f5f_row6_col5\" class=\"data row6 col5\" >Accepted</td>\n",
       "            </tr>\n",
       "            <tr>\n",
       "                        <th id=\"T_74f5f_level0_row7\" class=\"row_heading level0 row7\" >G</th>\n",
       "                        <td id=\"T_74f5f_row7_col0\" class=\"data row7 col0\" >2.276287</td>\n",
       "                        <td id=\"T_74f5f_row7_col1\" class=\"data row7 col1\" >-2.904792</td>\n",
       "                        <td id=\"T_74f5f_row7_col2\" class=\"data row7 col2\" >1.786745</td>\n",
       "                        <td id=\"T_74f5f_row7_col3\" class=\"data row7 col3\" >0.233777</td>\n",
       "                        <td id=\"T_74f5f_row7_col4\" class=\"data row7 col4\" >0.836908</td>\n",
       "                        <td id=\"T_74f5f_row7_col5\" class=\"data row7 col5\" >Accepted</td>\n",
       "            </tr>\n",
       "            <tr>\n",
       "                        <th id=\"T_74f5f_level0_row8\" class=\"row_heading level0 row8\" >H</th>\n",
       "                        <td id=\"T_74f5f_row8_col0\" class=\"data row8 col0\" >5.291297</td>\n",
       "                        <td id=\"T_74f5f_row8_col1\" class=\"data row8 col1\" >1.660844</td>\n",
       "                        <td id=\"T_74f5f_row8_col2\" class=\"data row8 col2\" >0.732972</td>\n",
       "                        <td id=\"T_74f5f_row8_col3\" class=\"data row8 col3\" >1.841850</td>\n",
       "                        <td id=\"T_74f5f_row8_col4\" class=\"data row8 col4\" >0.206836</td>\n",
       "                        <td id=\"T_74f5f_row8_col5\" class=\"data row8 col5\" >Accepted</td>\n",
       "            </tr>\n",
       "    </tbody></table>"
      ],
      "text/plain": [
       "<pandas.io.formats.style.Styler at 0x2132e5cf250>"
      ]
     },
     "execution_count": 9,
     "metadata": {},
     "output_type": "execute_result"
    }
   ],
   "source": [
    "metabolites_mass_bal(rates_df,topology_1)"
   ]
  },
  {
   "cell_type": "markdown",
   "id": "diverse-reviewer",
   "metadata": {},
   "source": [
    "### Topology 2"
   ]
  },
  {
   "cell_type": "code",
   "execution_count": 10,
   "id": "pleasant-melissa",
   "metadata": {
    "ExecuteTime": {
     "end_time": "2021-10-30T05:59:37.808267Z",
     "start_time": "2021-10-30T05:59:37.789984Z"
    }
   },
   "outputs": [
    {
     "data": {
      "text/html": [
       "<style  type=\"text/css\" >\n",
       "    #T_d0830_ th {\n",
       "          background: #FFFEE3;\n",
       "          color: black;\n",
       "          font-family: verdana;\n",
       "    }    #T_d0830_ td {\n",
       "          font-family: verdana;\n",
       "    }    #T_d0830_ tr:nth-of-type(odd) {\n",
       "          background: #ADD8E6;\n",
       "    }    #T_d0830_ tr:nth-of-type(even) {\n",
       "          background: white;\n",
       "    }    #T_d0830_ tr:hover {\n",
       "          background-color: #FFFEE3;\n",
       "    }</style><table id=\"T_d0830_\" ><thead>    <tr>        <th class=\"blank level0\" ></th>        <th class=\"col_heading level0 col0\" >sample1_mass_balance</th>        <th class=\"col_heading level0 col1\" >sample2_mass_balance</th>        <th class=\"col_heading level0 col2\" >sample3_mass_balance</th>        <th class=\"col_heading level0 col3\" >t-test statistic</th>        <th class=\"col_heading level0 col4\" >p-value</th>        <th class=\"col_heading level0 col5\" >Null Hypothesis</th>    </tr></thead><tbody>\n",
       "                <tr>\n",
       "                        <th id=\"T_d0830_level0_row0\" class=\"row_heading level0 row0\" >A</th>\n",
       "                        <td id=\"T_d0830_row0_col0\" class=\"data row0 col0\" >50.856948</td>\n",
       "                        <td id=\"T_d0830_row0_col1\" class=\"data row0 col1\" >49.901162</td>\n",
       "                        <td id=\"T_d0830_row0_col2\" class=\"data row0 col2\" >51.270140</td>\n",
       "                        <td id=\"T_d0830_row0_col3\" class=\"data row0 col3\" >125.001206</td>\n",
       "                        <td id=\"T_d0830_row0_col4\" class=\"data row0 col4\" >0.000064</td>\n",
       "                        <td id=\"T_d0830_row0_col5\" class=\"data row0 col5\" >Rejected</td>\n",
       "            </tr>\n",
       "            <tr>\n",
       "                        <th id=\"T_d0830_level0_row1\" class=\"row_heading level0 row1\" >C</th>\n",
       "                        <td id=\"T_d0830_row1_col0\" class=\"data row1 col0\" >-99.537987</td>\n",
       "                        <td id=\"T_d0830_row1_col1\" class=\"data row1 col1\" >-102.551689</td>\n",
       "                        <td id=\"T_d0830_row1_col2\" class=\"data row1 col2\" >-100.936349</td>\n",
       "                        <td id=\"T_d0830_row1_col3\" class=\"data row1 col3\" >-116.004316</td>\n",
       "                        <td id=\"T_d0830_row1_col4\" class=\"data row1 col4\" >0.000074</td>\n",
       "                        <td id=\"T_d0830_row1_col5\" class=\"data row1 col5\" >Rejected</td>\n",
       "            </tr>\n",
       "            <tr>\n",
       "                        <th id=\"T_d0830_level0_row2\" class=\"row_heading level0 row2\" >B</th>\n",
       "                        <td id=\"T_d0830_row2_col0\" class=\"data row2 col0\" >-1.065361</td>\n",
       "                        <td id=\"T_d0830_row2_col1\" class=\"data row2 col1\" >0.801704</td>\n",
       "                        <td id=\"T_d0830_row2_col2\" class=\"data row2 col2\" >1.496038</td>\n",
       "                        <td id=\"T_d0830_row2_col3\" class=\"data row2 col3\" >0.537120</td>\n",
       "                        <td id=\"T_d0830_row2_col4\" class=\"data row2 col4\" >0.644945</td>\n",
       "                        <td id=\"T_d0830_row2_col5\" class=\"data row2 col5\" >Accepted</td>\n",
       "            </tr>\n",
       "            <tr>\n",
       "                        <th id=\"T_d0830_level0_row3\" class=\"row_heading level0 row3\" >D</th>\n",
       "                        <td id=\"T_d0830_row3_col0\" class=\"data row3 col0\" >0.931989</td>\n",
       "                        <td id=\"T_d0830_row3_col1\" class=\"data row3 col1\" >-0.621484</td>\n",
       "                        <td id=\"T_d0830_row3_col2\" class=\"data row3 col2\" >-3.551706</td>\n",
       "                        <td id=\"T_d0830_row3_col3\" class=\"data row3 col3\" >-0.821902</td>\n",
       "                        <td id=\"T_d0830_row3_col4\" class=\"data row3 col4\" >0.497524</td>\n",
       "                        <td id=\"T_d0830_row3_col5\" class=\"data row3 col5\" >Accepted</td>\n",
       "            </tr>\n",
       "            <tr>\n",
       "                        <th id=\"T_d0830_level0_row4\" class=\"row_heading level0 row4\" >F</th>\n",
       "                        <td id=\"T_d0830_row4_col0\" class=\"data row4 col0\" >-0.433978</td>\n",
       "                        <td id=\"T_d0830_row4_col1\" class=\"data row4 col1\" >0.223297</td>\n",
       "                        <td id=\"T_d0830_row4_col2\" class=\"data row4 col2\" >-1.838179</td>\n",
       "                        <td id=\"T_d0830_row4_col3\" class=\"data row4 col3\" >-1.123319</td>\n",
       "                        <td id=\"T_d0830_row4_col4\" class=\"data row4 col4\" >0.378027</td>\n",
       "                        <td id=\"T_d0830_row4_col5\" class=\"data row4 col5\" >Accepted</td>\n",
       "            </tr>\n",
       "            <tr>\n",
       "                        <th id=\"T_d0830_level0_row5\" class=\"row_heading level0 row5\" >E</th>\n",
       "                        <td id=\"T_d0830_row5_col0\" class=\"data row5 col0\" >48.662856</td>\n",
       "                        <td id=\"T_d0830_row5_col1\" class=\"data row5 col1\" >51.523565</td>\n",
       "                        <td id=\"T_d0830_row5_col2\" class=\"data row5 col2\" >50.393031</td>\n",
       "                        <td id=\"T_d0830_row5_col3\" class=\"data row5 col3\" >60.339833</td>\n",
       "                        <td id=\"T_d0830_row5_col4\" class=\"data row5 col4\" >0.000275</td>\n",
       "                        <td id=\"T_d0830_row5_col5\" class=\"data row5 col5\" >Rejected</td>\n",
       "            </tr>\n",
       "            <tr>\n",
       "                        <th id=\"T_d0830_level0_row6\" class=\"row_heading level0 row6\" >I</th>\n",
       "                        <td id=\"T_d0830_row6_col0\" class=\"data row6 col0\" >-4.401568</td>\n",
       "                        <td id=\"T_d0830_row6_col1\" class=\"data row6 col1\" >0.440471</td>\n",
       "                        <td id=\"T_d0830_row6_col2\" class=\"data row6 col2\" >0.315448</td>\n",
       "                        <td id=\"T_d0830_row6_col3\" class=\"data row6 col3\" >-0.762568</td>\n",
       "                        <td id=\"T_d0830_row6_col4\" class=\"data row6 col4\" >0.525385</td>\n",
       "                        <td id=\"T_d0830_row6_col5\" class=\"data row6 col5\" >Accepted</td>\n",
       "            </tr>\n",
       "            <tr>\n",
       "                        <th id=\"T_d0830_level0_row7\" class=\"row_heading level0 row7\" >G</th>\n",
       "                        <td id=\"T_d0830_row7_col0\" class=\"data row7 col0\" >2.276287</td>\n",
       "                        <td id=\"T_d0830_row7_col1\" class=\"data row7 col1\" >-2.904792</td>\n",
       "                        <td id=\"T_d0830_row7_col2\" class=\"data row7 col2\" >1.786745</td>\n",
       "                        <td id=\"T_d0830_row7_col3\" class=\"data row7 col3\" >0.233777</td>\n",
       "                        <td id=\"T_d0830_row7_col4\" class=\"data row7 col4\" >0.836908</td>\n",
       "                        <td id=\"T_d0830_row7_col5\" class=\"data row7 col5\" >Accepted</td>\n",
       "            </tr>\n",
       "            <tr>\n",
       "                        <th id=\"T_d0830_level0_row8\" class=\"row_heading level0 row8\" >H</th>\n",
       "                        <td id=\"T_d0830_row8_col0\" class=\"data row8 col0\" >5.291297</td>\n",
       "                        <td id=\"T_d0830_row8_col1\" class=\"data row8 col1\" >1.660844</td>\n",
       "                        <td id=\"T_d0830_row8_col2\" class=\"data row8 col2\" >0.732972</td>\n",
       "                        <td id=\"T_d0830_row8_col3\" class=\"data row8 col3\" >1.841850</td>\n",
       "                        <td id=\"T_d0830_row8_col4\" class=\"data row8 col4\" >0.206836</td>\n",
       "                        <td id=\"T_d0830_row8_col5\" class=\"data row8 col5\" >Accepted</td>\n",
       "            </tr>\n",
       "    </tbody></table>"
      ],
      "text/plain": [
       "<pandas.io.formats.style.Styler at 0x2130272f7f0>"
      ]
     },
     "execution_count": 10,
     "metadata": {},
     "output_type": "execute_result"
    }
   ],
   "source": [
    "metabolites_mass_bal(rates_df,topology_2)"
   ]
  },
  {
   "cell_type": "markdown",
   "id": "veterinary-iraqi",
   "metadata": {},
   "source": [
    "* From the above two tables we can see that the null hypothesis is rejected for the metabolites A, C and E in the topology 2. \n",
    "* This would mean that there would be some accumulation in this nodes.\n",
    "* But such an occurence would contradict our assumptions of inflow flux being eqaul to output flux.\n",
    "* Based on this we conclude that the **topology 1 is the actual reaction topology**."
   ]
  }
 ],
 "metadata": {
  "kernelspec": {
   "display_name": "Python 3 (ipykernel)",
   "language": "python",
   "name": "python3"
  },
  "language_info": {
   "codemirror_mode": {
    "name": "ipython",
    "version": 3
   },
   "file_extension": ".py",
   "mimetype": "text/x-python",
   "name": "python",
   "nbconvert_exporter": "python",
   "pygments_lexer": "ipython3",
   "version": "3.10.5"
  },
  "latex_envs": {
   "LaTeX_envs_menu_present": true,
   "autoclose": false,
   "autocomplete": true,
   "bibliofile": "biblio.bib",
   "cite_by": "apalike",
   "current_citInitial": 1,
   "eqLabelWithNumbers": true,
   "eqNumInitial": 1,
   "hotkeys": {
    "equation": "Ctrl-E",
    "itemize": "Ctrl-I"
   },
   "labels_anchors": false,
   "latex_user_defs": false,
   "report_style_numbering": false,
   "user_envs_cfg": false
  },
  "toc": {
   "base_numbering": 1,
   "nav_menu": {},
   "number_sections": true,
   "sideBar": true,
   "skip_h1_title": false,
   "title_cell": "Table of Contents",
   "title_sidebar": "Contents",
   "toc_cell": false,
   "toc_position": {},
   "toc_section_display": true,
   "toc_window_display": false
  }
 },
 "nbformat": 4,
 "nbformat_minor": 5
}
