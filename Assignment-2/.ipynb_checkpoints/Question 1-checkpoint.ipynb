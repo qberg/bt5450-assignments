{
 "cells": [
  {
   "cell_type": "markdown",
   "id": "genuine-husband",
   "metadata": {},
   "source": [
    "# Estimation of PDF\n",
    "\n",
    "* The CDF of the random variable X is estimated to be of the form,\n",
    "\\begin{equation}\n",
    "F(X) = \\begin{cases}\n",
    "0             & \\text{if} x < 0 \\\\\n",
    "\\frac{x^3}{a} & \\text{if } x \\in [0,3)\\\\\n",
    "\\frac{x-2}{b} & \\text{if } x \\in [3,5)\\\\\n",
    "1  & \\text{if} x\\geq5\n",
    "\\end{cases}\n",
    "\\end{equation}\n",
    "\n",
    "* Taking the derivative of the CDF gives the PDF of the distribution.\n",
    "\\begin{equation}\n",
    "f(X) = \\begin{cases}\n",
    "\\frac{3x^2}{a} & \\text{if } x \\in [0,3)\\\\\n",
    "\\frac{1}{b} & \\text{if } x \\in [3,5)\\\\\n",
    "0             & \\text{otherwise} \n",
    "\\end{cases}\n",
    "\\end{equation}\n",
    "\n",
    "* There are two unknowns a and b and hence we need two equations to solve. The first equation comes from the axiom of probability that states that the total probability over the entire sample space should be equal to one.\n",
    "\\begin{equation}\n",
    "\\int_{-\\infty}^{\\infty} f(x) \\,dx = \\int_{0}^{3} \\frac{3x^2}{a} \\,dx + \\int_{3}^{5} \\frac{1}{b} \\,dx  = 1\\\\ \n",
    "\\end{equation}\n",
    "* Solving the above equation gives,\n",
    "$$ \\frac{1}{a} = \\frac{1}{27} - \\frac{2}{27b}$$\n",
    "* Eliminating a from the f(x) we get,\n",
    "\\begin{equation}\n",
    "f(X) = \\begin{cases}\n",
    "\\frac{x^2}{9}\\left(1 - \\frac{2}{b}\\right) & \\text{if } x \\in [0,3)\\\\\n",
    "\\frac{1}{b}& \\text{if } x \\in [3,5)\\\\\n",
    "0             & \\text{otherwise} \n",
    "\\end{cases}\n",
    "\\end{equation}\n",
    "* 'b' is the only parameter that needs estimation. For this we could use any of the estimator methods on the observed dataset $\\mathcal{D}$.\n"
   ]
  },
  {
   "cell_type": "markdown",
   "id": "dedicated-hanging",
   "metadata": {},
   "source": [
    "* Let $n_1$ and $n_2$ be the number of samples observed in the interval $[0,3)$ and $[3,5)$ respectively.\n",
    "* The likelihood function can be expressed as,\n",
    "\\begin{align}\n",
    "\\mathcal{L}(b;\\mathcal{D}) &=\\left( \\prod_{i:0\\leq x_i <3}\\frac{x^2}{9}\\left(1 - \\frac{2}{b}\\right) \\right) \\left( \n",
    "                   \\prod_{i:3\\leq x_i <5} \\frac{1}{b}\\right) \\\\\n",
    "                &= \\left( \\prod_{i=1}^{n_1}\\frac{x_{i}^{2}}{9}\\left(1 - \\frac{2}{b}\\right) \\right) \\left(\\frac{1}{b}\\right)^{n_2}\n",
    "\\end{align}\n",
    "* Taking log on both sides we get,\n",
    "\\begin{align}\n",
    "\\log{\\mathcal{L}(b;\\mathcal{D})} &= \\sum_{i=1}^{n_1} \\log{\\left(\\frac{x_{i}^{2}}{9}\\left(1 - \\frac{2}{b}\\right) \\right)} - n_2 \\log{b}\\\\\n",
    "                                 &= \\sum_{i=1}^{n_1} \\left(\\log{\\frac{x_{i}^{2}}{9}} + \\log{\\left(1 - \\frac{2}{b}\\right)} \\right)  - n_2 \\log{b} \\\\\n",
    "                                 &= n_1 \\log{\\left(1 - \\frac{2}{b}\\right)}  - n_2 \\log{b}  +\\sum_{i=1}^{n_1}\\left(\\log{\\frac{x_{i}^{2}}{9}}\\right)\n",
    "\\end{align}\n",
    "* Maximising the log likelihood yields,\n",
    "\\begin{align*}\n",
    "\\frac{d}{db}\\log{\\mathcal{L}(b;\\mathcal{D})} &= 0\\\\\n",
    "\\implies \\frac{2n_1}{b(b-2)} - \\frac{n_2}{b} &= 0 \\\\\n",
    "\\end{align*}\n",
    "* The estimated value of the parameter $(b \\neq 0)$ is,\n",
    "$$\\hat{b} = 2\\left(1 + \\frac{n_1}{n_2}\\right)$$\n"
   ]
  },
  {
   "cell_type": "code",
   "execution_count": 1,
   "id": "infectious-compensation",
   "metadata": {
    "ExecuteTime": {
     "end_time": "2021-09-19T19:26:13.233252Z",
     "start_time": "2021-09-19T19:26:12.716389Z"
    }
   },
   "outputs": [],
   "source": [
    "#Importing the libraries to be used.\n",
    "import pandas as pd"
   ]
  },
  {
   "cell_type": "code",
   "execution_count": 2,
   "id": "respective-sending",
   "metadata": {
    "ExecuteTime": {
     "end_time": "2021-09-19T19:26:13.248874Z",
     "start_time": "2021-09-19T19:26:13.233252Z"
    }
   },
   "outputs": [],
   "source": [
    "df = pd.read_csv(r'Q1.csv')"
   ]
  },
  {
   "cell_type": "code",
   "execution_count": 3,
   "id": "japanese-generator",
   "metadata": {
    "ExecuteTime": {
     "end_time": "2021-09-19T19:26:13.433845Z",
     "start_time": "2021-09-19T19:26:13.248874Z"
    }
   },
   "outputs": [],
   "source": [
    "df1 = df[(df['X'] >= 0) & (df['X'] < 3)]   #The interval [0,3).\n",
    "df2 = df[(df['X'] >= 3) & (df['X'] < 5)]   #The interval [3,5).\n",
    "n_1 , n_2 = len(df1),len(df2)"
   ]
  },
  {
   "cell_type": "code",
   "execution_count": 4,
   "id": "average-klein",
   "metadata": {
    "ExecuteTime": {
     "end_time": "2021-09-19T19:26:13.549690Z",
     "start_time": "2021-09-19T19:26:13.433845Z"
    }
   },
   "outputs": [
    {
     "name": "stdout",
     "output_type": "stream",
     "text": [
      "The number of samples in the interval [0,3): 3360 \n",
      "The number of samples in the interval [3,5): 6640 \n"
     ]
    }
   ],
   "source": [
    "print('The number of samples in the interval [0,3): {} '.format(n_1))\n",
    "print('The number of samples in the interval [3,5): {} '.format(n_2))"
   ]
  },
  {
   "cell_type": "markdown",
   "id": "rural-decline",
   "metadata": {},
   "source": [
    "* Substituting the values of $n_1$ and $n_2$ in eqn(11) we get the estimated parameter,\n",
    "\\begin{equation*}\n",
    "\\hat{b} = 2\\left(1 + \\frac{3360}{6640} \\right) = 3\n",
    "\\end{equation*}\n",
    "* Therefore the **PDF** of the distribution is given by,\n",
    "\\begin{equation}\n",
    "f(X) = \\begin{cases}\n",
    "\\frac{x^2}{27} & \\text{if } x \\in [0,3)\\\\\n",
    "\\frac{1}{3}& \\text{if } x \\in [3,5)\\\\\n",
    "0             & \\text{otherwise} \n",
    "\\end{cases}\n",
    "\\end{equation}"
   ]
  }
 ],
 "metadata": {
  "kernelspec": {
   "display_name": "Python 3",
   "language": "python",
   "name": "python3"
  },
  "language_info": {
   "codemirror_mode": {
    "name": "ipython",
    "version": 3
   },
   "file_extension": ".py",
   "mimetype": "text/x-python",
   "name": "python",
   "nbconvert_exporter": "python",
   "pygments_lexer": "ipython3",
   "version": "3.8.8"
  },
  "latex_envs": {
   "LaTeX_envs_menu_present": true,
   "autoclose": false,
   "autocomplete": true,
   "bibliofile": "biblio.bib",
   "cite_by": "apalike",
   "current_citInitial": 1,
   "eqLabelWithNumbers": true,
   "eqNumInitial": 1,
   "hotkeys": {
    "equation": "Ctrl-E",
    "itemize": "Ctrl-I"
   },
   "labels_anchors": false,
   "latex_user_defs": false,
   "report_style_numbering": false,
   "user_envs_cfg": false
  },
  "toc": {
   "base_numbering": 1,
   "nav_menu": {},
   "number_sections": true,
   "sideBar": true,
   "skip_h1_title": false,
   "title_cell": "Table of Contents",
   "title_sidebar": "Contents",
   "toc_cell": false,
   "toc_position": {},
   "toc_section_display": true,
   "toc_window_display": false
  }
 },
 "nbformat": 4,
 "nbformat_minor": 5
}
