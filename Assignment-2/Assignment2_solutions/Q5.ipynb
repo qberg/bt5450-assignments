{
 "cells": [
  {
   "cell_type": "markdown",
   "metadata": {},
   "source": [
    "## Question 5"
   ]
  },
  {
   "cell_type": "markdown",
   "metadata": {},
   "source": [
    "### Import Libraries"
   ]
  },
  {
   "cell_type": "code",
   "execution_count": 1,
   "metadata": {},
   "outputs": [],
   "source": [
    "import numpy as np\n",
    "import math\n",
    "import pandas as pd"
   ]
  },
  {
   "cell_type": "markdown",
   "metadata": {},
   "source": [
    "### Creating X1,X2,X3,X4,X5"
   ]
  },
  {
   "cell_type": "code",
   "execution_count": 2,
   "metadata": {},
   "outputs": [],
   "source": [
    "np.random.seed(10)\n",
    "X1 = np.random.normal(4,3,size=(100,))\n",
    "X2 = np.random.normal(5,math.sqrt(7),size=(100,))\n",
    "X3 = (3*X1) - (2*X2) \n",
    "X4 = X1 + (2*X3)\n",
    "X5 = (5*X1) - X2"
   ]
  },
  {
   "cell_type": "code",
   "execution_count": 3,
   "metadata": {},
   "outputs": [
    {
     "data": {
      "text/plain": [
       "((100,), (5, 100))"
      ]
     },
     "execution_count": 3,
     "metadata": {},
     "output_type": "execute_result"
    }
   ],
   "source": [
    "X = np.array([X1,X2,X3,X4,X5])\n",
    "np.shape(X1), np.shape(X)"
   ]
  },
  {
   "cell_type": "markdown",
   "metadata": {},
   "source": [
    "### Covariance matrix of X1,X2,X3,X4,X5"
   ]
  },
  {
   "cell_type": "code",
   "execution_count": 4,
   "metadata": {},
   "outputs": [
    {
     "name": "stdout",
     "output_type": "stream",
     "text": [
      "           X1         X2          X3          X4          X5\n",
      "X1   8.501503   0.497147   24.510216   57.521936   42.010369\n",
      "X2   0.497147   6.864842  -12.238244  -23.979342   -4.379109\n",
      "X3  24.510216 -12.238244   98.007137  220.524491  134.789325\n",
      "X4  57.521936 -23.979342  220.524491  498.570918  311.589020\n",
      "X5  42.010369  -4.379109  134.789325  311.589020  214.430955\n"
     ]
    }
   ],
   "source": [
    "C = np.cov(X) \n",
    "D = pd.DataFrame(C, index = ['X1','X2','X3','X4','X5'], columns = ['X1','X2','X3','X4','X5'])\n",
    "print(D)"
   ]
  },
  {
   "cell_type": "markdown",
   "metadata": {},
   "source": [
    "### Rank"
   ]
  },
  {
   "cell_type": "code",
   "execution_count": 5,
   "metadata": {},
   "outputs": [
    {
     "name": "stdout",
     "output_type": "stream",
     "text": [
      "2\n"
     ]
    }
   ],
   "source": [
    "R = np.linalg.matrix_rank(C)\n",
    "print(R)"
   ]
  },
  {
   "cell_type": "markdown",
   "metadata": {},
   "source": [
    "### Creating X1,X2,X3,X4,X5"
   ]
  },
  {
   "cell_type": "code",
   "execution_count": 6,
   "metadata": {},
   "outputs": [
    {
     "data": {
      "text/plain": [
       "((100,), (100,), (7, 100))"
      ]
     },
     "execution_count": 6,
     "metadata": {},
     "output_type": "execute_result"
    }
   ],
   "source": [
    "X6 = (X1**2) + (X2**3)\n",
    "X7 = (X1**2)/(X2)\n",
    "XX = np.array([X1,X2,X3,X4,X5,X6,X7])\n",
    "np.shape(X1), np.shape(X7), np.shape(XX)"
   ]
  },
  {
   "cell_type": "markdown",
   "metadata": {},
   "source": [
    "### Covariance matrix of X1,X2,X3,X4,X5,X6,X7"
   ]
  },
  {
   "cell_type": "code",
   "execution_count": 7,
   "metadata": {},
   "outputs": [
    {
     "name": "stdout",
     "output_type": "stream",
     "text": [
      "            X1          X2          X3           X4          X5            X6  \\\n",
      "X1    8.501503    0.497147   24.510216    57.521936   42.010369    137.825272   \n",
      "X2    0.497147    6.864842  -12.238244   -23.979342   -4.379109    681.507513   \n",
      "X3   24.510216  -12.238244   98.007137   220.524491  134.789325   -949.539209   \n",
      "X4   57.521936  -23.979342  220.524491   498.570918  311.589020  -1761.253146   \n",
      "X5   42.010369   -4.379109  134.789325   311.589020  214.430955      7.618849   \n",
      "X6  137.825272  681.507513 -949.539209 -1761.253146    7.618849  92994.835490   \n",
      "X7    3.561413   35.617378  -60.550517  -117.539621  -17.810314   1472.256832   \n",
      "\n",
      "             X7  \n",
      "X1     3.561413  \n",
      "X2    35.617378  \n",
      "X3   -60.550517  \n",
      "X4  -117.539621  \n",
      "X5   -17.810314  \n",
      "X6  1472.256832  \n",
      "X7  6786.400215  \n"
     ]
    }
   ],
   "source": [
    "CC = np.cov(XX) \n",
    "DD = pd.DataFrame(CC, index = ['X1','X2','X3','X4','X5','X6','X7'], columns = ['X1','X2','X3','X4','X5','X6','X7'])\n",
    "print(DD)"
   ]
  },
  {
   "cell_type": "markdown",
   "metadata": {},
   "source": [
    "### Rank"
   ]
  },
  {
   "cell_type": "code",
   "execution_count": 8,
   "metadata": {},
   "outputs": [
    {
     "name": "stdout",
     "output_type": "stream",
     "text": [
      "4\n"
     ]
    }
   ],
   "source": [
    "RR = np.linalg.matrix_rank(CC)\n",
    "print(RR)"
   ]
  },
  {
   "cell_type": "markdown",
   "metadata": {},
   "source": [
    "### Inference"
   ]
  },
  {
   "cell_type": "markdown",
   "metadata": {},
   "source": [
    "Rank will be 2 in the first case since, X1 and X2 are independent and X3,X4,X5 are linear combinations of X1 and X2. \n",
    "Rank will change to 4 in the second case since X1,X2 are independent rvs and X6,X7 are non-linearly dependent on X1 and X2."
   ]
  },
  {
   "cell_type": "code",
   "execution_count": null,
   "metadata": {},
   "outputs": [],
   "source": []
  }
 ],
 "metadata": {
  "kernelspec": {
   "display_name": "Python 3",
   "language": "python",
   "name": "python3"
  },
  "language_info": {
   "codemirror_mode": {
    "name": "ipython",
    "version": 3
   },
   "file_extension": ".py",
   "mimetype": "text/x-python",
   "name": "python",
   "nbconvert_exporter": "python",
   "pygments_lexer": "ipython3",
   "version": "3.8.8"
  }
 },
 "nbformat": 4,
 "nbformat_minor": 2
}
