{
 "cells": [
  {
   "cell_type": "markdown",
   "id": "34588bf7",
   "metadata": {},
   "source": [
    "## Question 1"
   ]
  },
  {
   "cell_type": "code",
   "execution_count": 1,
   "id": "7f673f8e",
   "metadata": {},
   "outputs": [],
   "source": [
    "import numpy as np\n",
    "import pandas as pd\n",
    "import matplotlib.pyplot as plt\n",
    "from scipy.optimize import fsolve"
   ]
  },
  {
   "cell_type": "code",
   "execution_count": 2,
   "id": "671e1773",
   "metadata": {},
   "outputs": [
    {
     "data": {
      "text/html": [
       "<div>\n",
       "<style scoped>\n",
       "    .dataframe tbody tr th:only-of-type {\n",
       "        vertical-align: middle;\n",
       "    }\n",
       "\n",
       "    .dataframe tbody tr th {\n",
       "        vertical-align: top;\n",
       "    }\n",
       "\n",
       "    .dataframe thead th {\n",
       "        text-align: right;\n",
       "    }\n",
       "</style>\n",
       "<table border=\"1\" class=\"dataframe\">\n",
       "  <thead>\n",
       "    <tr style=\"text-align: right;\">\n",
       "      <th></th>\n",
       "      <th>X</th>\n",
       "    </tr>\n",
       "  </thead>\n",
       "  <tbody>\n",
       "    <tr>\n",
       "      <th>0</th>\n",
       "      <td>3.232753</td>\n",
       "    </tr>\n",
       "    <tr>\n",
       "      <th>1</th>\n",
       "      <td>4.701960</td>\n",
       "    </tr>\n",
       "    <tr>\n",
       "      <th>2</th>\n",
       "      <td>3.306428</td>\n",
       "    </tr>\n",
       "    <tr>\n",
       "      <th>3</th>\n",
       "      <td>2.333347</td>\n",
       "    </tr>\n",
       "    <tr>\n",
       "      <th>4</th>\n",
       "      <td>1.043740</td>\n",
       "    </tr>\n",
       "  </tbody>\n",
       "</table>\n",
       "</div>"
      ],
      "text/plain": [
       "          X\n",
       "0  3.232753\n",
       "1  4.701960\n",
       "2  3.306428\n",
       "3  2.333347\n",
       "4  1.043740"
      ]
     },
     "execution_count": 2,
     "metadata": {},
     "output_type": "execute_result"
    }
   ],
   "source": [
    "df = pd.read_csv('Q1.csv')\n",
    "df.head()"
   ]
  },
  {
   "cell_type": "markdown",
   "id": "0bf1f4a0",
   "metadata": {},
   "source": [
    "## Estimating the parameters of the given distribution using MoM\n",
    "$E(x) = \\int_0^5 x\\,f(x) dx$<br>\n",
    "$E(x) = \\int_0^3\\,\\frac{3x^3}{a} dx + \\int_3^5 \\frac{x}{b}dx$<br>\n",
    "$E(x) = \\frac{243}{4a} +\\frac{25}{2b}-\\frac{9}{2b}$ <br>\\\n",
    "Similarly,<br>\n",
    "$E(x^2) = \\int_0^5 x^2\\,f(x) dx$<br>\n",
    "$E(x^2) = \\int_0^3\\,\\frac{3x^4}{a} dx + \\int_3^5 \\frac{x^2}{b}dx$<br>\n",
    "$E(x^2) = \\frac{729}{5a} +\\frac{125}{3b}-\\frac{27}{3b}$ <br>"
   ]
  },
  {
   "cell_type": "code",
   "execution_count": 3,
   "id": "43e54eb5",
   "metadata": {},
   "outputs": [],
   "source": [
    "# defining a function that takes parameters and sample moments as input and returns the list [E(x)-1st_sample_moment, E(x^2)-2nd_sample_moment]\n",
    "def Exp_mom(params,sam_x_1,sam_x_2):\n",
    "    a = params[0]\n",
    "    b = params[1]\n",
    "    exp_1_mom = (243/(4*a)) +(25/(2*b)) -(9/(2*b))\n",
    "    exp_2_mom = (729/(5*a)) +(125/(3*b)) -(27/(3*b))\n",
    "    return [exp_1_mom-sam_x_1, exp_2_mom-sam_x_2]"
   ]
  },
  {
   "cell_type": "code",
   "execution_count": 4,
   "id": "7a40abd0",
   "metadata": {},
   "outputs": [],
   "source": [
    "# calculate 1st and 2nd moments of the samples\n",
    "x_1 = np.mean(df.X.values)\n",
    "x_2 = np.mean(df.X.values**2)"
   ]
  },
  {
   "cell_type": "code",
   "execution_count": 5,
   "id": "1d2f9e65",
   "metadata": {},
   "outputs": [],
   "source": [
    "# use fsolve to get the solution for the unknown parameters\n",
    "\n",
    "# define the initial points\n",
    "init = [10,10]\n",
    "\n",
    "# use fsolve with input as func = Exp_mom, x0=init, args = (x_1,x_2)\n",
    "soln = fsolve(Exp_mom,x0 =init,args=(x_1,x_2)) # https://docs.scipy.org/doc/scipy/reference/generated/scipy.optimize.fsolve.html"
   ]
  },
  {
   "cell_type": "code",
   "execution_count": 6,
   "id": "4f018e1d",
   "metadata": {},
   "outputs": [
    {
     "name": "stdout",
     "output_type": "stream",
     "text": [
      "The estimated parameters are [78.50332314  3.04002403]\n"
     ]
    }
   ],
   "source": [
    "print('The estimated parameters are',soln)"
   ]
  },
  {
   "cell_type": "markdown",
   "id": "65c81366",
   "metadata": {},
   "source": [
    "One can calculate the unknown parameters a and b using the properties of a cumulative distribution function. If done so, the obtained parameters are a = 81 and b = 3. It can be inferred that the estimated parameters are closer to the actual values.\n"
   ]
  },
  {
   "cell_type": "code",
   "execution_count": null,
   "id": "9c444716",
   "metadata": {},
   "outputs": [],
   "source": []
  }
 ],
 "metadata": {
  "kernelspec": {
   "display_name": "Python 3",
   "language": "python",
   "name": "python3"
  },
  "language_info": {
   "codemirror_mode": {
    "name": "ipython",
    "version": 3
   },
   "file_extension": ".py",
   "mimetype": "text/x-python",
   "name": "python",
   "nbconvert_exporter": "python",
   "pygments_lexer": "ipython3",
   "version": "3.8.8"
  },
  "latex_envs": {
   "LaTeX_envs_menu_present": true,
   "autoclose": false,
   "autocomplete": true,
   "bibliofile": "biblio.bib",
   "cite_by": "apalike",
   "current_citInitial": 1,
   "eqLabelWithNumbers": true,
   "eqNumInitial": 1,
   "hotkeys": {
    "equation": "Ctrl-E",
    "itemize": "Ctrl-I"
   },
   "labels_anchors": false,
   "latex_user_defs": false,
   "report_style_numbering": false,
   "user_envs_cfg": false
  },
  "toc": {
   "base_numbering": 1,
   "nav_menu": {},
   "number_sections": true,
   "sideBar": true,
   "skip_h1_title": false,
   "title_cell": "Table of Contents",
   "title_sidebar": "Contents",
   "toc_cell": false,
   "toc_position": {},
   "toc_section_display": true,
   "toc_window_display": false
  }
 },
 "nbformat": 4,
 "nbformat_minor": 5
}
