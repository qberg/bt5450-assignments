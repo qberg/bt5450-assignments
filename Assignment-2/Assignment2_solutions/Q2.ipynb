{
 "cells": [
  {
   "cell_type": "markdown",
   "id": "c70072b8",
   "metadata": {},
   "source": [
    "## Question 2"
   ]
  },
  {
   "cell_type": "code",
   "execution_count": 1,
   "id": "c24289b0",
   "metadata": {},
   "outputs": [],
   "source": [
    "import numpy as np\n",
    "import pandas as pd\n",
    "import matplotlib.pyplot as plt\n",
    "import seaborn as sns\n",
    "p=0.2 # prob of success\n",
    "N=100 # sample size\n",
    "R=1000 # realisations\n"
   ]
  },
  {
   "cell_type": "code",
   "execution_count": 2,
   "id": "96b734dc",
   "metadata": {},
   "outputs": [
    {
     "data": {
      "text/plain": [
       "Text(0, 0.5, 'Relative frequency')"
      ]
     },
     "execution_count": 2,
     "metadata": {},
     "output_type": "execute_result"
    },
    {
     "data": {
      "image/png": "[encoded data removed]",
      "text/plain": [
       "<Figure size 432x288 with 1 Axes>"
      ]
     },
     "metadata": {
      "needs_background": "light"
     },
     "output_type": "display_data"
    }
   ],
   "source": [
    "# histogram of bernoulli's distribution\n",
    "plt.hist(np.random.binomial(1,p,N),density =True)\n",
    "plt.xlabel('Random variable')\n",
    "plt.ylabel('Relative frequency')"
   ]
  },
  {
   "cell_type": "code",
   "execution_count": 3,
   "id": "221fa7a5",
   "metadata": {},
   "outputs": [
    {
     "data": {
      "image/png": "[encoded data removed]",
      "text/plain": [
       "<Figure size 432x288 with 1 Axes>"
      ]
     },
     "metadata": {
      "needs_background": "light"
     },
     "output_type": "display_data"
    }
   ],
   "source": [
    "## Q2 a\n",
    "multi_sampl_binom = [np.random.binomial(1,p,N) for i in range(R)]\n",
    "poiss_distri = [np.sum(j) for j in multi_sampl_binom]\n",
    "plt.hist(poiss_distri,bins=50);"
   ]
  },
  {
   "cell_type": "code",
   "execution_count": 4,
   "id": "d2e8217e",
   "metadata": {},
   "outputs": [
    {
     "data": {
      "image/png": "[encoded data removed]",
      "text/plain": [
       "<Figure size 432x288 with 1 Axes>"
      ]
     },
     "metadata": {
      "needs_background": "light"
     },
     "output_type": "display_data"
    }
   ],
   "source": [
    "## Q2 b\n",
    "plt.hist(np.random.poisson(N*p,R),bins=50);"
   ]
  },
  {
   "cell_type": "markdown",
   "id": "734f7514",
   "metadata": {},
   "source": [
    "## Q2 C\n",
    "Both the plots are simlar to each other. Both refer to poisson distribution."
   ]
  },
  {
   "cell_type": "code",
   "execution_count": 5,
   "id": "8cba2b80",
   "metadata": {},
   "outputs": [],
   "source": [
    "## Q2 D\n",
    "r = 2 \n",
    "num_fail = []\n",
    "for real in multi_sampl_binom:\n",
    "    fail = 0\n",
    "    succ = 0\n",
    "    i=0\n",
    "    while succ<r:\n",
    "            if real[i] ==1:\n",
    "                succ+=1\n",
    "            if real[i]==0:\n",
    "                fail+=1\n",
    "            i+=1\n",
    "    num_fail.append(fail)"
   ]
  },
  {
   "cell_type": "code",
   "execution_count": 6,
   "id": "e5d1f88c",
   "metadata": {},
   "outputs": [
    {
     "data": {
      "image/png": "[encoded data removed]",
      "text/plain": [
       "<Figure size 432x288 with 1 Axes>"
      ]
     },
     "metadata": {
      "needs_background": "light"
     },
     "output_type": "display_data"
    }
   ],
   "source": [
    "plt.hist(num_fail,bins=100);"
   ]
  },
  {
   "cell_type": "code",
   "execution_count": 7,
   "id": "3b7dda0b",
   "metadata": {},
   "outputs": [
    {
     "data": {
      "image/png": "[encoded data removed]",
      "text/plain": [
       "<Figure size 432x288 with 1 Axes>"
      ]
     },
     "metadata": {
      "needs_background": "light"
     },
     "output_type": "display_data"
    }
   ],
   "source": [
    "# Q2 e\n",
    "plt.hist(np.random.negative_binomial(r,p,size=(R)),bins=100);"
   ]
  },
  {
   "cell_type": "markdown",
   "id": "5eaa45c8",
   "metadata": {},
   "source": [
    "\n",
    "Both the plots are simlar to each other. Both refer to negative binomial distribution."
   ]
  },
  {
   "cell_type": "code",
   "execution_count": null,
   "id": "ed32e363",
   "metadata": {},
   "outputs": [],
   "source": []
  }
 ],
 "metadata": {
  "kernelspec": {
   "display_name": "Python 3",
   "language": "python",
   "name": "python3"
  },
  "language_info": {
   "codemirror_mode": {
    "name": "ipython",
    "version": 3
   },
   "file_extension": ".py",
   "mimetype": "text/x-python",
   "name": "python",
   "nbconvert_exporter": "python",
   "pygments_lexer": "ipython3",
   "version": "3.8.8"
  },
  "latex_envs": {
   "LaTeX_envs_menu_present": true,
   "autoclose": false,
   "autocomplete": true,
   "bibliofile": "biblio.bib",
   "cite_by": "apalike",
   "current_citInitial": 1,
   "eqLabelWithNumbers": true,
   "eqNumInitial": 1,
   "hotkeys": {
    "equation": "Ctrl-E",
    "itemize": "Ctrl-I"
   },
   "labels_anchors": false,
   "latex_user_defs": false,
   "report_style_numbering": false,
   "user_envs_cfg": false
  },
  "toc": {
   "base_numbering": 1,
   "nav_menu": {},
   "number_sections": true,
   "sideBar": true,
   "skip_h1_title": false,
   "title_cell": "Table of Contents",
   "title_sidebar": "Contents",
   "toc_cell": false,
   "toc_position": {},
   "toc_section_display": true,
   "toc_window_display": false
  }
 },
 "nbformat": 4,
 "nbformat_minor": 5
}
