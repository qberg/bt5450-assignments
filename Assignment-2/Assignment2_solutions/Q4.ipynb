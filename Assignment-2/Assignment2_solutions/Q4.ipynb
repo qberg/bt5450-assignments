{
 "cells": [
  {
   "cell_type": "markdown",
   "id": "dae209ce",
   "metadata": {},
   "source": [
    "## Question 4"
   ]
  },
  {
   "cell_type": "code",
   "execution_count": 1,
   "id": "08ce7220",
   "metadata": {},
   "outputs": [],
   "source": [
    "import numpy as np\n",
    "import pandas as pd\n",
    "from scipy.optimize import minimize\n",
    "from scipy.stats import norm\n",
    "from scipy.optimize import fsolve"
   ]
  },
  {
   "cell_type": "code",
   "execution_count": 2,
   "id": "99071d99",
   "metadata": {},
   "outputs": [
    {
     "data": {
      "text/html": [
       "<div>\n",
       "<style scoped>\n",
       "    .dataframe tbody tr th:only-of-type {\n",
       "        vertical-align: middle;\n",
       "    }\n",
       "\n",
       "    .dataframe tbody tr th {\n",
       "        vertical-align: top;\n",
       "    }\n",
       "\n",
       "    .dataframe thead th {\n",
       "        text-align: right;\n",
       "    }\n",
       "</style>\n",
       "<table border=\"1\" class=\"dataframe\">\n",
       "  <thead>\n",
       "    <tr style=\"text-align: right;\">\n",
       "      <th></th>\n",
       "      <th>X</th>\n",
       "      <th>Y</th>\n",
       "    </tr>\n",
       "  </thead>\n",
       "  <tbody>\n",
       "    <tr>\n",
       "      <th>0</th>\n",
       "      <td>11.046971</td>\n",
       "      <td>17.451000</td>\n",
       "    </tr>\n",
       "    <tr>\n",
       "      <th>1</th>\n",
       "      <td>7.931476</td>\n",
       "      <td>10.458889</td>\n",
       "    </tr>\n",
       "    <tr>\n",
       "      <th>2</th>\n",
       "      <td>10.489960</td>\n",
       "      <td>16.313118</td>\n",
       "    </tr>\n",
       "    <tr>\n",
       "      <th>3</th>\n",
       "      <td>10.993082</td>\n",
       "      <td>6.999862</td>\n",
       "    </tr>\n",
       "    <tr>\n",
       "      <th>4</th>\n",
       "      <td>9.485375</td>\n",
       "      <td>17.917017</td>\n",
       "    </tr>\n",
       "  </tbody>\n",
       "</table>\n",
       "</div>"
      ],
      "text/plain": [
       "           X          Y\n",
       "0  11.046971  17.451000\n",
       "1   7.931476  10.458889\n",
       "2  10.489960  16.313118\n",
       "3  10.993082   6.999862\n",
       "4   9.485375  17.917017"
      ]
     },
     "execution_count": 2,
     "metadata": {},
     "output_type": "execute_result"
    }
   ],
   "source": [
    "df = pd.read_csv('Q4.csv')\n",
    "df.head()"
   ]
  },
  {
   "cell_type": "markdown",
   "id": "24bd2f9d",
   "metadata": {},
   "source": [
    "## estimating the parameters using MLE"
   ]
  },
  {
   "cell_type": "code",
   "execution_count": 3,
   "id": "df431931",
   "metadata": {},
   "outputs": [],
   "source": [
    "# negative log likelihood function\n",
    "def neg_log_lh(params,x):\n",
    "    mu,sigma=params[0],params[1]\n",
    "    neg_ll = -1*np.sum(np.log(norm.pdf(x,mu,sigma)))\n",
    "    return neg_ll"
   ]
  },
  {
   "cell_type": "code",
   "execution_count": 4,
   "id": "562bacb3",
   "metadata": {},
   "outputs": [
    {
     "name": "stderr",
     "output_type": "stream",
     "text": [
      "<ipython-input-3-43cd529fafdd>:4: RuntimeWarning: divide by zero encountered in log\n",
      "  neg_ll = -1*np.sum(np.log(norm.pdf(x,mu,sigma)))\n",
      "C:\\Users\\Admin\\anaconda3\\lib\\site-packages\\scipy\\optimize\\_numdiff.py:557: RuntimeWarning: invalid value encountered in subtract\n",
      "  df = fun(x) - f0\n",
      "C:\\Users\\Admin\\anaconda3\\lib\\site-packages\\scipy\\optimize\\_trustregion_constr\\equality_constrained_sqp.py:152: RuntimeWarning: invalid value encountered in double_scalars\n",
      "  actual_reduction = merit_function - merit_function_next\n",
      "C:\\Users\\Admin\\anaconda3\\lib\\site-packages\\scipy\\optimize\\_hessian_update_strategy.py:182: UserWarning: delta_grad == 0.0. Check if the approximated function is linear. If the function is linear better results can be obtained by defining the Hessian as zero instead of using quasi-Newton approximations.\n",
      "  warn('delta_grad == 0.0. Check if the approximated '\n"
     ]
    },
    {
     "name": "stdout",
     "output_type": "stream",
     "text": [
      "The distribution paramters are [9.99186715 1.9749091 ]\n"
     ]
    }
   ],
   "source": [
    "## for RV X\n",
    "# define the bounds of the parameters\n",
    "bnds=((-50,50),(0,10))\n",
    "\n",
    "# randomly initialising at 50 different points\n",
    "inipoint=[(np.random.uniform(-50,50,1)[0],np.random.uniform(0,10,1)[0]) for i in range(50)]\n",
    "\n",
    "# empty list for storing the resulting parametes\n",
    "dis_params=[]\n",
    "\n",
    "# empty list for storing the negative-log-likelihood in a list\n",
    "neg_log_lik=[]\n",
    "\n",
    "# getting results for 50 different initial points\n",
    "for i in range(50):\n",
    "    \n",
    "    k_in = inipoint[i]\n",
    "    result = minimize(neg_log_lh, k_in, bounds=bnds,args=(df.X.values),method='trust-constr') # https://docs.scipy.org/doc/scipy/reference/tutorial/optimize.html\n",
    "    \n",
    "    # append the resulting parameters in dis_params\n",
    "    dis_params.append(result.x) \n",
    "    \n",
    "    # append the resulting value in dis_params\n",
    "    neg_log_lik.append(result.fun)\n",
    "    \n",
    "# getting the minimum leastsquare value's index\n",
    "minval = neg_log_lik.index(min(neg_log_lik))\n",
    "\n",
    "# final answer\n",
    "params = dis_params[minval]\n",
    "print('The distribution paramters are',params)"
   ]
  },
  {
   "cell_type": "code",
   "execution_count": 5,
   "id": "6061b826",
   "metadata": {},
   "outputs": [
    {
     "name": "stderr",
     "output_type": "stream",
     "text": [
      "<ipython-input-3-43cd529fafdd>:4: RuntimeWarning: divide by zero encountered in log\n",
      "  neg_ll = -1*np.sum(np.log(norm.pdf(x,mu,sigma)))\n"
     ]
    },
    {
     "name": "stdout",
     "output_type": "stream",
     "text": [
      "The distribution paramters are [14.81231017  4.90866783]\n"
     ]
    }
   ],
   "source": [
    "## for RV Y\n",
    "# define the bounds of the parameters\n",
    "bnds=((-50,50),(0,10))\n",
    "\n",
    "# randomly initialising at 50 different points\n",
    "inipoint=[(np.random.uniform(-50,50,1)[0],np.random.uniform(0,10,1)[0]) for i in range(50)]\n",
    "\n",
    "# empty list for storing the resulting parametes\n",
    "dis_params=[]\n",
    "\n",
    "# empty list for storing the negative-log-likelihood in a list\n",
    "neg_log_lik=[]\n",
    "\n",
    "# getting results for 50 different initial points\n",
    "for i in range(50):\n",
    "    \n",
    "    k_in = inipoint[i]\n",
    "    result = minimize(neg_log_lh, k_in, bounds=bnds,args=(df.Y.values),method='trust-constr') # https://docs.scipy.org/doc/scipy/reference/tutorial/optimize.html\n",
    "    \n",
    "    # append the resulting parameters in dis_params\n",
    "    dis_params.append(result.x) \n",
    "    \n",
    "    # append the resulting value in dis_params\n",
    "    neg_log_lik.append(result.fun)\n",
    "    \n",
    "# getting the minimum leastsquare value's index\n",
    "minval = neg_log_lik.index(min(neg_log_lik))\n",
    "\n",
    "# final answer\n",
    "params = dis_params[minval]\n",
    "print('The distribution paramters are',params)"
   ]
  },
  {
   "cell_type": "markdown",
   "id": "1b9c8e5f",
   "metadata": {},
   "source": [
    "## estimating the parameters using MoM"
   ]
  },
  {
   "cell_type": "markdown",
   "id": "198b6b50",
   "metadata": {},
   "source": [
    "For normal distribution, <br>\n",
    "$E(x) = \\mu$ <br>\n",
    "$E(x^2) = \\sigma^2 + \\mu^2$\n"
   ]
  },
  {
   "cell_type": "code",
   "execution_count": 6,
   "id": "8e3414b3",
   "metadata": {},
   "outputs": [
    {
     "name": "stdout",
     "output_type": "stream",
     "text": [
      "The mean value of the RV X is 9.991867193569359\n",
      "The mean value of the RV Y is 14.81231020631562\n"
     ]
    }
   ],
   "source": [
    "# calculating mu for RV x\n",
    "mu_x = np.mean(df.X)\n",
    "print('The mean value of the RV X is',mu_x)\n",
    "# calculating mu for RV y\n",
    "mu_y = np.mean(df.Y)\n",
    "print('The mean value of the RV Y is',mu_y)"
   ]
  },
  {
   "cell_type": "code",
   "execution_count": 7,
   "id": "62ec3956",
   "metadata": {},
   "outputs": [
    {
     "name": "stdout",
     "output_type": "stream",
     "text": [
      "The SD of the RV X is 1.9749090918255598\n",
      "The SD of the RV Y is 4.908667879060998\n"
     ]
    }
   ],
   "source": [
    "# calculating sigma for RV x\n",
    "sigma_x = np.sqrt(np.mean(df.X.values**2)- mu_x**2)\n",
    "print('The SD of the RV X is',sigma_x)\n",
    "# calculating sigma for RV y\n",
    "sigma_y = np.sqrt(np.mean(df.Y.values**2)- mu_y**2)\n",
    "print('The SD of the RV Y is',sigma_y)"
   ]
  },
  {
   "cell_type": "markdown",
   "id": "ad3eff3a",
   "metadata": {},
   "source": [
    "## estimating the parameters using bootstrap method"
   ]
  },
  {
   "cell_type": "code",
   "execution_count": 8,
   "id": "a6a2a585",
   "metadata": {},
   "outputs": [],
   "source": [
    "# estimating mean of the distribution using bootstrap method\n",
    "def mean_esti(x):\n",
    "    mean_array = [np.mean(np.random.choice(x,replace=True,size=100)) for i in range(1000)]\n",
    "    return np.mean(mean_array)"
   ]
  },
  {
   "cell_type": "code",
   "execution_count": 9,
   "id": "5f484d0c",
   "metadata": {},
   "outputs": [],
   "source": [
    "# estimating SD of the distribution using bootstrap method\n",
    "def SD_esti(x):\n",
    "    SD_array = [np.std(np.random.choice(x,replace=True,size=100)) for i in range(1000)]\n",
    "    return np.sum(SD_array)/(len(SD_array)-1)"
   ]
  },
  {
   "cell_type": "code",
   "execution_count": 10,
   "id": "7d3bbad0",
   "metadata": {},
   "outputs": [
    {
     "name": "stdout",
     "output_type": "stream",
     "text": [
      "The mean value of the distribution is 9.998991141665277\n",
      "The SD value of the distribution is 1.9751296773563125\n"
     ]
    }
   ],
   "source": [
    "# for the distribution X\n",
    "print('The mean value of the distribution is',mean_esti(df.X))\n",
    "print('The SD value of the distribution is',SD_esti(df.X))"
   ]
  },
  {
   "cell_type": "code",
   "execution_count": 11,
   "id": "c4006c5e",
   "metadata": {},
   "outputs": [
    {
     "name": "stdout",
     "output_type": "stream",
     "text": [
      "The mean value of the distribution is 14.809559915907375\n",
      "The SD value of the distribution is 4.8749158258060215\n"
     ]
    }
   ],
   "source": [
    "# for the distribution Y\n",
    "print('The mean value of the distribution is',mean_esti(df.Y))\n",
    "print('The SD value of the distribution is',SD_esti(df.Y))"
   ]
  },
  {
   "cell_type": "markdown",
   "id": "246634f1",
   "metadata": {},
   "source": [
    "## refer to Q4.pdf for other solutions"
   ]
  }
 ],
 "metadata": {
  "kernelspec": {
   "display_name": "Python 3",
   "language": "python",
   "name": "python3"
  },
  "language_info": {
   "codemirror_mode": {
    "name": "ipython",
    "version": 3
   },
   "file_extension": ".py",
   "mimetype": "text/x-python",
   "name": "python",
   "nbconvert_exporter": "python",
   "pygments_lexer": "ipython3",
   "version": "3.8.8"
  },
  "latex_envs": {
   "LaTeX_envs_menu_present": true,
   "autoclose": false,
   "autocomplete": true,
   "bibliofile": "biblio.bib",
   "cite_by": "apalike",
   "current_citInitial": 1,
   "eqLabelWithNumbers": true,
   "eqNumInitial": 1,
   "hotkeys": {
    "equation": "Ctrl-E",
    "itemize": "Ctrl-I"
   },
   "labels_anchors": false,
   "latex_user_defs": false,
   "report_style_numbering": false,
   "user_envs_cfg": false
  },
  "toc": {
   "base_numbering": 1,
   "nav_menu": {},
   "number_sections": true,
   "sideBar": true,
   "skip_h1_title": false,
   "title_cell": "Table of Contents",
   "title_sidebar": "Contents",
   "toc_cell": false,
   "toc_position": {},
   "toc_section_display": true,
   "toc_window_display": false
  }
 },
 "nbformat": 4,
 "nbformat_minor": 5
}
