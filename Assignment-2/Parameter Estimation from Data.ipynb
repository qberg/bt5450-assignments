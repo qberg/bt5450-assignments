{
 "cells": [
  {
   "cell_type": "markdown",
   "id": "interesting-details",
   "metadata": {
    "toc": true
   },
   "source": [
    "<h1>Table of Contents<span class=\"tocSkip\"></span></h1>\n",
    "<div class=\"toc\"><ul class=\"toc-item\"><li><span><a href=\"#Estimating-the-Parameters-from-the-given-Data\" data-toc-modified-id=\"Estimating-the-Parameters-from-the-given-Data-1\"><span class=\"toc-item-num\">1&nbsp;&nbsp;</span>Estimating the Parameters from the given Data</a></span><ul class=\"toc-item\"><li><span><a href=\"#Loading-the-Data\" data-toc-modified-id=\"Loading-the-Data-1.1\"><span class=\"toc-item-num\">1.1&nbsp;&nbsp;</span>Loading the Data</a></span></li><li><span><a href=\"#MLE-method\" data-toc-modified-id=\"MLE-method-1.2\"><span class=\"toc-item-num\">1.2&nbsp;&nbsp;</span>MLE method</a></span><ul class=\"toc-item\"><li><span><a href=\"#Underlying-Math\" data-toc-modified-id=\"Underlying-Math-1.2.1\"><span class=\"toc-item-num\">1.2.1&nbsp;&nbsp;</span>Underlying Math</a></span></li><li><span><a href=\"#Math-to-code\" data-toc-modified-id=\"Math-to-code-1.2.2\"><span class=\"toc-item-num\">1.2.2&nbsp;&nbsp;</span>Math to code</a></span></li></ul></li><li><span><a href=\"#Method-of-Moments\" data-toc-modified-id=\"Method-of-Moments-1.3\"><span class=\"toc-item-num\">1.3&nbsp;&nbsp;</span>Method of Moments</a></span><ul class=\"toc-item\"><li><span><a href=\"#Underlying-Math\" data-toc-modified-id=\"Underlying-Math-1.3.1\"><span class=\"toc-item-num\">1.3.1&nbsp;&nbsp;</span>Underlying Math</a></span></li><li><span><a href=\"#Math-to-code\" data-toc-modified-id=\"Math-to-code-1.3.2\"><span class=\"toc-item-num\">1.3.2&nbsp;&nbsp;</span>Math to code</a></span></li></ul></li><li><span><a href=\"#Bootstrap-Estimation-Method\" data-toc-modified-id=\"Bootstrap-Estimation-Method-1.4\"><span class=\"toc-item-num\">1.4&nbsp;&nbsp;</span>Bootstrap Estimation Method</a></span></li><li><span><a href=\"#Results\" data-toc-modified-id=\"Results-1.5\"><span class=\"toc-item-num\">1.5&nbsp;&nbsp;</span>Results</a></span></li></ul></li><li><span><a href=\"#New-Random-Variables\" data-toc-modified-id=\"New-Random-Variables-2\"><span class=\"toc-item-num\">2&nbsp;&nbsp;</span>New Random Variables</a></span><ul class=\"toc-item\"><li><span><a href=\"#Estimation-of-parameters-directly-from-the-dataset\" data-toc-modified-id=\"Estimation-of-parameters-directly-from-the-dataset-2.1\"><span class=\"toc-item-num\">2.1&nbsp;&nbsp;</span>Estimation of parameters directly from the dataset</a></span></li></ul></li></ul></div>"
   ]
  },
  {
   "cell_type": "markdown",
   "id": "choice-berry",
   "metadata": {},
   "source": [
    "# Estimating the Parameters from the given Data"
   ]
  },
  {
   "cell_type": "markdown",
   "id": "compliant-stuff",
   "metadata": {},
   "source": [
    "## Loading the Data"
   ]
  },
  {
   "cell_type": "code",
   "execution_count": 1,
   "id": "preliminary-husband",
   "metadata": {
    "ExecuteTime": {
     "end_time": "2021-09-19T04:07:42.620858Z",
     "start_time": "2021-09-19T04:07:42.066268Z"
    }
   },
   "outputs": [],
   "source": [
    "#Importing the libraries to be used.\n",
    "import pandas as pd\n",
    "import numpy as np\n",
    "import random"
   ]
  },
  {
   "cell_type": "code",
   "execution_count": 2,
   "id": "muslim-event",
   "metadata": {
    "ExecuteTime": {
     "end_time": "2021-09-19T04:07:42.636481Z",
     "start_time": "2021-09-19T04:07:42.620858Z"
    }
   },
   "outputs": [],
   "source": [
    "#Utilities to be used.\n",
    "sqrt = lambda r: r**(0.5)\n",
    "mean = lambda lst: sum(lst)/len(lst)   #Sample Mean\n",
    "var = lambda lst,mu: sum([(x-mu)**2 for x in lst])/(len(lst)-1)   #Sample Variance\n",
    "style_df = lambda df: df.head(5).style.set_table_styles(\n",
    "    [{\n",
    "        'selector':\n",
    "        'th',\n",
    "        'props': [('background', '#FFFEE3'), ('color', 'black'),\n",
    "                  ('font-family', 'verdana')]\n",
    "    }, {\n",
    "        'selector': 'td',\n",
    "        'props': [('font-family', 'verdana')]\n",
    "    }, {\n",
    "        'selector': 'tr:nth-of-type(odd)',\n",
    "        'props': [('background', '#ADD8E6')]\n",
    "    }, {\n",
    "        'selector': 'tr:nth-of-type(even)',\n",
    "        'props': [('background', 'white')]\n",
    "    }, {\n",
    "        'selector': 'tr:hover',\n",
    "        'props': [('background-color', '#FFFEE3')]\n",
    "    }])\n",
    "pd.set_option('max_rows', None)\n"
   ]
  },
  {
   "cell_type": "code",
   "execution_count": 3,
   "id": "enabling-prayer",
   "metadata": {
    "ExecuteTime": {
     "end_time": "2021-09-19T04:07:46.154501Z",
     "start_time": "2021-09-19T04:07:42.636481Z"
    }
   },
   "outputs": [
    {
     "data": {
      "text/html": [
       "<style  type=\"text/css\" >\n",
       "    #T_daf21_ th {\n",
       "          background: #FFFEE3;\n",
       "          color: black;\n",
       "          font-family: verdana;\n",
       "    }    #T_daf21_ td {\n",
       "          font-family: verdana;\n",
       "    }    #T_daf21_ tr:nth-of-type(odd) {\n",
       "          background: #ADD8E6;\n",
       "    }    #T_daf21_ tr:nth-of-type(even) {\n",
       "          background: white;\n",
       "    }    #T_daf21_ tr:hover {\n",
       "          background-color: #FFFEE3;\n",
       "    }</style><table id=\"T_daf21_\" ><thead>    <tr>        <th class=\"blank level0\" ></th>        <th class=\"col_heading level0 col0\" >X</th>        <th class=\"col_heading level0 col1\" >Y</th>    </tr></thead><tbody>\n",
       "                <tr>\n",
       "                        <th id=\"T_daf21_level0_row0\" class=\"row_heading level0 row0\" >0</th>\n",
       "                        <td id=\"T_daf21_row0_col0\" class=\"data row0 col0\" >11.046971</td>\n",
       "                        <td id=\"T_daf21_row0_col1\" class=\"data row0 col1\" >17.451000</td>\n",
       "            </tr>\n",
       "            <tr>\n",
       "                        <th id=\"T_daf21_level0_row1\" class=\"row_heading level0 row1\" >1</th>\n",
       "                        <td id=\"T_daf21_row1_col0\" class=\"data row1 col0\" >7.931476</td>\n",
       "                        <td id=\"T_daf21_row1_col1\" class=\"data row1 col1\" >10.458889</td>\n",
       "            </tr>\n",
       "            <tr>\n",
       "                        <th id=\"T_daf21_level0_row2\" class=\"row_heading level0 row2\" >2</th>\n",
       "                        <td id=\"T_daf21_row2_col0\" class=\"data row2 col0\" >10.489960</td>\n",
       "                        <td id=\"T_daf21_row2_col1\" class=\"data row2 col1\" >16.313118</td>\n",
       "            </tr>\n",
       "            <tr>\n",
       "                        <th id=\"T_daf21_level0_row3\" class=\"row_heading level0 row3\" >3</th>\n",
       "                        <td id=\"T_daf21_row3_col0\" class=\"data row3 col0\" >10.993082</td>\n",
       "                        <td id=\"T_daf21_row3_col1\" class=\"data row3 col1\" >6.999862</td>\n",
       "            </tr>\n",
       "            <tr>\n",
       "                        <th id=\"T_daf21_level0_row4\" class=\"row_heading level0 row4\" >4</th>\n",
       "                        <td id=\"T_daf21_row4_col0\" class=\"data row4 col0\" >9.485375</td>\n",
       "                        <td id=\"T_daf21_row4_col1\" class=\"data row4 col1\" >17.917017</td>\n",
       "            </tr>\n",
       "    </tbody></table>"
      ],
      "text/plain": [
       "<pandas.io.formats.style.Styler at 0x17b954fe190>"
      ]
     },
     "execution_count": 3,
     "metadata": {},
     "output_type": "execute_result"
    }
   ],
   "source": [
    "data_frame = pd.read_csv(r'Q4.csv')\n",
    "data_frame.dropna()\n",
    "style_df(data_frame)"
   ]
  },
  {
   "cell_type": "code",
   "execution_count": 4,
   "id": "celtic-broadcasting",
   "metadata": {
    "ExecuteTime": {
     "end_time": "2021-09-19T04:07:46.170118Z",
     "start_time": "2021-09-19T04:07:46.154501Z"
    }
   },
   "outputs": [],
   "source": [
    "X = data_frame['X'].tolist()\n",
    "Y = data_frame['Y'].tolist()"
   ]
  },
  {
   "cell_type": "markdown",
   "id": "solar-sweden",
   "metadata": {},
   "source": [
    "## MLE method"
   ]
  },
  {
   "cell_type": "markdown",
   "id": "quarterly-swiss",
   "metadata": {},
   "source": [
    "### Underlying Math\n",
    "\n",
    "* Let us assume that a random variable X has a Gaussian distribution whose parameters $\\mu$ and $\\sigma$ are unknown to us.\n",
    "* Now, consider $n-$points drawn *i.i.d.* from such a distribution.\n",
    "* It is reasonable to assume that the parameters that maximizes the likelihood of observing the $n-$points drawn above are the actual parameters of the underlying distribution. For $\\Theta = \\{\\mu, \\sigma\\}$ we have,\n",
    "$$\\Theta_{MLE} = argmax_{\\Theta}  P(X = x_1,X = x_2,\\dots,X = x_n ; \\Theta) $$\n",
    "* Since the samples are *i.i.d.*,\n",
    "$$\\Theta_{MLE} =argmax_{\\Theta} \\prod_{i=1}^{n} P(X = x_i ; \\Theta) $$\n",
    "* We can apply $log$ to likelihood and since it is an monotonically increasing function the estimates remain the same,\n",
    "$$\\Theta_{MLE} =argmax_{\\Theta} \\sum_{i=1}^{n} P(X = x_i ; \\Theta)$$\n",
    "* Substituting the **PDF** of Normal Distribution we get,\n",
    "$$\\Theta_{MLE} =argmax_{\\Theta}\\sum_{i=1}^{n} \\left[ -\\frac{1}{2}\\log{2\\pi} - \\log{\\sigma} - \\frac{(x_i - \\mu)^2}{2\\sigma^2}\\right]$$ \n",
    "* Maximizing w.r.t. $\\mu$ we get,\n",
    "$$\\mu_{MLE} = \\frac{1}{n} \\sum_{i=1}^{n} x_i$$\n",
    "* Similarly we could also maximise w.r.t. $\\sigma$,\n",
    "$$\\sigma_{MLE} = \\sqrt{\\frac{1}{n}\\sum_{i=1}^{n}(x_i - \\mu_{MLE})^2}$$"
   ]
  },
  {
   "cell_type": "markdown",
   "id": "perfect-personal",
   "metadata": {},
   "source": [
    "### Math to code"
   ]
  },
  {
   "cell_type": "code",
   "execution_count": 5,
   "id": "forward-campbell",
   "metadata": {
    "ExecuteTime": {
     "end_time": "2021-09-19T04:07:46.270361Z",
     "start_time": "2021-09-19T04:07:46.170118Z"
    }
   },
   "outputs": [],
   "source": [
    "#A class that given a list of observed data points estimates the parameters of the underlying dist using MLE.\n",
    "class Max_Lklhd_Estimator:\n",
    "    def __init__(self, ob_data, dist):\n",
    "        self.X = ob_data\n",
    "        self.dist = dist\n",
    "        self.params = {}\n",
    "\n",
    "    def get_params(self):\n",
    "        if self.dist == 'Gaussian':  #Assumption that the underlying dist is Gaussian.\n",
    "            n = len(self.X)\n",
    "            mu = mean(self.X)\n",
    "            self.params['Mean'] = mu\n",
    "            rad = sum([(x - mu)**2 for x in self.X]) / n\n",
    "            self.params['Std'] = sqrt(rad)\n",
    "        else:\n",
    "            pass\n",
    "        return self.params"
   ]
  },
  {
   "cell_type": "markdown",
   "id": "placed-houston",
   "metadata": {},
   "source": [
    "## Method of Moments\n",
    "### Underlying Math\n",
    "\n",
    "* $\\mathbb{E}[X^k]$ represents the $k-th$ theoretical moment of the distribution of the distribution of $X$ about the origin.\n",
    "* The $k-th$ sample (n-samples) moment ($\\mathbb{M}_{k}$) can be calculated using, $$\\mathbb{M}_{k} = \\frac{1}{n}\\sum_{i=1}^{n} X_{i}^{k} $$\n",
    "* In Methods of Moments, both of these moments are assumed to be the same.\n",
    "* Therefore, mean of the distribution is equal to the sample mean.\n",
    "* Standard Deviation of the distributor can be calculated using,\n",
    "\\begin{equation*}\n",
    "\\sigma = \\sqrt{\\mathbb{E}[X^2] - \\mathbb{E}[X]^{2}}= \\sqrt{\\mathbb{M}_{2} - \\mathbb{M}_{1}^{2}}\n",
    "\\end{equation*}\n",
    "* In case of a Gaussian r.v., both MLE and MoM yield the same results."
   ]
  },
  {
   "cell_type": "markdown",
   "id": "promising-investing",
   "metadata": {},
   "source": [
    "### Math to code"
   ]
  },
  {
   "cell_type": "code",
   "execution_count": 6,
   "id": "closed-timothy",
   "metadata": {
    "ExecuteTime": {
     "end_time": "2021-09-19T04:07:46.355061Z",
     "start_time": "2021-09-19T04:07:46.270361Z"
    }
   },
   "outputs": [],
   "source": [
    "class MoM_Estimator:\n",
    "    def __init__(self, ob_data, num_moments, dist):\n",
    "        self.X = ob_data\n",
    "        self.dist = dist\n",
    "        self.no_mom = num_moments + 1  #Number of moments to be estimated.\n",
    "        self.params = {}\n",
    "\n",
    "    def get_moments(self):\n",
    "        N = len(self.X)\n",
    "        moments = {}\n",
    "        for moment in range(1, self.no_mom):\n",
    "            moments[str(moment)] = sum([x**moment for x in self.X]) / N\n",
    "        return moments\n",
    "\n",
    "    def get_params(self):\n",
    "        Moments = self.get_moments()\n",
    "        if self.dist == 'Gaussian':\n",
    "            M_1 = Moments['1']\n",
    "            M_2 = Moments['2']\n",
    "            self.params['Mean'] = M_1\n",
    "            self.params['Std'] = sqrt(M_2 - (M_1**2))\n",
    "        else:\n",
    "            pass\n",
    "        return self.params"
   ]
  },
  {
   "cell_type": "markdown",
   "id": "congressional-nigeria",
   "metadata": {
    "ExecuteTime": {
     "end_time": "2021-09-18T12:58:14.006707Z",
     "start_time": "2021-09-18T12:58:13.991081Z"
    }
   },
   "source": [
    "## Bootstrap Estimation Method\n",
    "* This is a non-parametric method that employs Monte Carlo technique to approximate the sampling distribution. \n",
    "* We draw $S$ samples of size $N$ from the the original dataset $\\mathcal{D}$ to use in the Monte-Carlo algorithm.\n",
    "* Let $\\mathcal{D} = \\{x_1,x_2,\\dots,x_n\\}$. In each bootstrap step, we draw samples with replacemnt from $\\mathcal{D}$ until we have another set of size $n$.\n",
    "* The probabilty of choosing any sample in a draw is $\\frac{1}{n}$ and consquently the probability of not choosing is $1 - \\frac{1}{n}$.\n",
    "* Therfore the probabilty of a sample being not selcted in any one of the n-draws is,\n",
    "$$P = \\left(1 - \\frac{1}{n}\\right)^n $$\n",
    "* For large n, \n",
    "$$\\lim_{n \\to \\infty}P =\\lim_{n \\to \\infty} \\left(1 - \\frac{1}{n}\\right)^n  = \\frac{1}{e}$$\n",
    "* Hence the average number of samples being used in each step of bootstrap is $\\left(1-\\frac{1}{e}\\right) \\approx 0.632$ of the total samples."
   ]
  },
  {
   "cell_type": "code",
   "execution_count": 7,
   "id": "vanilla-shadow",
   "metadata": {
    "ExecuteTime": {
     "end_time": "2021-09-19T04:07:46.470985Z",
     "start_time": "2021-09-19T04:07:46.355061Z"
    }
   },
   "outputs": [],
   "source": [
    "class Bootstrap_Estimator():\n",
    "    def __init__(self, ob_data, num_bootstrap_steps):\n",
    "        self.X = ob_data\n",
    "        self.B = num_bootstrap_steps\n",
    "        self.params = {}\n",
    "\n",
    "    def get_bootstrap_sample(self, X, S):\n",
    "        #A function that chooses with replacement a sample dataset of size S from D.\n",
    "        bootstrap_sample = [random.choice(X) for _ in self.X]\n",
    "        return bootstrap_sample\n",
    "\n",
    "    def get_params(self):\n",
    "        n = len(self.X)\n",
    "        sample_means = []\n",
    "        sample_std = []\n",
    "        random.seed(123)\n",
    "        for _ in range(self.B):\n",
    "            X_boot_sample = self.get_bootstrap_sample(self.X, n)\n",
    "            sample_means.append(mean(X_boot_sample))\n",
    "            sample_std.append(sqrt(var(X_boot_sample, sample_means[-1])))\n",
    "        self.params['Mean'] = mean(sample_means)\n",
    "        self.params['Std'] = mean(sample_std)\n",
    "        return self.params"
   ]
  },
  {
   "cell_type": "markdown",
   "id": "invalid-retail",
   "metadata": {},
   "source": [
    "## Results"
   ]
  },
  {
   "cell_type": "code",
   "execution_count": 8,
   "id": "amended-emperor",
   "metadata": {
    "ExecuteTime": {
     "end_time": "2021-09-19T04:07:46.618166Z",
     "start_time": "2021-09-19T04:07:46.470985Z"
    }
   },
   "outputs": [],
   "source": [
    "class Frequentist_Estimators(Max_Lklhd_Estimator, MoM_Estimator,\n",
    "                             Bootstrap_Estimator):\n",
    "    def __init__(self, dataset, specs):\n",
    "        self.names = [key for key in dataset.keys()]\n",
    "        self.data = [val for k, val in dataset.items()]\n",
    "        self.specs = specs\n",
    "        self.params = {}\n",
    "\n",
    "    def get_all_params(self):\n",
    "        D, N_m, N_b = self.specs  #D -> Type of dist, N_m->no of moments,N_b->no of bootsteps\n",
    "        for X, name in zip(self.data, self.names):\n",
    "            MLE = Max_Lklhd_Estimator(X, D)\n",
    "            MoM = MoM_Estimator(X, N_m, D)\n",
    "            Bootstrap = Bootstrap_Estimator(X, N_b)\n",
    "            for est_inst, estimator in zip([MLE, MoM, Bootstrap],\n",
    "                                           ['MLE', 'MoM', 'Bootstrap']):\n",
    "                self.params[name + '_' + estimator +\n",
    "                            '_estimate'] = est_inst.get_params()\n",
    "        return self.params"
   ]
  },
  {
   "cell_type": "code",
   "execution_count": 9,
   "id": "polish-recruitment",
   "metadata": {
    "ExecuteTime": {
     "end_time": "2021-09-19T04:07:46.934723Z",
     "start_time": "2021-09-19T04:07:46.618166Z"
    }
   },
   "outputs": [
    {
     "data": {
      "text/html": [
       "<style  type=\"text/css\" >\n",
       "    #T_66bf6_ th {\n",
       "          background: #FFFEE3;\n",
       "          color: black;\n",
       "          font-family: verdana;\n",
       "    }    #T_66bf6_ td {\n",
       "          font-family: verdana;\n",
       "    }    #T_66bf6_ tr:nth-of-type(odd) {\n",
       "          background: #ADD8E6;\n",
       "    }    #T_66bf6_ tr:nth-of-type(even) {\n",
       "          background: white;\n",
       "    }    #T_66bf6_ tr:hover {\n",
       "          background-color: #FFFEE3;\n",
       "    }</style><table id=\"T_66bf6_\" ><thead>    <tr>        <th class=\"blank level0\" ></th>        <th class=\"col_heading level0 col0\" >X_MLE_estimate</th>        <th class=\"col_heading level0 col1\" >X_MoM_estimate</th>        <th class=\"col_heading level0 col2\" >X_Bootstrap_estimate</th>        <th class=\"col_heading level0 col3\" >Y_MLE_estimate</th>        <th class=\"col_heading level0 col4\" >Y_MoM_estimate</th>        <th class=\"col_heading level0 col5\" >Y_Bootstrap_estimate</th>    </tr></thead><tbody>\n",
       "                <tr>\n",
       "                        <th id=\"T_66bf6_level0_row0\" class=\"row_heading level0 row0\" >Mean</th>\n",
       "                        <td id=\"T_66bf6_row0_col0\" class=\"data row0 col0\" >9.991867</td>\n",
       "                        <td id=\"T_66bf6_row0_col1\" class=\"data row0 col1\" >9.991867</td>\n",
       "                        <td id=\"T_66bf6_row0_col2\" class=\"data row0 col2\" >9.988125</td>\n",
       "                        <td id=\"T_66bf6_row0_col3\" class=\"data row0 col3\" >14.812310</td>\n",
       "                        <td id=\"T_66bf6_row0_col4\" class=\"data row0 col4\" >14.812310</td>\n",
       "                        <td id=\"T_66bf6_row0_col5\" class=\"data row0 col5\" >14.809416</td>\n",
       "            </tr>\n",
       "            <tr>\n",
       "                        <th id=\"T_66bf6_level0_row1\" class=\"row_heading level0 row1\" >Std</th>\n",
       "                        <td id=\"T_66bf6_row1_col0\" class=\"data row1 col0\" >1.974909</td>\n",
       "                        <td id=\"T_66bf6_row1_col1\" class=\"data row1 col1\" >1.974909</td>\n",
       "                        <td id=\"T_66bf6_row1_col2\" class=\"data row1 col2\" >1.973210</td>\n",
       "                        <td id=\"T_66bf6_row1_col3\" class=\"data row1 col3\" >4.908668</td>\n",
       "                        <td id=\"T_66bf6_row1_col4\" class=\"data row1 col4\" >4.908668</td>\n",
       "                        <td id=\"T_66bf6_row1_col5\" class=\"data row1 col5\" >4.913657</td>\n",
       "            </tr>\n",
       "    </tbody></table>"
      ],
      "text/plain": [
       "<pandas.io.formats.style.Styler at 0x17bd85d9b80>"
      ]
     },
     "execution_count": 9,
     "metadata": {},
     "output_type": "execute_result"
    }
   ],
   "source": [
    "dataset = {'X': X, 'Y': Y}  #X -> Dataset 1. Y -> Dataset 2.\n",
    "specs = ['Gaussian', 2, 100]\n",
    "ests_inst = Frequentist_Estimators(dataset, specs)\n",
    "param_df = pd.DataFrame(ests_inst.get_all_params())\n",
    "style_df(param_df)"
   ]
  },
  {
   "cell_type": "markdown",
   "id": "suspended-radius",
   "metadata": {},
   "source": [
    "# New Random Variables\n",
    "\n",
    "## Estimation of parameters directly from the dataset\n",
    "\n",
    "* The new random variables are defined by,\n",
    "\\begin{align*}\n",
    "W &= min\\{X,Y\\}\\\\\n",
    "V &=max\\{X,Y\\}\\\\\n",
    "A &= |X-Y| \\\\\n",
    "B &= |X| - |Y|\n",
    "\\end{align*}"
   ]
  },
  {
   "cell_type": "code",
   "execution_count": 10,
   "id": "absolute-prefix",
   "metadata": {
    "ExecuteTime": {
     "end_time": "2021-09-19T04:07:46.972496Z",
     "start_time": "2021-09-19T04:07:46.934723Z"
    }
   },
   "outputs": [
    {
     "data": {
      "text/html": [
       "<style  type=\"text/css\" >\n",
       "    #T_e2b54_ th {\n",
       "          background: #FFFEE3;\n",
       "          color: black;\n",
       "          font-family: verdana;\n",
       "    }    #T_e2b54_ td {\n",
       "          font-family: verdana;\n",
       "    }    #T_e2b54_ tr:nth-of-type(odd) {\n",
       "          background: #ADD8E6;\n",
       "    }    #T_e2b54_ tr:nth-of-type(even) {\n",
       "          background: white;\n",
       "    }    #T_e2b54_ tr:hover {\n",
       "          background-color: #FFFEE3;\n",
       "    }</style><table id=\"T_e2b54_\" ><thead>    <tr>        <th class=\"blank level0\" ></th>        <th class=\"col_heading level0 col0\" >X</th>        <th class=\"col_heading level0 col1\" >Y</th>        <th class=\"col_heading level0 col2\" >W</th>        <th class=\"col_heading level0 col3\" >V</th>        <th class=\"col_heading level0 col4\" >A</th>        <th class=\"col_heading level0 col5\" >B</th>    </tr></thead><tbody>\n",
       "                <tr>\n",
       "                        <th id=\"T_e2b54_level0_row0\" class=\"row_heading level0 row0\" >0</th>\n",
       "                        <td id=\"T_e2b54_row0_col0\" class=\"data row0 col0\" >11.046971</td>\n",
       "                        <td id=\"T_e2b54_row0_col1\" class=\"data row0 col1\" >17.451000</td>\n",
       "                        <td id=\"T_e2b54_row0_col2\" class=\"data row0 col2\" >11.046971</td>\n",
       "                        <td id=\"T_e2b54_row0_col3\" class=\"data row0 col3\" >17.451000</td>\n",
       "                        <td id=\"T_e2b54_row0_col4\" class=\"data row0 col4\" >6.404028</td>\n",
       "                        <td id=\"T_e2b54_row0_col5\" class=\"data row0 col5\" >-6.404028</td>\n",
       "            </tr>\n",
       "            <tr>\n",
       "                        <th id=\"T_e2b54_level0_row1\" class=\"row_heading level0 row1\" >1</th>\n",
       "                        <td id=\"T_e2b54_row1_col0\" class=\"data row1 col0\" >7.931476</td>\n",
       "                        <td id=\"T_e2b54_row1_col1\" class=\"data row1 col1\" >10.458889</td>\n",
       "                        <td id=\"T_e2b54_row1_col2\" class=\"data row1 col2\" >7.931476</td>\n",
       "                        <td id=\"T_e2b54_row1_col3\" class=\"data row1 col3\" >10.458889</td>\n",
       "                        <td id=\"T_e2b54_row1_col4\" class=\"data row1 col4\" >2.527414</td>\n",
       "                        <td id=\"T_e2b54_row1_col5\" class=\"data row1 col5\" >-2.527414</td>\n",
       "            </tr>\n",
       "            <tr>\n",
       "                        <th id=\"T_e2b54_level0_row2\" class=\"row_heading level0 row2\" >2</th>\n",
       "                        <td id=\"T_e2b54_row2_col0\" class=\"data row2 col0\" >10.489960</td>\n",
       "                        <td id=\"T_e2b54_row2_col1\" class=\"data row2 col1\" >16.313118</td>\n",
       "                        <td id=\"T_e2b54_row2_col2\" class=\"data row2 col2\" >10.489960</td>\n",
       "                        <td id=\"T_e2b54_row2_col3\" class=\"data row2 col3\" >16.313118</td>\n",
       "                        <td id=\"T_e2b54_row2_col4\" class=\"data row2 col4\" >5.823158</td>\n",
       "                        <td id=\"T_e2b54_row2_col5\" class=\"data row2 col5\" >-5.823158</td>\n",
       "            </tr>\n",
       "            <tr>\n",
       "                        <th id=\"T_e2b54_level0_row3\" class=\"row_heading level0 row3\" >3</th>\n",
       "                        <td id=\"T_e2b54_row3_col0\" class=\"data row3 col0\" >10.993082</td>\n",
       "                        <td id=\"T_e2b54_row3_col1\" class=\"data row3 col1\" >6.999862</td>\n",
       "                        <td id=\"T_e2b54_row3_col2\" class=\"data row3 col2\" >6.999862</td>\n",
       "                        <td id=\"T_e2b54_row3_col3\" class=\"data row3 col3\" >10.993082</td>\n",
       "                        <td id=\"T_e2b54_row3_col4\" class=\"data row3 col4\" >3.993220</td>\n",
       "                        <td id=\"T_e2b54_row3_col5\" class=\"data row3 col5\" >3.993220</td>\n",
       "            </tr>\n",
       "            <tr>\n",
       "                        <th id=\"T_e2b54_level0_row4\" class=\"row_heading level0 row4\" >4</th>\n",
       "                        <td id=\"T_e2b54_row4_col0\" class=\"data row4 col0\" >9.485375</td>\n",
       "                        <td id=\"T_e2b54_row4_col1\" class=\"data row4 col1\" >17.917017</td>\n",
       "                        <td id=\"T_e2b54_row4_col2\" class=\"data row4 col2\" >9.485375</td>\n",
       "                        <td id=\"T_e2b54_row4_col3\" class=\"data row4 col3\" >17.917017</td>\n",
       "                        <td id=\"T_e2b54_row4_col4\" class=\"data row4 col4\" >8.431642</td>\n",
       "                        <td id=\"T_e2b54_row4_col5\" class=\"data row4 col5\" >-8.431642</td>\n",
       "            </tr>\n",
       "    </tbody></table>"
      ],
      "text/plain": [
       "<pandas.io.formats.style.Styler at 0x17bd85edeb0>"
      ]
     },
     "execution_count": 10,
     "metadata": {},
     "output_type": "execute_result"
    }
   ],
   "source": [
    "data_frame['W'] = data_frame[['X', 'Y']].min(axis=1)\n",
    "data_frame['V'] = data_frame[['X', 'Y']].max(axis=1)\n",
    "data_frame['A'] = data_frame['V'] - data_frame['W']\n",
    "data_frame['B'] = data_frame['X'].abs() - data_frame['Y'].abs()\n",
    "style_df(data_frame)"
   ]
  },
  {
   "cell_type": "code",
   "execution_count": 11,
   "id": "injured-facility",
   "metadata": {
    "ExecuteTime": {
     "end_time": "2021-09-19T04:07:47.057096Z",
     "start_time": "2021-09-19T04:07:46.972496Z"
    }
   },
   "outputs": [],
   "source": [
    "dataset = {}\n",
    "[V, W, A, B] = [data_frame[col].tolist() for col in ['V', 'W', 'A', 'B']]\n",
    "for key, val in zip(['V', 'W', 'A', 'B'], [V, W, A, B]):\n",
    "    dataset[key] = val"
   ]
  },
  {
   "cell_type": "code",
   "execution_count": 12,
   "id": "designing-estonia",
   "metadata": {
    "ExecuteTime": {
     "end_time": "2021-09-19T04:07:47.658772Z",
     "start_time": "2021-09-19T04:07:47.057096Z"
    }
   },
   "outputs": [
    {
     "data": {
      "text/html": [
       "<style  type=\"text/css\" >\n",
       "    #T_b9054_ th {\n",
       "          background: #FFFEE3;\n",
       "          color: black;\n",
       "          font-family: verdana;\n",
       "    }    #T_b9054_ td {\n",
       "          font-family: verdana;\n",
       "    }    #T_b9054_ tr:nth-of-type(odd) {\n",
       "          background: #ADD8E6;\n",
       "    }    #T_b9054_ tr:nth-of-type(even) {\n",
       "          background: white;\n",
       "    }    #T_b9054_ tr:hover {\n",
       "          background-color: #FFFEE3;\n",
       "    }</style><table id=\"T_b9054_\" ><thead>    <tr>        <th class=\"blank level0\" ></th>        <th class=\"col_heading level0 col0\" >V_MLE_estimate</th>        <th class=\"col_heading level0 col1\" >V_MoM_estimate</th>        <th class=\"col_heading level0 col2\" >V_Bootstrap_estimate</th>        <th class=\"col_heading level0 col3\" >W_MLE_estimate</th>        <th class=\"col_heading level0 col4\" >W_MoM_estimate</th>        <th class=\"col_heading level0 col5\" >W_Bootstrap_estimate</th>        <th class=\"col_heading level0 col6\" >A_MLE_estimate</th>        <th class=\"col_heading level0 col7\" >A_MoM_estimate</th>        <th class=\"col_heading level0 col8\" >A_Bootstrap_estimate</th>        <th class=\"col_heading level0 col9\" >B_MLE_estimate</th>        <th class=\"col_heading level0 col10\" >B_MoM_estimate</th>        <th class=\"col_heading level0 col11\" >B_Bootstrap_estimate</th>    </tr></thead><tbody>\n",
       "                <tr>\n",
       "                        <th id=\"T_b9054_level0_row0\" class=\"row_heading level0 row0\" >Mean</th>\n",
       "                        <td id=\"T_b9054_row0_col0\" class=\"data row0 col0\" >15.341197</td>\n",
       "                        <td id=\"T_b9054_row0_col1\" class=\"data row0 col1\" >15.341197</td>\n",
       "                        <td id=\"T_b9054_row0_col2\" class=\"data row0 col2\" >15.333868</td>\n",
       "                        <td id=\"T_b9054_row0_col3\" class=\"data row0 col3\" >9.462981</td>\n",
       "                        <td id=\"T_b9054_row0_col4\" class=\"data row0 col4\" >9.462981</td>\n",
       "                        <td id=\"T_b9054_row0_col5\" class=\"data row0 col5\" >9.463672</td>\n",
       "                        <td id=\"T_b9054_row0_col6\" class=\"data row0 col6\" >5.878216</td>\n",
       "                        <td id=\"T_b9054_row0_col7\" class=\"data row0 col7\" >5.878216</td>\n",
       "                        <td id=\"T_b9054_row0_col8\" class=\"data row0 col8\" >5.870196</td>\n",
       "                        <td id=\"T_b9054_row0_col9\" class=\"data row0 col9\" >-4.836710</td>\n",
       "                        <td id=\"T_b9054_row0_col10\" class=\"data row0 col10\" >-4.836710</td>\n",
       "                        <td id=\"T_b9054_row0_col11\" class=\"data row0 col11\" >-4.835973</td>\n",
       "            </tr>\n",
       "            <tr>\n",
       "                        <th id=\"T_b9054_level0_row1\" class=\"row_heading level0 row1\" >Std</th>\n",
       "                        <td id=\"T_b9054_row1_col0\" class=\"data row1 col0\" >4.167737</td>\n",
       "                        <td id=\"T_b9054_row1_col1\" class=\"data row1 col1\" >4.167737</td>\n",
       "                        <td id=\"T_b9054_row1_col2\" class=\"data row1 col2\" >4.184437</td>\n",
       "                        <td id=\"T_b9054_row1_col3\" class=\"data row1 col3\" >2.228650</td>\n",
       "                        <td id=\"T_b9054_row1_col4\" class=\"data row1 col4\" >2.228650</td>\n",
       "                        <td id=\"T_b9054_row1_col5\" class=\"data row1 col5\" >2.218522</td>\n",
       "                        <td id=\"T_b9054_row1_col6\" class=\"data row1 col6\" >4.207327</td>\n",
       "                        <td id=\"T_b9054_row1_col7\" class=\"data row1 col7\" >4.207327</td>\n",
       "                        <td id=\"T_b9054_row1_col8\" class=\"data row1 col8\" >4.218908</td>\n",
       "                        <td id=\"T_b9054_row1_col9\" class=\"data row1 col9\" >5.339269</td>\n",
       "                        <td id=\"T_b9054_row1_col10\" class=\"data row1 col10\" >5.339269</td>\n",
       "                        <td id=\"T_b9054_row1_col11\" class=\"data row1 col11\" >5.343136</td>\n",
       "            </tr>\n",
       "    </tbody></table>"
      ],
      "text/plain": [
       "<pandas.io.formats.style.Styler at 0x17bd85d9e20>"
      ]
     },
     "execution_count": 12,
     "metadata": {},
     "output_type": "execute_result"
    }
   ],
   "source": [
    "specs = ['Gaussian', 2, 100]\n",
    "ests_inst = Frequentist_Estimators(dataset, specs)\n",
    "param_df = pd.DataFrame(ests_inst.get_all_params())\n",
    "style_df(param_df)"
   ]
  }
 ],
 "metadata": {
  "kernelspec": {
   "display_name": "Python 3",
   "language": "python",
   "name": "python3"
  },
  "language_info": {
   "codemirror_mode": {
    "name": "ipython",
    "version": 3
   },
   "file_extension": ".py",
   "mimetype": "text/x-python",
   "name": "python",
   "nbconvert_exporter": "python",
   "pygments_lexer": "ipython3",
   "version": "3.8.8"
  },
  "latex_envs": {
   "LaTeX_envs_menu_present": true,
   "autoclose": false,
   "autocomplete": true,
   "bibliofile": "biblio.bib",
   "cite_by": "apalike",
   "current_citInitial": 1,
   "eqLabelWithNumbers": true,
   "eqNumInitial": 1,
   "hotkeys": {
    "equation": "Ctrl-E",
    "itemize": "Ctrl-I"
   },
   "labels_anchors": false,
   "latex_user_defs": false,
   "report_style_numbering": false,
   "user_envs_cfg": false
  },
  "toc": {
   "base_numbering": 1,
   "nav_menu": {},
   "number_sections": true,
   "sideBar": true,
   "skip_h1_title": false,
   "title_cell": "Table of Contents",
   "title_sidebar": "Contents",
   "toc_cell": true,
   "toc_position": {},
   "toc_section_display": true,
   "toc_window_display": false
  }
 },
 "nbformat": 4,
 "nbformat_minor": 5
}
